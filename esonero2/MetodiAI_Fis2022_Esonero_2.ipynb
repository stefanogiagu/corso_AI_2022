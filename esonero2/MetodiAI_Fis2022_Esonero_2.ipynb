{
  "nbformat": 4,
  "nbformat_minor": 0,
  "metadata": {
    "colab": {
      "name": "MetodiAI_Fis2022_Esonero_2.ipynb",
      "provenance": [],
      "collapsed_sections": [],
      "authorship_tag": "ABX9TyNGPyA2UcFJCVZMtqqQA2L/",
      "include_colab_link": true
    },
    "kernelspec": {
      "name": "python3",
      "display_name": "Python 3"
    },
    "language_info": {
      "name": "python"
    }
  },
  "cells": [
    {
      "cell_type": "markdown",
      "metadata": {
        "id": "view-in-github",
        "colab_type": "text"
      },
      "source": [
        "<a href=\"https://colab.research.google.com/github/stefanogiagu/corso_AI_2022/blob/main/esonero2/MetodiAI_Fis2022_Esonero_2.ipynb\" target=\"_parent\"><img src=\"https://colab.research.google.com/assets/colab-badge.svg\" alt=\"Open In Colab\"/></a>"
      ]
    },
    {
      "cell_type": "markdown",
      "metadata": {
        "id": "xM8c-0uxqDVB"
      },
      "source": [
        "# Seconda Prova Esonero - Metodi AI e Machine Learning per la fisica \n",
        "### 08.06.2021 - AA 2021/22 - Docente: S. Giagu\n",
        "\n",
        "\n",
        "> **Regole:**\n",
        "\n",
        "*   **tempo a disposizione:** 1h45'\n",
        "\n",
        "*   compilare con i vostri dati i campi della cella che segue e poi eseguire la cella verificando che i dati printati corrispondano\n",
        "*   risolvere i quesiti/compiti indicati nella cella *Descrizione del compito* usando questo notebook \n",
        "*   una volta completato il compito sottomettere il notebook nel apposito folder sul sito e-learning del corso disponibile al link: <p>\n",
        "[consegna esonero](https://elearning.uniroma1.it/mod/assign/view.php?id=483473) <p>\n",
        "NOTA BENE: una volta sottomesso il notebook non sono più possibili ulteriori modifiche"
      ]
    },
    {
      "cell_type": "code",
      "metadata": {
        "cellView": "form",
        "id": "cAUd9VHBqlPh",
        "colab": {
          "base_uri": "https://localhost:8080/"
        },
        "outputId": "5c53792a-c341-4279-88e5-5e547bd09b17"
      },
      "source": [
        "#@ Dati Personali\n",
        "import os\n",
        "\n",
        "Nome = 'Stefano'  #@param {type: \"string\"}\n",
        "Cognome = 'Giagu' #@param {type: \"string\"}\n",
        "NumeroMatricola = 12345678 #@param {type: \"number\"}\n",
        "\n",
        "\n",
        "if NumeroMatricola == 12345678:\n",
        "  print('\\033[1;31m Inserisci il numero di matricola corretto!!!!') \n",
        "else:\n",
        "  print('Downloading datasets')\n",
        "  !rm -rf diffr_data.npz\n",
        "  !wget --load-cookies /tmp/cookies.txt \"https://docs.google.com/uc?export=download&confirm=$(wget --quiet --save-cookies /tmp/cookies.txt --keep-session-cookies --no-check-certificate 'https://docs.google.com/uc?export=download&id=1hbTn7GACjEG-N4wGUCKojqlDBHr4QQ8x' -O- | sed -rn 's/.*confirm=([1-9A-Za-z_]+).*/\\1\\n/p')&id=1hbTn7GACjEG-N4wGUCKojqlDBHr4QQ8x\" -O diffr_data.npz && rm -rf /tmp/cookies.txt\n",
        "  print('Done')"
      ],
      "execution_count": null,
      "outputs": [
        {
          "output_type": "stream",
          "name": "stdout",
          "text": [
            "\u001b[1;31m Inserisci il numero di matricola corretto!!!!\n"
          ]
        }
      ]
    },
    {
      "cell_type": "markdown",
      "metadata": {
        "id": "TNv4Mq5jrOS5"
      },
      "source": [
        "# Descrizione del compito:\n",
        "\n",
        "### Dataset:\n",
        "\n",
        "il dataset fornito è costituito da un file formato *.npz* (numpy compresso): *Ddiffr_datanpz*\n",
        "*   contiene in formato numpy 2 array: *X*, e *Y* di shape:\n",
        "\n",
        "```\n",
        "import numpy as np\n",
        "fil = np.load('diffr_data.npz')\n",
        "X = fil['X']\n",
        "Y = fil['Y']\n",
        "print(X.shape)\n",
        "print(Y.shape)\n",
        "\n",
        "X shape :  (3000, 200, 5)\n",
        "Y shape :  (3000,)\n",
        "```\n",
        "\n",
        "*X* contiene immagini di dimensione (200,5) in scala di grigio di spettri di interferenza da doppia fenditura (includono effetti di rumore e risoluzione sperimentale), ottenuti per diversi valori del rapporto $\\frac{\\delta}{\\lambda}$ tra distanza tra le fedniture e lunghezza d'onda dell'onda sferica che investe le due fenditure.\n",
        "\n",
        "*Y* contiene i valori corrispondenti di $\\frac{\\delta}{\\lambda}$\n",
        "\n",
        "**Compiti:**\n",
        "\n",
        "0.   leggere in numpy i due array e analizzare le caratteristiche che si ritengono più significative del dataset, plottando 9 immagini scelte in modo random da *X* \n",
        "1.   addestrare una rete convoluzionale al task di predire il valore del target *Y* a partire dalle immagini e misurarne le prestazioni in modo opportuno\n",
        "2.   plottare l'andamento di $\\hat{Y}$ predetto vs $Y$ vero\n",
        "3.   provare ad allenare per la stessa task una rete densa che prenda in input solo la prima riga verticale delle immagini (e.g. $X[:,:,0]$, quindi un input piatto di dimensione 200), e confrontarne le prestazioni ottenute rispetto a quelle del punto 2 \n",
        "\n",
        "* commentare opportunamente i risultati ottenuti in ogni punto"
      ]
    },
    {
      "cell_type": "code",
      "metadata": {
        "id": "-04NQU3L2kId"
      },
      "source": [
        "# codice ..."
      ],
      "execution_count": null,
      "outputs": []
    }
  ]
}