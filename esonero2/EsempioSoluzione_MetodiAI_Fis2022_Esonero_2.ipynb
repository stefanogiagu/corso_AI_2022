{
  "nbformat": 4,
  "nbformat_minor": 0,
  "metadata": {
    "colab": {
      "name": "EsempioSoluzione_MetodiAI_Fis2022_Esonero_2.ipynb",
      "provenance": [],
      "collapsed_sections": [],
      "authorship_tag": "ABX9TyO4enNMsqsjh8OJlbR5a/OT",
      "include_colab_link": true
    },
    "kernelspec": {
      "name": "python3",
      "display_name": "Python 3"
    },
    "language_info": {
      "name": "python"
    },
    "accelerator": "GPU",
    "gpuClass": "standard"
  },
  "cells": [
    {
      "cell_type": "markdown",
      "metadata": {
        "id": "view-in-github",
        "colab_type": "text"
      },
      "source": [
        "<a href=\"https://colab.research.google.com/github/stefanogiagu/corso_AI_2022/blob/main/esonero2/EsempioSoluzione_MetodiAI_Fis2022_Esonero_2.ipynb\" target=\"_parent\"><img src=\"https://colab.research.google.com/assets/colab-badge.svg\" alt=\"Open In Colab\"/></a>"
      ]
    },
    {
      "cell_type": "markdown",
      "metadata": {
        "id": "xM8c-0uxqDVB"
      },
      "source": [
        "# Seconda Prova Esonero - Metodi AI e Machine Learning per la fisica \n",
        "### 08.06.2021 - AA 2021/22 - Docente: S. Giagu\n",
        "\n",
        "\n",
        "> **Regole:**\n",
        "\n",
        "*   **tempo a disposizione:** 1h45'\n",
        "\n",
        "*   compilare con i vostri dati i campi della cella che segue e poi eseguire la cella verificando che i dati printati corrispondano\n",
        "*   risolvere i quesiti/compiti indicati nella cella *Descrizione del compito* usando questo notebook \n",
        "*   una volta completato il compito sottomettere il notebook nel apposito folder sul sito e-learning del corso disponibile al link: <p>\n",
        "[consegna esonero](https://elearning.uniroma1.it/mod/assign/view.php?id=483473) <p>\n",
        "NOTA BENE: una volta sottomesso il notebook non sono più possibili ulteriori modifiche"
      ]
    },
    {
      "cell_type": "code",
      "metadata": {
        "cellView": "form",
        "id": "cAUd9VHBqlPh",
        "colab": {
          "base_uri": "https://localhost:8080/"
        },
        "outputId": "14e69ae8-b4ae-48fc-b8ac-31922c9b763c"
      },
      "source": [
        "#@ Dati Personali\n",
        "import os\n",
        "\n",
        "Nome = 'Stefano'  #@param {type: \"string\"}\n",
        "Cognome = 'Giagu' #@param {type: \"string\"}\n",
        "NumeroMatricola = 123456789 #@param {type: \"number\"}\n",
        "\n",
        "\n",
        "if NumeroMatricola == 12345678:\n",
        "  print('\\033[1;31m Inserisci il numero di matricola corretto!!!!') \n",
        "else:\n",
        "  print('Downloading datasets')\n",
        "  !rm -rf diffr_data.npz\n",
        "  !wget --load-cookies /tmp/cookies.txt \"https://docs.google.com/uc?export=download&confirm=$(wget --quiet --save-cookies /tmp/cookies.txt --keep-session-cookies --no-check-certificate 'https://docs.google.com/uc?export=download&id=1hbTn7GACjEG-N4wGUCKojqlDBHr4QQ8x' -O- | sed -rn 's/.*confirm=([1-9A-Za-z_]+).*/\\1\\n/p')&id=1hbTn7GACjEG-N4wGUCKojqlDBHr4QQ8x\" -O diffr_data.npz && rm -rf /tmp/cookies.txt\n",
        "  print('Done')"
      ],
      "execution_count": 3,
      "outputs": [
        {
          "output_type": "stream",
          "name": "stdout",
          "text": [
            "Downloading datasets\n",
            "--2022-06-21 19:15:35--  https://docs.google.com/uc?export=download&confirm=&id=1hbTn7GACjEG-N4wGUCKojqlDBHr4QQ8x\n",
            "Resolving docs.google.com (docs.google.com)... 108.177.126.101, 108.177.126.138, 108.177.126.139, ...\n",
            "Connecting to docs.google.com (docs.google.com)|108.177.126.101|:443... connected.\n",
            "HTTP request sent, awaiting response... 303 See Other\n",
            "Location: https://doc-0c-1o-docs.googleusercontent.com/docs/securesc/ha0ro937gcuc7l7deffksulhg5h7mbp1/ve1rgtrnkenqikdavql0qbu5087eprm3/1655838900000/03615031767846521878/*/1hbTn7GACjEG-N4wGUCKojqlDBHr4QQ8x?e=download [following]\n",
            "Warning: wildcards not supported in HTTP.\n",
            "--2022-06-21 19:15:36--  https://doc-0c-1o-docs.googleusercontent.com/docs/securesc/ha0ro937gcuc7l7deffksulhg5h7mbp1/ve1rgtrnkenqikdavql0qbu5087eprm3/1655838900000/03615031767846521878/*/1hbTn7GACjEG-N4wGUCKojqlDBHr4QQ8x?e=download\n",
            "Resolving doc-0c-1o-docs.googleusercontent.com (doc-0c-1o-docs.googleusercontent.com)... 173.194.79.132, 2a00:1450:4013:c05::84\n",
            "Connecting to doc-0c-1o-docs.googleusercontent.com (doc-0c-1o-docs.googleusercontent.com)|173.194.79.132|:443... connected.\n",
            "HTTP request sent, awaiting response... 200 OK\n",
            "Length: 24024490 (23M) [application/x-zip]\n",
            "Saving to: ‘diffr_data.npz’\n",
            "\n",
            "diffr_data.npz      100%[===================>]  22.91M  --.-KB/s    in 0.08s   \n",
            "\n",
            "2022-06-21 19:15:36 (305 MB/s) - ‘diffr_data.npz’ saved [24024490/24024490]\n",
            "\n",
            "Done\n"
          ]
        }
      ]
    },
    {
      "cell_type": "markdown",
      "metadata": {
        "id": "TNv4Mq5jrOS5"
      },
      "source": [
        "# Descrizione del compito:\n",
        "\n",
        "### Dataset:\n",
        "\n",
        "il dataset fornito è costituito da un file formato *.npz* (numpy compresso): *Ddiffr_datanpz*\n",
        "*   contiene in formato numpy 2 array: *X*, e *Y* di shape:\n",
        "\n",
        "```\n",
        "import numpy as np\n",
        "fil = np.load('diffr_data.npz')\n",
        "X = fil['X']\n",
        "Y = fil['Y']\n",
        "print(X.shape)\n",
        "print(Y.shape)\n",
        "\n",
        "X shape :  (3000, 200, 5)\n",
        "Y shape :  (3000,)\n",
        "```\n",
        "\n",
        "*X* contiene immagini di dimensione (200,5) in scala di grigio di spettri di interferenza da doppia fenditura (includono effetti di rumore e risoluzione sperimentale), ottenuti per diversi valori del rapporto $\\frac{\\delta}{\\lambda}$ tra distanza tra le fedniture e lunghezza d'onda dell'onda sferica che investe le due fenditure.\n",
        "\n",
        "*Y* contiene i valori corrispondenti di $\\frac{\\delta}{\\lambda}$\n",
        "\n",
        "**Compiti:**\n",
        "\n",
        "0.   leggere in numpy i due array e analizzare le caratteristiche che si ritengono più significative del dataset, plottando 9 immagini scelte in modo random da *X* \n",
        "1.   addestrare una rete convoluzionale al task di predire il valore del target *Y* a partire dalle immagini e misurarne le prestazioni in modo opportuno\n",
        "2.   plottare l'andamento di $\\hat{Y}$ predetto vs $Y$ vero\n",
        "3.   provare ad allenare per la stessa task una rete densa che prenda in input solo la prima riga verticale delle immagini (e.g. $X[:,:,0]$, quindi un input piatto di dimensione 200), e confrontarne le prestazioni ottenute rispetto a quelle del punto 2 \n",
        "\n",
        "* commentare opportunamente i risultati ottenuti in ogni punto"
      ]
    },
    {
      "cell_type": "code",
      "metadata": {
        "id": "-04NQU3L2kId"
      },
      "source": [
        "# codice ..."
      ],
      "execution_count": null,
      "outputs": []
    },
    {
      "cell_type": "code",
      "source": [
        "import numpy as np\n",
        "fil = np.load('diffr_data.npz')\n",
        "X = fil['X']\n",
        "Y = fil['Y']\n",
        "print(X.shape)\n",
        "print(Y.shape)\n"
      ],
      "metadata": {
        "colab": {
          "base_uri": "https://localhost:8080/"
        },
        "id": "py-7_Y7uGAVN",
        "outputId": "ff342c5a-88fe-4747-e298-e32c2bf2aa28"
      },
      "execution_count": 4,
      "outputs": [
        {
          "output_type": "stream",
          "name": "stdout",
          "text": [
            "(3000, 200, 5)\n",
            "(3000,)\n"
          ]
        }
      ]
    },
    {
      "cell_type": "code",
      "source": [
        "import matplotlib.pyplot as plt\n",
        "\n",
        "#plot di 9 immagini random del campione\n",
        "\n",
        "indici = np.random.randint(len(X), size=9)\n",
        "for idx in range(9):\n",
        "  plt.subplot(3,3,idx+1)\n",
        "  plt.imshow(X[indici[idx]], aspect='auto', origin='low')\n",
        "  plt.axis('off')\n",
        "plt.tight_layout()\n",
        "plt.show()"
      ],
      "metadata": {
        "colab": {
          "base_uri": "https://localhost:8080/",
          "height": 297
        },
        "id": "frDyqm6blVAq",
        "outputId": "9ea3444d-e56b-4fce-c557-99702b84a2c1"
      },
      "execution_count": 5,
      "outputs": [
        {
          "output_type": "display_data",
          "data": {
            "text/plain": [
              "<Figure size 432x288 with 9 Axes>"
            ],
            "image/png": "[encoded data removed]"
          },
          "metadata": {
            "needs_background": "light"
          }
        }
      ]
    },
    {
      "cell_type": "code",
      "source": [
        "# distribuzione del target\n",
        "\n",
        "_,_,_ = plt.hist(Y, bins=50)"
      ],
      "metadata": {
        "colab": {
          "base_uri": "https://localhost:8080/",
          "height": 265
        },
        "id": "daojMYnymLG3",
        "outputId": "e6ac5798-a37a-4343-92d8-710e72fd4f1d"
      },
      "execution_count": 6,
      "outputs": [
        {
          "output_type": "display_data",
          "data": {
            "text/plain": [
              "<Figure size 432x288 with 1 Axes>"
            ],
            "image/png": "[encoded data removed]"
          },
          "metadata": {
            "needs_background": "light"
          }
        }
      ]
    },
    {
      "cell_type": "code",
      "source": [
        "# statistica del campione\n",
        "\n",
        "print('X max: ', np.max(X))\n",
        "print('X min: ', np.min(X))\n",
        "print('Y max: ', np.max(Y))\n",
        "print('Y min: ', np.min(Y))\n",
        "\n",
        "print('X mean: ', np.mean(X))\n",
        "print('X std: ', np.std(X))\n",
        "print('Y mean: ', np.mean(Y))\n",
        "print('Y std: ', np.std(Y))"
      ],
      "metadata": {
        "colab": {
          "base_uri": "https://localhost:8080/"
        },
        "id": "9DxBsdLem6vz",
        "outputId": "6cfa4728-c83f-40e2-fb3e-8eeeaa484e60"
      },
      "execution_count": 7,
      "outputs": [
        {
          "output_type": "stream",
          "name": "stdout",
          "text": [
            "X max:  21.576121496098107\n",
            "X min:  0.0\n",
            "Y max:  39.97479332528447\n",
            "Y min:  0.40595185638141285\n",
            "X mean:  1.1685175874251137\n",
            "X std:  1.7133172821106781\n",
            "Y mean:  20.475890646005066\n",
            "Y std:  11.438735190359553\n"
          ]
        }
      ]
    },
    {
      "cell_type": "code",
      "source": [
        "# normalizzo il target tra -1 e 1 (per il target posso applicare la trasformazione all'intero dataset)\n",
        "\n",
        "Ynorm = 2*(Y-np.min(Y))/(np.max(Y)-np.min(Y))-1\n",
        "print('Ynorm max: ', np.max(Ynorm))\n",
        "print('Ynorm min: ', np.min(Ynorm))"
      ],
      "metadata": {
        "colab": {
          "base_uri": "https://localhost:8080/"
        },
        "id": "w3xv91rVmmuW",
        "outputId": "c2c9ae4e-1862-4061-af1c-927b77be1986"
      },
      "execution_count": 8,
      "outputs": [
        {
          "output_type": "stream",
          "name": "stdout",
          "text": [
            "Ynorm max:  1.0\n",
            "Ynorm min:  -1.0\n"
          ]
        }
      ]
    },
    {
      "cell_type": "code",
      "source": [
        "from sklearn.model_selection import train_test_split\n",
        "\n",
        "# divido il campione in train, validation e test\n",
        "train_to_test_ratio = 0.6\n",
        "\n",
        "X_train,X_test,Y_train,Y_test = train_test_split(X,Ynorm,train_size=0.7, shuffle=True, random_state=1234)\n",
        "X_test, X_vali, Y_test, Y_vali = train_test_split(X_test,Y_test,train_size=0.5, shuffle=True, random_state=1234)\n"
      ],
      "metadata": {
        "id": "O-sMPWvjpFaU"
      },
      "execution_count": 9,
      "outputs": []
    },
    {
      "cell_type": "code",
      "source": [
        "# normalizzo le feature di input in [0,1]\n",
        "\n",
        "X_train_n = (X_train-np.min(X_train))/(np.max(X_train)-np.min(X_train))\n",
        "X_vali_n = (X_vali-np.min(X_train))/(np.max(X_train)-np.min(X_train))\n",
        "X_test_n = (X_test-np.min(X_train))/(np.max(X_train)-np.min(X_train))\n",
        "print('X_train_n max: ', np.max(X_train_n))\n",
        "print('X_train_n min: ', np.min(X_train_n))\n",
        "print('X_vali_n max: ', np.max(X_vali_n))\n",
        "print('X_vali_n min: ', np.min(X_vali_n))\n",
        "print('X_test_n max: ', np.max(X_test_n))\n",
        "print('X_test_n min: ', np.min(X_test_n))"
      ],
      "metadata": {
        "colab": {
          "base_uri": "https://localhost:8080/"
        },
        "id": "M3hfjOWuoFac",
        "outputId": "72d5a422-09c8-4ef8-cd65-98fb69c53dbd"
      },
      "execution_count": 10,
      "outputs": [
        {
          "output_type": "stream",
          "name": "stdout",
          "text": [
            "X_train_n max:  1.0\n",
            "X_train_n min:  0.0\n",
            "X_vali_n max:  0.8679199412829782\n",
            "X_vali_n min:  0.0\n",
            "X_test_n max:  0.9679203612582316\n",
            "X_test_n min:  0.0\n"
          ]
        }
      ]
    },
    {
      "cell_type": "code",
      "source": [
        "import torch\n",
        "import torchvision\n",
        "from torchvision import datasets\n",
        "from torchvision.transforms import ToTensor\n",
        "from torch.utils.data import DataLoader\n",
        "from torch import nn\n",
        "from torch.utils.data import TensorDataset, DataLoader\n",
        "\n",
        "import torch.nn.functional as F"
      ],
      "metadata": {
        "id": "c9w6a36RGGnl"
      },
      "execution_count": 12,
      "outputs": []
    },
    {
      "cell_type": "code",
      "source": [
        "# dataset e dataloaders\n",
        "\n",
        "X_train_n = X_train_n.reshape((X_train_n.shape[0],200,5,1)) #aggiungo il canale come dimensione dummy richiesta da pytorch\n",
        "X_vali_n = X_vali_n.reshape((X_vali_n.shape[0],200,5,1))\n",
        "X_test_n = X_test_n.reshape((X_test_n.shape[0],200,5,1))\n",
        "\n",
        "X_train_pt=torch.Tensor(X_train_n).float()\n",
        "Y_train_pt=torch.Tensor(Y_train).float()\n",
        "\n",
        "X_vali_pt=torch.Tensor(X_vali_n).float()\n",
        "Y_vali_pt=torch.Tensor(Y_vali).float()\n",
        "\n",
        "X_test_pt=torch.Tensor(X_test_n).float()\n",
        "Y_test_pt=torch.Tensor(Y_test).float()\n",
        "\n",
        "X_train_pt = X_train_pt.permute((0,3,1,2)) #sposto la dimensione channel prima di quelle spaziali come richiesto da pytorch\n",
        "X_vali_pt = X_vali_pt.permute((0,3,1,2))\n",
        "X_test_pt = X_test_pt.permute((0,3,1,2))\n",
        "\n",
        "print(X_train_pt.shape)\n",
        "print(Y_train_pt.shape)\n",
        "print(X_vali_pt.shape)\n",
        "print(Y_vali_pt.shape)\n",
        "print(X_test_pt.shape)\n",
        "print(Y_test_pt.shape)\n",
        "\n",
        "train_dataset = TensorDataset(X_train_pt, Y_train_pt) #creo dataset\n",
        "vali_dataset = TensorDataset(X_vali_pt, Y_vali_pt)\n",
        "test_dataset = TensorDataset(X_test_pt, Y_test_pt)\n",
        "\n",
        "batch_size = 64\n",
        "dl = dict()\n",
        "dl['train'] = torch.utils.data.DataLoader(train_dataset, batch_size=batch_size, shuffle=True)\n",
        "dl['vali'] = torch.utils.data.DataLoader(vali_dataset, batch_size=batch_size, shuffle=True)\n",
        "dl['test'] = torch.utils.data.DataLoader(test_dataset, batch_size=1, shuffle=False)\n",
        "\n",
        "# test it\n",
        "a,b = next(iter(dl['train']))\n",
        "\n",
        "print(a.shape)\n",
        "print(b.shape)"
      ],
      "metadata": {
        "colab": {
          "base_uri": "https://localhost:8080/"
        },
        "id": "hz_82WTPGKNQ",
        "outputId": "a47de0dc-150f-46ed-b910-d9c3f5da39b0"
      },
      "execution_count": 13,
      "outputs": [
        {
          "output_type": "stream",
          "name": "stdout",
          "text": [
            "torch.Size([2100, 1, 200, 5])\n",
            "torch.Size([2100])\n",
            "torch.Size([450, 1, 200, 5])\n",
            "torch.Size([450])\n",
            "torch.Size([450, 1, 200, 5])\n",
            "torch.Size([450])\n",
            "torch.Size([64, 1, 200, 5])\n",
            "torch.Size([64])\n"
          ]
        }
      ]
    },
    {
      "cell_type": "code",
      "source": [
        "device = ('cuda' if torch.cuda.is_available() else 'cpu')"
      ],
      "metadata": {
        "id": "hRmVGeLMsGGM"
      },
      "execution_count": 14,
      "outputs": []
    },
    {
      "cell_type": "code",
      "source": [
        "# CNN model\n",
        "\n",
        "from torch import nn\n",
        "import torch.nn.functional as F\n",
        "\n",
        "class simpleCNN(nn.Module):\n",
        "  def __init__(self):\n",
        "    super(simpleCNN, self).__init__()\n",
        "\n",
        "    self.conv1 = nn.Conv2d(in_channels=1, out_channels=32, kernel_size=(3,2))\n",
        "    self.pool1 = nn.MaxPool2d(kernel_size=(3,1))\n",
        "\n",
        "    self.conv2 = nn.Conv2d(in_channels=32, out_channels=64, kernel_size=(3,2))\n",
        "    self.pool2 = nn.MaxPool2d(kernel_size=(3,1))\n",
        "\n",
        "    self.conv3 = nn.Conv2d(in_channels=64, out_channels=128, kernel_size=(3,2))\n",
        "    self.pool3 = nn.MaxPool2d(kernel_size=(3,1))\n",
        "\n",
        "    self.flatten = nn.Flatten() \n",
        "\n",
        "    self.drop1 = nn.Dropout(p=0.5) \n",
        "    self.fc1 = nn.Linear(in_features=1536, out_features=128)\n",
        "\n",
        "    self.drop2 = nn.Dropout(p=0.5)\n",
        "    self.fc2 = nn.Linear(in_features=128, out_features=128)\n",
        "\n",
        "    self.fc3 = nn.Linear(in_features=128, out_features=1)\n",
        "\n",
        "  def forward(self, x):\n",
        "    x = F.relu(self.conv1(x))\n",
        "    x = self.pool1(x)\n",
        "    x = F.relu(self.conv2(x))\n",
        "    x = self.pool2(x)\n",
        "    x = F.relu(self.conv3(x))\n",
        "    x = self.pool3(x)\n",
        "\n",
        "    x = self.flatten(x)\n",
        "\n",
        "    x = self.drop1(x)\n",
        "    x = F.relu(self.fc1(x))\n",
        "    x = self.drop2(x)\n",
        "    x = F.relu(self.fc2(x))\n",
        "    x = self.fc3(x) #uscita lineare per compito di regressione\n",
        "\n",
        "    return x\n",
        "  \n",
        "\n",
        "# istanziamento del modello\n",
        "model=simpleCNN()\n",
        "\n",
        "from torchsummary import summary\n",
        "if torch.cuda.is_available():\n",
        "  summary(model.cuda(), input_size=(1,200,5))\n",
        "else:\n",
        "  summary(model, input_size=(1, 200, 5))"
      ],
      "metadata": {
        "colab": {
          "base_uri": "https://localhost:8080/"
        },
        "id": "cNopNM0trHK-",
        "outputId": "0ec198c7-4785-4de9-e49a-0775644885e2"
      },
      "execution_count": 51,
      "outputs": [
        {
          "output_type": "stream",
          "name": "stdout",
          "text": [
            "----------------------------------------------------------------\n",
            "        Layer (type)               Output Shape         Param #\n",
            "================================================================\n",
            "            Conv2d-1           [-1, 32, 198, 4]             224\n",
            "         MaxPool2d-2            [-1, 32, 66, 4]               0\n",
            "            Conv2d-3            [-1, 64, 64, 3]          12,352\n",
            "         MaxPool2d-4            [-1, 64, 21, 3]               0\n",
            "            Conv2d-5           [-1, 128, 19, 2]          49,280\n",
            "         MaxPool2d-6            [-1, 128, 6, 2]               0\n",
            "           Flatten-7                 [-1, 1536]               0\n",
            "           Dropout-8                 [-1, 1536]               0\n",
            "            Linear-9                  [-1, 128]         196,736\n",
            "          Dropout-10                  [-1, 128]               0\n",
            "           Linear-11                  [-1, 128]          16,512\n",
            "           Linear-12                    [-1, 1]             129\n",
            "================================================================\n",
            "Total params: 275,233\n",
            "Trainable params: 275,233\n",
            "Non-trainable params: 0\n",
            "----------------------------------------------------------------\n",
            "Input size (MB): 0.00\n",
            "Forward/backward pass size (MB): 0.46\n",
            "Params size (MB): 1.05\n",
            "Estimated Total Size (MB): 1.51\n",
            "----------------------------------------------------------------\n"
          ]
        }
      ]
    },
    {
      "cell_type": "code",
      "source": [
        "# test\n",
        "a,b =next(iter(dl['train']))\n",
        "a=a.to(device)\n",
        "\n",
        "pred = model(a)\n",
        "print(pred.shape)\n"
      ],
      "metadata": {
        "colab": {
          "base_uri": "https://localhost:8080/"
        },
        "id": "jd-HFNmIszRk",
        "outputId": "2d9b18a4-e861-44ce-cc10-a896cf41b2d1"
      },
      "execution_count": 52,
      "outputs": [
        {
          "output_type": "stream",
          "name": "stdout",
          "text": [
            "torch.Size([64, 1])\n"
          ]
        }
      ]
    },
    {
      "cell_type": "code",
      "source": [
        "#loss (usiamo MSE)\n",
        "loss_func=torch.nn.MSELoss()\n",
        "\n",
        "#metrica (usiamo MAE)\n",
        "metric_func=torch.nn.L1Loss()\n",
        "\n",
        "#ottimizzatore\n",
        "lr = 1e-3\n",
        "opt=torch.optim.Adam(model.parameters(), lr=lr)"
      ],
      "metadata": {
        "id": "b8-y6Dg6s_79"
      },
      "execution_count": 53,
      "outputs": []
    },
    {
      "cell_type": "code",
      "source": [
        "class SaveBestModel:\n",
        "    def __init__(self, best_valid_loss=float('inf')):\n",
        "        self.best_valid_loss = best_valid_loss\n",
        "        \n",
        "    def __call__(self, current_valid_loss, epoch, model):\n",
        "        if current_valid_loss < self.best_valid_loss:\n",
        "            self.best_valid_loss = current_valid_loss\n",
        "            print(\"\\nFound new best validation loss: %f in epoch %i\" %(self.best_valid_loss, epoch+1))\n",
        "            print(\"Saving model...\")\n",
        "            torch.save(model, 'best_model.pt')\n",
        "\n",
        "save_model=SaveBestModel()"
      ],
      "metadata": {
        "id": "RAGsRdlStMaH"
      },
      "execution_count": 54,
      "outputs": []
    },
    {
      "cell_type": "code",
      "source": [
        "#Training\n",
        "import time\n",
        "\n",
        "save_model=SaveBestModel()\n",
        "model=simpleCNN()\n",
        "opt=torch.optim.Adam(model.parameters(), lr=lr)\n",
        "model=model.to(device)\n",
        "\n",
        "epochs=100\n",
        "\n",
        "hist_loss = []\n",
        "hist_metric=[]\n",
        "hist_vloss = []\n",
        "hist_vmetric=[]\n",
        "\n",
        "start_t=time.time()\n",
        "\n",
        "for epoch in range(epochs):\n",
        "  t0=time.time()\n",
        "\n",
        "  # training\n",
        "  model.train()\n",
        "  train_loss=0\n",
        "  train_metric=0\n",
        "  counter=0\n",
        "  for xb, yb in dl['train']:\n",
        "    counter += 1\n",
        "    xb=xb.to(device)\n",
        "    yb=yb.to(device)\n",
        "\n",
        "    pred=model(xb)\n",
        "    loss=loss_func(pred.view(-1), yb)\n",
        "    metric=metric_func(pred.view(-1), yb)\n",
        "\n",
        "    train_metric+=metric.item()\n",
        "    train_loss+=loss.item()\n",
        "\n",
        "    #update weights\n",
        "    opt.zero_grad()\n",
        "    loss.backward()\n",
        "    opt.step()\n",
        "\n",
        "  train_loss /=counter\n",
        "  train_metric/=counter\n",
        "  hist_loss.append(train_loss)\n",
        "  hist_metric.append(train_metric)\n",
        "\n",
        "  model.eval()\n",
        "  vali_loss=0\n",
        "  vali_metric=0\n",
        "  counter=0\n",
        "\n",
        "  with torch.no_grad():\n",
        "    for xb, yb in dl['vali']:\n",
        "      counter += 1\n",
        "      xb=xb.to(device)\n",
        "      yb=yb.to(device)\n",
        "      \n",
        "      pred=model(xb)\n",
        "\n",
        "      vloss=loss_func(pred.view(-1), yb)\n",
        "      vmetric=metric_func(pred.view(-1), yb)\n",
        "\n",
        "      vali_loss += vloss.item()\n",
        "      vali_metric += vmetric.item()\n",
        "\n",
        "\n",
        "  vali_loss /= counter\n",
        "  vali_metric /= counter\n",
        "  hist_vloss.append(vali_loss)\n",
        "  hist_vmetric.append(vali_metric)\n",
        "\n",
        "  elapsed_time = time.time()-t0\n",
        "  print(\"epoch: %d, time [s]: %.4f, train loss: %.6f, train mae: %.6f, vali loss: %.6f, vali mae: %.6f\"  %(epoch+1, elapsed_time, train_loss, train_metric ,vali_loss, vali_metric))\n",
        "  save_model(vali_loss, epoch, model)"
      ],
      "metadata": {
        "colab": {
          "base_uri": "https://localhost:8080/"
        },
        "id": "Zi74gzP9tSw6",
        "outputId": "38405843-50ff-45cf-ade3-35c3160a213d"
      },
      "execution_count": 55,
      "outputs": [
        {
          "output_type": "stream",
          "name": "stdout",
          "text": [
            "epoch: 1, time [s]: 0.6353, train loss: 0.306021, train mae: 0.477243, vali loss: 0.130485, vali mae: 0.292940\n",
            "\n",
            "Found new best validation loss: 0.130485 in epoch 1\n",
            "Saving model...\n",
            "epoch: 2, time [s]: 0.6355, train loss: 0.081730, train mae: 0.223880, vali loss: 0.034206, vali mae: 0.150142\n",
            "\n",
            "Found new best validation loss: 0.034206 in epoch 2\n",
            "Saving model...\n",
            "epoch: 3, time [s]: 0.6316, train loss: 0.038156, train mae: 0.153428, vali loss: 0.021823, vali mae: 0.118814\n",
            "\n",
            "Found new best validation loss: 0.021823 in epoch 3\n",
            "Saving model...\n",
            "epoch: 4, time [s]: 0.6312, train loss: 0.029659, train mae: 0.134767, vali loss: 0.019725, vali mae: 0.112689\n",
            "\n",
            "Found new best validation loss: 0.019725 in epoch 4\n",
            "Saving model...\n",
            "epoch: 5, time [s]: 0.6305, train loss: 0.024087, train mae: 0.119606, vali loss: 0.014137, vali mae: 0.093195\n",
            "\n",
            "Found new best validation loss: 0.014137 in epoch 5\n",
            "Saving model...\n",
            "epoch: 6, time [s]: 0.6305, train loss: 0.021782, train mae: 0.114593, vali loss: 0.013557, vali mae: 0.094600\n",
            "\n",
            "Found new best validation loss: 0.013557 in epoch 6\n",
            "Saving model...\n",
            "epoch: 7, time [s]: 0.6315, train loss: 0.017978, train mae: 0.104949, vali loss: 0.010493, vali mae: 0.077433\n",
            "\n",
            "Found new best validation loss: 0.010493 in epoch 7\n",
            "Saving model...\n",
            "epoch: 8, time [s]: 0.6327, train loss: 0.015420, train mae: 0.096965, vali loss: 0.009582, vali mae: 0.075672\n",
            "\n",
            "Found new best validation loss: 0.009582 in epoch 8\n",
            "Saving model...\n",
            "epoch: 9, time [s]: 0.6325, train loss: 0.014286, train mae: 0.091963, vali loss: 0.009037, vali mae: 0.075341\n",
            "\n",
            "Found new best validation loss: 0.009037 in epoch 9\n",
            "Saving model...\n",
            "epoch: 10, time [s]: 0.6307, train loss: 0.012387, train mae: 0.085589, vali loss: 0.005999, vali mae: 0.060167\n",
            "\n",
            "Found new best validation loss: 0.005999 in epoch 10\n",
            "Saving model...\n",
            "epoch: 11, time [s]: 0.6359, train loss: 0.011206, train mae: 0.082128, vali loss: 0.008116, vali mae: 0.066867\n",
            "epoch: 12, time [s]: 0.6310, train loss: 0.011111, train mae: 0.080520, vali loss: 0.008311, vali mae: 0.073915\n",
            "epoch: 13, time [s]: 0.6306, train loss: 0.010431, train mae: 0.079476, vali loss: 0.006117, vali mae: 0.062698\n",
            "epoch: 14, time [s]: 0.6300, train loss: 0.008844, train mae: 0.072734, vali loss: 0.007807, vali mae: 0.071607\n",
            "epoch: 15, time [s]: 0.6359, train loss: 0.008502, train mae: 0.072170, vali loss: 0.006546, vali mae: 0.064564\n",
            "epoch: 16, time [s]: 0.6314, train loss: 0.008295, train mae: 0.070655, vali loss: 0.007528, vali mae: 0.066996\n",
            "epoch: 17, time [s]: 0.6321, train loss: 0.007094, train mae: 0.066620, vali loss: 0.009603, vali mae: 0.077063\n",
            "epoch: 18, time [s]: 0.6299, train loss: 0.006906, train mae: 0.065303, vali loss: 0.009915, vali mae: 0.076562\n",
            "epoch: 19, time [s]: 0.6316, train loss: 0.006578, train mae: 0.062231, vali loss: 0.012934, vali mae: 0.079991\n",
            "epoch: 20, time [s]: 0.6649, train loss: 0.006847, train mae: 0.063720, vali loss: 0.008610, vali mae: 0.074393\n",
            "epoch: 21, time [s]: 0.6313, train loss: 0.006783, train mae: 0.063667, vali loss: 0.015256, vali mae: 0.087973\n",
            "epoch: 22, time [s]: 0.6311, train loss: 0.005620, train mae: 0.058593, vali loss: 0.008961, vali mae: 0.069030\n",
            "epoch: 23, time [s]: 0.6313, train loss: 0.005367, train mae: 0.057407, vali loss: 0.007965, vali mae: 0.063277\n",
            "epoch: 24, time [s]: 0.6317, train loss: 0.005646, train mae: 0.058445, vali loss: 0.008604, vali mae: 0.069172\n",
            "epoch: 25, time [s]: 0.6349, train loss: 0.005173, train mae: 0.055988, vali loss: 0.014969, vali mae: 0.087074\n",
            "epoch: 26, time [s]: 0.6304, train loss: 0.005286, train mae: 0.057063, vali loss: 0.006343, vali mae: 0.060428\n",
            "epoch: 27, time [s]: 0.6313, train loss: 0.004606, train mae: 0.053166, vali loss: 0.008580, vali mae: 0.064382\n",
            "epoch: 28, time [s]: 0.6326, train loss: 0.004533, train mae: 0.052369, vali loss: 0.007086, vali mae: 0.061546\n",
            "epoch: 29, time [s]: 0.6314, train loss: 0.004580, train mae: 0.053038, vali loss: 0.004995, vali mae: 0.050370\n",
            "\n",
            "Found new best validation loss: 0.004995 in epoch 29\n",
            "Saving model...\n",
            "epoch: 30, time [s]: 0.6322, train loss: 0.004893, train mae: 0.054588, vali loss: 0.007211, vali mae: 0.062823\n",
            "epoch: 31, time [s]: 0.6316, train loss: 0.004455, train mae: 0.052444, vali loss: 0.007571, vali mae: 0.062813\n",
            "epoch: 32, time [s]: 0.6313, train loss: 0.004239, train mae: 0.050857, vali loss: 0.006407, vali mae: 0.060288\n",
            "epoch: 33, time [s]: 0.6323, train loss: 0.004083, train mae: 0.049729, vali loss: 0.007691, vali mae: 0.064198\n",
            "epoch: 34, time [s]: 0.6326, train loss: 0.004082, train mae: 0.050033, vali loss: 0.006206, vali mae: 0.054922\n",
            "epoch: 35, time [s]: 0.6321, train loss: 0.003965, train mae: 0.048919, vali loss: 0.005398, vali mae: 0.050788\n",
            "epoch: 36, time [s]: 0.6307, train loss: 0.003482, train mae: 0.046083, vali loss: 0.013041, vali mae: 0.084144\n",
            "epoch: 37, time [s]: 0.6352, train loss: 0.003654, train mae: 0.047616, vali loss: 0.004599, vali mae: 0.049108\n",
            "\n",
            "Found new best validation loss: 0.004599 in epoch 37\n",
            "Saving model...\n",
            "epoch: 38, time [s]: 0.6330, train loss: 0.003348, train mae: 0.045352, vali loss: 0.007495, vali mae: 0.060581\n",
            "epoch: 39, time [s]: 0.6335, train loss: 0.003400, train mae: 0.045640, vali loss: 0.012976, vali mae: 0.082564\n",
            "epoch: 40, time [s]: 0.6310, train loss: 0.003053, train mae: 0.043857, vali loss: 0.006666, vali mae: 0.060037\n",
            "epoch: 41, time [s]: 0.6295, train loss: 0.003186, train mae: 0.043936, vali loss: 0.008768, vali mae: 0.063428\n",
            "epoch: 42, time [s]: 0.6370, train loss: 0.003325, train mae: 0.045706, vali loss: 0.010143, vali mae: 0.074247\n",
            "epoch: 43, time [s]: 0.6320, train loss: 0.003459, train mae: 0.046591, vali loss: 0.008738, vali mae: 0.066266\n",
            "epoch: 44, time [s]: 0.6307, train loss: 0.003327, train mae: 0.045450, vali loss: 0.009781, vali mae: 0.073824\n",
            "epoch: 45, time [s]: 0.6304, train loss: 0.003176, train mae: 0.044110, vali loss: 0.009833, vali mae: 0.068482\n",
            "epoch: 46, time [s]: 0.6331, train loss: 0.003074, train mae: 0.043045, vali loss: 0.007112, vali mae: 0.061242\n",
            "epoch: 47, time [s]: 0.6314, train loss: 0.003132, train mae: 0.043463, vali loss: 0.008955, vali mae: 0.066127\n",
            "epoch: 48, time [s]: 0.6320, train loss: 0.003054, train mae: 0.043242, vali loss: 0.007012, vali mae: 0.058009\n",
            "epoch: 49, time [s]: 0.6320, train loss: 0.002917, train mae: 0.042729, vali loss: 0.009762, vali mae: 0.070123\n",
            "epoch: 50, time [s]: 0.6337, train loss: 0.002807, train mae: 0.041290, vali loss: 0.008338, vali mae: 0.062965\n",
            "epoch: 51, time [s]: 0.6329, train loss: 0.002700, train mae: 0.040578, vali loss: 0.005597, vali mae: 0.052046\n",
            "epoch: 52, time [s]: 0.6301, train loss: 0.002645, train mae: 0.040241, vali loss: 0.007461, vali mae: 0.060656\n",
            "epoch: 53, time [s]: 0.6344, train loss: 0.002677, train mae: 0.040598, vali loss: 0.007111, vali mae: 0.061482\n",
            "epoch: 54, time [s]: 0.6313, train loss: 0.002742, train mae: 0.040427, vali loss: 0.007755, vali mae: 0.061459\n",
            "epoch: 55, time [s]: 0.6298, train loss: 0.002618, train mae: 0.040560, vali loss: 0.006637, vali mae: 0.062225\n",
            "epoch: 56, time [s]: 0.6321, train loss: 0.002688, train mae: 0.040715, vali loss: 0.008434, vali mae: 0.070871\n",
            "epoch: 57, time [s]: 0.6320, train loss: 0.002508, train mae: 0.038924, vali loss: 0.007678, vali mae: 0.063358\n",
            "epoch: 58, time [s]: 0.6310, train loss: 0.002775, train mae: 0.041698, vali loss: 0.007178, vali mae: 0.056048\n",
            "epoch: 59, time [s]: 0.6329, train loss: 0.002353, train mae: 0.038233, vali loss: 0.006282, vali mae: 0.055185\n",
            "epoch: 60, time [s]: 0.6320, train loss: 0.002364, train mae: 0.038203, vali loss: 0.004608, vali mae: 0.052512\n",
            "epoch: 61, time [s]: 0.6313, train loss: 0.002532, train mae: 0.039492, vali loss: 0.007538, vali mae: 0.065617\n",
            "epoch: 62, time [s]: 0.6310, train loss: 0.002389, train mae: 0.038025, vali loss: 0.006011, vali mae: 0.058096\n",
            "epoch: 63, time [s]: 0.6319, train loss: 0.002605, train mae: 0.040298, vali loss: 0.006506, vali mae: 0.055497\n",
            "epoch: 64, time [s]: 0.6331, train loss: 0.002311, train mae: 0.038050, vali loss: 0.005424, vali mae: 0.051529\n",
            "epoch: 65, time [s]: 0.6309, train loss: 0.002277, train mae: 0.037554, vali loss: 0.007285, vali mae: 0.062675\n",
            "epoch: 66, time [s]: 0.6330, train loss: 0.002357, train mae: 0.037869, vali loss: 0.006659, vali mae: 0.058741\n",
            "epoch: 67, time [s]: 0.6338, train loss: 0.002563, train mae: 0.039781, vali loss: 0.003912, vali mae: 0.045317\n",
            "\n",
            "Found new best validation loss: 0.003912 in epoch 67\n",
            "Saving model...\n",
            "epoch: 68, time [s]: 0.6306, train loss: 0.002370, train mae: 0.038079, vali loss: 0.011925, vali mae: 0.084978\n",
            "epoch: 69, time [s]: 0.6354, train loss: 0.002050, train mae: 0.035318, vali loss: 0.008162, vali mae: 0.071274\n",
            "epoch: 70, time [s]: 0.6317, train loss: 0.002199, train mae: 0.036794, vali loss: 0.006351, vali mae: 0.057995\n",
            "epoch: 71, time [s]: 0.6313, train loss: 0.002206, train mae: 0.036826, vali loss: 0.006949, vali mae: 0.058817\n",
            "epoch: 72, time [s]: 0.6302, train loss: 0.002174, train mae: 0.036415, vali loss: 0.008643, vali mae: 0.065671\n",
            "epoch: 73, time [s]: 0.6314, train loss: 0.002381, train mae: 0.037877, vali loss: 0.008492, vali mae: 0.069247\n",
            "epoch: 74, time [s]: 0.6349, train loss: 0.002306, train mae: 0.037734, vali loss: 0.006387, vali mae: 0.061342\n",
            "epoch: 75, time [s]: 0.6310, train loss: 0.002183, train mae: 0.036677, vali loss: 0.005491, vali mae: 0.053444\n",
            "epoch: 76, time [s]: 0.6305, train loss: 0.002457, train mae: 0.038723, vali loss: 0.008860, vali mae: 0.067626\n",
            "epoch: 77, time [s]: 0.6310, train loss: 0.002093, train mae: 0.036202, vali loss: 0.006231, vali mae: 0.062908\n",
            "epoch: 78, time [s]: 0.6318, train loss: 0.002203, train mae: 0.036555, vali loss: 0.005492, vali mae: 0.060145\n",
            "epoch: 79, time [s]: 0.6310, train loss: 0.002152, train mae: 0.035966, vali loss: 0.005192, vali mae: 0.058482\n",
            "epoch: 80, time [s]: 0.6309, train loss: 0.001962, train mae: 0.035250, vali loss: 0.008390, vali mae: 0.069809\n",
            "epoch: 81, time [s]: 0.6346, train loss: 0.002173, train mae: 0.036556, vali loss: 0.004580, vali mae: 0.054082\n",
            "epoch: 82, time [s]: 0.6317, train loss: 0.002213, train mae: 0.037092, vali loss: 0.008749, vali mae: 0.069261\n",
            "epoch: 83, time [s]: 0.6321, train loss: 0.001976, train mae: 0.035034, vali loss: 0.006856, vali mae: 0.062459\n",
            "epoch: 84, time [s]: 0.6318, train loss: 0.002180, train mae: 0.036543, vali loss: 0.007973, vali mae: 0.073273\n",
            "epoch: 85, time [s]: 0.6336, train loss: 0.001988, train mae: 0.034990, vali loss: 0.004962, vali mae: 0.053038\n",
            "epoch: 86, time [s]: 0.6356, train loss: 0.001922, train mae: 0.034329, vali loss: 0.005535, vali mae: 0.057480\n",
            "epoch: 87, time [s]: 0.6324, train loss: 0.001984, train mae: 0.034962, vali loss: 0.007824, vali mae: 0.068318\n",
            "epoch: 88, time [s]: 0.6315, train loss: 0.001895, train mae: 0.034072, vali loss: 0.004793, vali mae: 0.053957\n",
            "epoch: 89, time [s]: 0.6310, train loss: 0.001895, train mae: 0.034619, vali loss: 0.005437, vali mae: 0.058911\n",
            "epoch: 90, time [s]: 0.6310, train loss: 0.001789, train mae: 0.033512, vali loss: 0.005697, vali mae: 0.060899\n",
            "epoch: 91, time [s]: 0.6336, train loss: 0.001826, train mae: 0.033455, vali loss: 0.005468, vali mae: 0.057715\n",
            "epoch: 92, time [s]: 0.6304, train loss: 0.001870, train mae: 0.033919, vali loss: 0.006355, vali mae: 0.061908\n",
            "epoch: 93, time [s]: 0.6319, train loss: 0.002101, train mae: 0.035333, vali loss: 0.005102, vali mae: 0.055772\n",
            "epoch: 94, time [s]: 0.6340, train loss: 0.001936, train mae: 0.034782, vali loss: 0.007400, vali mae: 0.068997\n",
            "epoch: 95, time [s]: 0.6318, train loss: 0.002156, train mae: 0.036073, vali loss: 0.004706, vali mae: 0.052921\n",
            "epoch: 96, time [s]: 0.6311, train loss: 0.001990, train mae: 0.035438, vali loss: 0.006857, vali mae: 0.062902\n",
            "epoch: 97, time [s]: 0.6298, train loss: 0.001792, train mae: 0.033305, vali loss: 0.005449, vali mae: 0.060158\n",
            "epoch: 98, time [s]: 0.6330, train loss: 0.001841, train mae: 0.033453, vali loss: 0.005837, vali mae: 0.061566\n",
            "epoch: 99, time [s]: 0.6310, train loss: 0.001950, train mae: 0.034758, vali loss: 0.009481, vali mae: 0.075376\n",
            "epoch: 100, time [s]: 0.6302, train loss: 0.001836, train mae: 0.033696, vali loss: 0.006498, vali mae: 0.064005\n"
          ]
        }
      ]
    },
    {
      "cell_type": "code",
      "source": [
        "# monitor training loss e metric\n",
        "plt.plot(range(1, len(hist_loss)+1), hist_loss, label=\"train loss\")\n",
        "plt.plot(range(1, len(hist_vloss)+1), hist_vloss, label=\"vali loss\")\n",
        "plt.xlabel(\"Epochs\")\n",
        "plt.ylabel(\"Loss\")\n",
        "plt.legend()\n",
        "\n",
        "plt.figure()\n",
        "plt.plot(range(1, len(hist_loss)+1), hist_metric, label=\"train mae\")\n",
        "plt.plot(range(1, len(hist_vloss)+1), hist_vmetric, label=\"vali mae\")\n",
        "plt.xlabel(\"Epochs\")\n",
        "plt.ylabel(\"mae\")\n",
        "plt.legend()\n",
        "\n",
        "plt.show()"
      ],
      "metadata": {
        "colab": {
          "base_uri": "https://localhost:8080/",
          "height": 541
        },
        "id": "MGoEDwKHuCn9",
        "outputId": "9f8815d1-f982-4111-b310-9d95ad39494e"
      },
      "execution_count": 56,
      "outputs": [
        {
          "output_type": "display_data",
          "data": {
            "text/plain": [
              "<Figure size 432x288 with 1 Axes>"
            ],
            "image/png": "[encoded data removed]"
          },
          "metadata": {
            "needs_background": "light"
          }
        },
        {
          "output_type": "display_data",
          "data": {
            "text/plain": [
              "<Figure size 432x288 with 1 Axes>"
            ],
            "image/png": "[encoded data removed]"
          },
          "metadata": {
            "needs_background": "light"
          }
        }
      ]
    },
    {
      "cell_type": "code",
      "source": [
        "# load best model\n",
        "\n",
        "model=torch.load('./best_model.pt')\n",
        "model.eval()\n",
        "model.to(\"cpu\")\n",
        "\n",
        "counter=0\n",
        "test_loss=0\n",
        "test_metric=0\n",
        "yhat=[]\n",
        "y=[]\n",
        "\n",
        "with torch.no_grad():\n",
        "    for xb, yb in dl['test']:\n",
        "      counter+=1\n",
        "      xb=xb.to(\"cpu\")\n",
        "      yb=yb.to(\"cpu\")\n",
        "      pred = model(xb)\n",
        "      \n",
        "\n",
        "      tloss=loss_func(pred.view(-1), yb)\n",
        "      tmetric=metric_func(pred.view(-1), yb)\n",
        "\n",
        "      test_loss += tloss.item()\n",
        "      test_metric += tmetric.item()\n",
        "\n",
        "      yhat.append(pred.item())\n",
        "      y.append(yb.item())\n",
        "\n",
        "test_loss/=counter\n",
        "test_metric/=counter\n",
        "\n",
        "print(\"Test loss:\", test_loss, \"Test metric: \", test_metric)"
      ],
      "metadata": {
        "colab": {
          "base_uri": "https://localhost:8080/"
        },
        "id": "dH0lNkL2uPFP",
        "outputId": "0c262177-81b4-41c7-8e61-02a1f37cf632"
      },
      "execution_count": 57,
      "outputs": [
        {
          "output_type": "stream",
          "name": "stdout",
          "text": [
            "Test loss: 0.004252610467615219 Test metric:  0.046752634583454994\n"
          ]
        }
      ]
    },
    {
      "cell_type": "code",
      "source": [
        "# plot yhat vs y\n",
        "\n",
        "plt.scatter(yhat, y)\n",
        "plt.plot([-1,1], [-1,1], 'r--', linewidth=3)\n",
        "plt.xlabel(\"Y\")\n",
        "plt.ylabel(\"$\\hat{Y}$\")\n",
        "plt.show()"
      ],
      "metadata": {
        "colab": {
          "base_uri": "https://localhost:8080/",
          "height": 279
        },
        "id": "pmvQCXhWvDdr",
        "outputId": "ebc2a6d8-732d-463f-e0b4-7695d2232bdc"
      },
      "execution_count": 58,
      "outputs": [
        {
          "output_type": "display_data",
          "data": {
            "text/plain": [
              "<Figure size 432x288 with 1 Axes>"
            ],
            "image/png": "[encoded data removed]"
          },
          "metadata": {
            "needs_background": "light"
          }
        }
      ]
    },
    {
      "cell_type": "code",
      "source": [
        "# si nota un effetto di non linearità a bassi valori di Y che può essere minimizzato giocando con diverse normalizzazioni \n",
        "# del target: non normalizzandolo, normalizzandolo in [0,1], sottraendo media e dividendo per la varianza etc... "
      ],
      "metadata": {
        "id": "D8RbzSRJ0Mv3"
      },
      "execution_count": null,
      "outputs": []
    },
    {
      "cell_type": "code",
      "source": [
        "# Dense MLP\n",
        "\n",
        "class MLP(torch.nn.Module):\n",
        "  def __init__(self):\n",
        "    super(MLP, self).__init__()\n",
        "\n",
        "    self.layer1=torch.nn.Linear(200, 1024)\n",
        "    self.layer2=torch.nn.Linear(1024, 1)\n",
        "\n",
        "  def forward(self, x):\n",
        "    x = F.relu(self.layer1(x))\n",
        "    out = self.layer2(x)\n",
        "\n",
        "    return out\n",
        "\n",
        "\n",
        "model=MLP()\n",
        "\n",
        "if torch.cuda.is_available():\n",
        "  summary(model.cuda(), input_size=(1, 200))\n",
        "else:\n",
        "  summary(model, input_size=(1, 200))"
      ],
      "metadata": {
        "colab": {
          "base_uri": "https://localhost:8080/"
        },
        "id": "eTQutaQsvyZf",
        "outputId": "2aa64a38-5185-41aa-8331-ba092569abb2"
      },
      "execution_count": 43,
      "outputs": [
        {
          "output_type": "stream",
          "name": "stdout",
          "text": [
            "----------------------------------------------------------------\n",
            "        Layer (type)               Output Shape         Param #\n",
            "================================================================\n",
            "            Linear-1              [-1, 1, 1024]         205,824\n",
            "            Linear-2                 [-1, 1, 1]           1,025\n",
            "================================================================\n",
            "Total params: 206,849\n",
            "Trainable params: 206,849\n",
            "Non-trainable params: 0\n",
            "----------------------------------------------------------------\n",
            "Input size (MB): 0.00\n",
            "Forward/backward pass size (MB): 0.01\n",
            "Params size (MB): 0.79\n",
            "Estimated Total Size (MB): 0.80\n",
            "----------------------------------------------------------------\n"
          ]
        }
      ]
    },
    {
      "cell_type": "code",
      "source": [
        "# test\n",
        "# test\n",
        "a,b =next(iter(dl['train']))\n",
        "a=a.to(device)\n",
        "\n",
        "pred = model(a[:,:,:,0].squeeze()) #uso solo la prima riga della matrice delle feature ed elimino la dimensione channel non necessaria per un MLP\n",
        "print(pred.shape)"
      ],
      "metadata": {
        "colab": {
          "base_uri": "https://localhost:8080/"
        },
        "id": "UijNHpyQwbtw",
        "outputId": "ed5c1d2a-2655-4100-9090-385cb7656f71"
      },
      "execution_count": 44,
      "outputs": [
        {
          "output_type": "stream",
          "name": "stdout",
          "text": [
            "torch.Size([64, 1])\n"
          ]
        }
      ]
    },
    {
      "cell_type": "code",
      "source": [
        "#Training\n",
        "import time\n",
        "\n",
        "save_model=SaveBestModel()\n",
        "model=MLP()\n",
        "model=model.to(device)\n",
        "\n",
        "loss_func=torch.nn.MSELoss()\n",
        "metric_func=torch.nn.L1Loss()\n",
        "lr = 1e-3\n",
        "opt=torch.optim.Adam(model.parameters(), lr=lr)\n",
        "\n",
        "epochs=100\n",
        "\n",
        "hist_loss = []\n",
        "hist_metric=[]\n",
        "hist_vloss = []\n",
        "hist_vmetric=[]\n",
        "\n",
        "start_t=time.time()\n",
        "\n",
        "for epoch in range(epochs):\n",
        "  t0=time.time()\n",
        "\n",
        "  # training\n",
        "  model.train()\n",
        "  train_loss=0\n",
        "  train_metric=0\n",
        "  counter=0\n",
        "  for xb, yb in dl['train']:\n",
        "    counter += 1\n",
        "    xb=xb.to(device)\n",
        "    yb=yb.to(device)\n",
        "\n",
        "    pred=model(xb[:,:,:,0].squeeze())\n",
        "    loss=loss_func(pred.view(-1), yb)\n",
        "    metric=metric_func(pred.view(-1), yb)\n",
        "\n",
        "    train_metric+=metric.item()\n",
        "    train_loss+=loss.item()\n",
        "\n",
        "    #update weights\n",
        "    opt.zero_grad()\n",
        "    loss.backward()\n",
        "    opt.step()\n",
        "\n",
        "  train_loss /=counter\n",
        "  train_metric/=counter\n",
        "  hist_loss.append(train_loss)\n",
        "  hist_metric.append(train_metric)\n",
        "\n",
        "  model.eval()\n",
        "  vali_loss=0\n",
        "  vali_metric=0\n",
        "  counter=0\n",
        "\n",
        "  with torch.no_grad():\n",
        "    for xb, yb in dl['vali']:\n",
        "      counter += 1\n",
        "      xb=xb.to(device)\n",
        "      yb=yb.to(device)\n",
        "      \n",
        "      pred=model(xb[:,:,:,0].squeeze())\n",
        "\n",
        "      vloss=loss_func(pred.view(-1), yb)\n",
        "      vmetric=metric_func(pred.view(-1), yb)\n",
        "\n",
        "      vali_loss += vloss.item()\n",
        "      vali_metric += vmetric.item()\n",
        "\n",
        "\n",
        "  vali_loss /= counter\n",
        "  vali_metric /= counter\n",
        "  hist_vloss.append(vali_loss)\n",
        "  hist_vmetric.append(vali_metric)\n",
        "\n",
        "  elapsed_time = time.time()-t0\n",
        "  print(\"epoch: %d, time [s]: %.4f, train loss: %.6f, train mae: %.6f, vali loss: %.6f, vali mae: %.6f\"  %(epoch+1, elapsed_time, train_loss, train_metric ,vali_loss, vali_metric))\n",
        "  save_model(vali_loss, epoch, model)"
      ],
      "metadata": {
        "colab": {
          "base_uri": "https://localhost:8080/"
        },
        "id": "oGJ3Qw5ZwNlA",
        "outputId": "1175e687-b041-43ff-cc93-23ead6d5e5e1"
      },
      "execution_count": 45,
      "outputs": [
        {
          "output_type": "stream",
          "name": "stdout",
          "text": [
            "epoch: 1, time [s]: 0.0636, train loss: 0.315743, train mae: 0.486299, vali loss: 0.296066, vali mae: 0.488090\n",
            "\n",
            "Found new best validation loss: 0.296066 in epoch 1\n",
            "Saving model...\n",
            "epoch: 2, time [s]: 0.0644, train loss: 0.247671, train mae: 0.434440, vali loss: 0.237182, vali mae: 0.431090\n",
            "\n",
            "Found new best validation loss: 0.237182 in epoch 2\n",
            "Saving model...\n",
            "epoch: 3, time [s]: 0.0628, train loss: 0.183075, train mae: 0.364735, vali loss: 0.151066, vali mae: 0.321800\n",
            "\n",
            "Found new best validation loss: 0.151066 in epoch 3\n",
            "Saving model...\n",
            "epoch: 4, time [s]: 0.0663, train loss: 0.125000, train mae: 0.294590, vali loss: 0.115676, vali mae: 0.278560\n",
            "\n",
            "Found new best validation loss: 0.115676 in epoch 4\n",
            "Saving model...\n",
            "epoch: 5, time [s]: 0.0664, train loss: 0.082693, train mae: 0.230922, vali loss: 0.069469, vali mae: 0.207859\n",
            "\n",
            "Found new best validation loss: 0.069469 in epoch 5\n",
            "Saving model...\n",
            "epoch: 6, time [s]: 0.0646, train loss: 0.053008, train mae: 0.181401, vali loss: 0.072922, vali mae: 0.209734\n",
            "epoch: 7, time [s]: 0.0626, train loss: 0.037295, train mae: 0.151118, vali loss: 0.041931, vali mae: 0.168911\n",
            "\n",
            "Found new best validation loss: 0.041931 in epoch 7\n",
            "Saving model...\n",
            "epoch: 8, time [s]: 0.0621, train loss: 0.027113, train mae: 0.127065, vali loss: 0.037569, vali mae: 0.155702\n",
            "\n",
            "Found new best validation loss: 0.037569 in epoch 8\n",
            "Saving model...\n",
            "epoch: 9, time [s]: 0.0663, train loss: 0.019065, train mae: 0.106484, vali loss: 0.023483, vali mae: 0.114984\n",
            "\n",
            "Found new best validation loss: 0.023483 in epoch 9\n",
            "Saving model...\n",
            "epoch: 10, time [s]: 0.0707, train loss: 0.014676, train mae: 0.093658, vali loss: 0.022378, vali mae: 0.114950\n",
            "\n",
            "Found new best validation loss: 0.022378 in epoch 10\n",
            "Saving model...\n",
            "epoch: 11, time [s]: 0.0675, train loss: 0.011748, train mae: 0.083211, vali loss: 0.016332, vali mae: 0.093742\n",
            "\n",
            "Found new best validation loss: 0.016332 in epoch 11\n",
            "Saving model...\n",
            "epoch: 12, time [s]: 0.0616, train loss: 0.010080, train mae: 0.077386, vali loss: 0.016992, vali mae: 0.095840\n",
            "epoch: 13, time [s]: 0.0626, train loss: 0.010128, train mae: 0.078451, vali loss: 0.012628, vali mae: 0.085961\n",
            "\n",
            "Found new best validation loss: 0.012628 in epoch 13\n",
            "Saving model...\n",
            "epoch: 14, time [s]: 0.0675, train loss: 0.007060, train mae: 0.064870, vali loss: 0.011379, vali mae: 0.079425\n",
            "\n",
            "Found new best validation loss: 0.011379 in epoch 14\n",
            "Saving model...\n",
            "epoch: 15, time [s]: 0.0632, train loss: 0.006187, train mae: 0.060652, vali loss: 0.013572, vali mae: 0.087379\n",
            "epoch: 16, time [s]: 0.0620, train loss: 0.006001, train mae: 0.060756, vali loss: 0.010375, vali mae: 0.075462\n",
            "\n",
            "Found new best validation loss: 0.010375 in epoch 16\n",
            "Saving model...\n",
            "epoch: 17, time [s]: 0.0615, train loss: 0.005689, train mae: 0.059151, vali loss: 0.010504, vali mae: 0.075917\n",
            "epoch: 18, time [s]: 0.0664, train loss: 0.004386, train mae: 0.051127, vali loss: 0.009017, vali mae: 0.072822\n",
            "\n",
            "Found new best validation loss: 0.009017 in epoch 18\n",
            "Saving model...\n",
            "epoch: 19, time [s]: 0.0614, train loss: 0.004055, train mae: 0.049552, vali loss: 0.009501, vali mae: 0.076168\n",
            "epoch: 20, time [s]: 0.0623, train loss: 0.004135, train mae: 0.050139, vali loss: 0.008466, vali mae: 0.069618\n",
            "\n",
            "Found new best validation loss: 0.008466 in epoch 20\n",
            "Saving model...\n",
            "epoch: 21, time [s]: 0.0641, train loss: 0.003650, train mae: 0.046596, vali loss: 0.008716, vali mae: 0.073158\n",
            "epoch: 22, time [s]: 0.0658, train loss: 0.003277, train mae: 0.044203, vali loss: 0.010358, vali mae: 0.082087\n",
            "epoch: 23, time [s]: 0.0630, train loss: 0.003580, train mae: 0.046349, vali loss: 0.009130, vali mae: 0.073132\n",
            "epoch: 24, time [s]: 0.0621, train loss: 0.003231, train mae: 0.043993, vali loss: 0.012402, vali mae: 0.087498\n",
            "epoch: 25, time [s]: 0.0618, train loss: 0.002770, train mae: 0.040729, vali loss: 0.007636, vali mae: 0.067026\n",
            "\n",
            "Found new best validation loss: 0.007636 in epoch 25\n",
            "Saving model...\n",
            "epoch: 26, time [s]: 0.0714, train loss: 0.002524, train mae: 0.038990, vali loss: 0.007301, vali mae: 0.065127\n",
            "\n",
            "Found new best validation loss: 0.007301 in epoch 26\n",
            "Saving model...\n",
            "epoch: 27, time [s]: 0.0625, train loss: 0.002220, train mae: 0.036206, vali loss: 0.008571, vali mae: 0.072434\n",
            "epoch: 28, time [s]: 0.0618, train loss: 0.002261, train mae: 0.036650, vali loss: 0.009205, vali mae: 0.074196\n",
            "epoch: 29, time [s]: 0.0619, train loss: 0.002573, train mae: 0.039395, vali loss: 0.007747, vali mae: 0.068527\n",
            "epoch: 30, time [s]: 0.0661, train loss: 0.002266, train mae: 0.037142, vali loss: 0.008733, vali mae: 0.069858\n",
            "epoch: 31, time [s]: 0.0635, train loss: 0.001877, train mae: 0.033657, vali loss: 0.008389, vali mae: 0.071682\n",
            "epoch: 32, time [s]: 0.0635, train loss: 0.001755, train mae: 0.032524, vali loss: 0.006506, vali mae: 0.060859\n",
            "\n",
            "Found new best validation loss: 0.006506 in epoch 32\n",
            "Saving model...\n",
            "epoch: 33, time [s]: 0.0631, train loss: 0.001875, train mae: 0.033441, vali loss: 0.006473, vali mae: 0.059010\n",
            "\n",
            "Found new best validation loss: 0.006473 in epoch 33\n",
            "Saving model...\n",
            "epoch: 34, time [s]: 0.0645, train loss: 0.001700, train mae: 0.032001, vali loss: 0.008253, vali mae: 0.070747\n",
            "epoch: 35, time [s]: 0.0682, train loss: 0.001547, train mae: 0.030527, vali loss: 0.007244, vali mae: 0.066920\n",
            "epoch: 36, time [s]: 0.0645, train loss: 0.001395, train mae: 0.028938, vali loss: 0.006914, vali mae: 0.065727\n",
            "epoch: 37, time [s]: 0.0622, train loss: 0.001548, train mae: 0.030623, vali loss: 0.007002, vali mae: 0.063140\n",
            "epoch: 38, time [s]: 0.0667, train loss: 0.001644, train mae: 0.031491, vali loss: 0.006652, vali mae: 0.060742\n",
            "epoch: 39, time [s]: 0.0653, train loss: 0.001438, train mae: 0.029526, vali loss: 0.006964, vali mae: 0.067096\n",
            "epoch: 40, time [s]: 0.0630, train loss: 0.001214, train mae: 0.026937, vali loss: 0.007272, vali mae: 0.068477\n",
            "epoch: 41, time [s]: 0.0627, train loss: 0.001021, train mae: 0.025026, vali loss: 0.005944, vali mae: 0.059408\n",
            "\n",
            "Found new best validation loss: 0.005944 in epoch 41\n",
            "Saving model...\n",
            "epoch: 42, time [s]: 0.0737, train loss: 0.001083, train mae: 0.025448, vali loss: 0.007322, vali mae: 0.069494\n",
            "epoch: 43, time [s]: 0.0631, train loss: 0.001184, train mae: 0.026720, vali loss: 0.006175, vali mae: 0.060473\n",
            "epoch: 44, time [s]: 0.0626, train loss: 0.001485, train mae: 0.030632, vali loss: 0.007270, vali mae: 0.065971\n",
            "epoch: 45, time [s]: 0.0623, train loss: 0.000854, train mae: 0.022709, vali loss: 0.005943, vali mae: 0.059452\n",
            "\n",
            "Found new best validation loss: 0.005943 in epoch 45\n",
            "Saving model...\n",
            "epoch: 46, time [s]: 0.0728, train loss: 0.000789, train mae: 0.021809, vali loss: 0.005798, vali mae: 0.058787\n",
            "\n",
            "Found new best validation loss: 0.005798 in epoch 46\n",
            "Saving model...\n",
            "epoch: 47, time [s]: 0.0620, train loss: 0.000846, train mae: 0.022840, vali loss: 0.007034, vali mae: 0.068696\n",
            "epoch: 48, time [s]: 0.0667, train loss: 0.001185, train mae: 0.027283, vali loss: 0.006467, vali mae: 0.063002\n",
            "epoch: 49, time [s]: 0.0629, train loss: 0.001113, train mae: 0.026622, vali loss: 0.006929, vali mae: 0.062584\n",
            "epoch: 50, time [s]: 0.0693, train loss: 0.001297, train mae: 0.029025, vali loss: 0.006767, vali mae: 0.064402\n",
            "epoch: 51, time [s]: 0.0670, train loss: 0.000813, train mae: 0.022555, vali loss: 0.005922, vali mae: 0.060082\n",
            "epoch: 52, time [s]: 0.0621, train loss: 0.000655, train mae: 0.019546, vali loss: 0.005825, vali mae: 0.058050\n",
            "epoch: 53, time [s]: 0.0627, train loss: 0.000577, train mae: 0.018286, vali loss: 0.005731, vali mae: 0.057838\n",
            "\n",
            "Found new best validation loss: 0.005731 in epoch 53\n",
            "Saving model...\n",
            "epoch: 54, time [s]: 0.0681, train loss: 0.000564, train mae: 0.018460, vali loss: 0.006397, vali mae: 0.063392\n",
            "epoch: 55, time [s]: 0.0627, train loss: 0.000481, train mae: 0.017016, vali loss: 0.006249, vali mae: 0.062164\n",
            "epoch: 56, time [s]: 0.0628, train loss: 0.000422, train mae: 0.016034, vali loss: 0.006055, vali mae: 0.059744\n",
            "epoch: 57, time [s]: 0.0682, train loss: 0.000415, train mae: 0.015768, vali loss: 0.005754, vali mae: 0.059845\n",
            "epoch: 58, time [s]: 0.0735, train loss: 0.000650, train mae: 0.019978, vali loss: 0.006050, vali mae: 0.059219\n",
            "epoch: 59, time [s]: 0.0667, train loss: 0.000624, train mae: 0.019754, vali loss: 0.005853, vali mae: 0.058651\n",
            "epoch: 60, time [s]: 0.0676, train loss: 0.000552, train mae: 0.018426, vali loss: 0.006272, vali mae: 0.063187\n",
            "epoch: 61, time [s]: 0.0628, train loss: 0.000468, train mae: 0.016945, vali loss: 0.006268, vali mae: 0.060733\n",
            "epoch: 62, time [s]: 0.0660, train loss: 0.000417, train mae: 0.016113, vali loss: 0.006379, vali mae: 0.065137\n",
            "epoch: 63, time [s]: 0.0627, train loss: 0.000440, train mae: 0.016323, vali loss: 0.005743, vali mae: 0.058300\n",
            "epoch: 64, time [s]: 0.0618, train loss: 0.000511, train mae: 0.018039, vali loss: 0.005799, vali mae: 0.059725\n",
            "epoch: 65, time [s]: 0.0623, train loss: 0.000506, train mae: 0.017932, vali loss: 0.008006, vali mae: 0.069293\n",
            "epoch: 66, time [s]: 0.0683, train loss: 0.000331, train mae: 0.014103, vali loss: 0.007238, vali mae: 0.067863\n",
            "epoch: 67, time [s]: 0.0623, train loss: 0.000374, train mae: 0.015340, vali loss: 0.005796, vali mae: 0.058526\n",
            "epoch: 68, time [s]: 0.0632, train loss: 0.000277, train mae: 0.013137, vali loss: 0.008921, vali mae: 0.075044\n",
            "epoch: 69, time [s]: 0.0644, train loss: 0.000280, train mae: 0.013040, vali loss: 0.005805, vali mae: 0.060788\n",
            "epoch: 70, time [s]: 0.0672, train loss: 0.000261, train mae: 0.012496, vali loss: 0.006907, vali mae: 0.064076\n",
            "epoch: 71, time [s]: 0.0635, train loss: 0.000273, train mae: 0.012745, vali loss: 0.005738, vali mae: 0.059908\n",
            "epoch: 72, time [s]: 0.0662, train loss: 0.000290, train mae: 0.013412, vali loss: 0.005929, vali mae: 0.061734\n",
            "epoch: 73, time [s]: 0.0683, train loss: 0.000254, train mae: 0.012408, vali loss: 0.006350, vali mae: 0.062870\n",
            "epoch: 74, time [s]: 0.0658, train loss: 0.000198, train mae: 0.010930, vali loss: 0.007166, vali mae: 0.067687\n",
            "epoch: 75, time [s]: 0.0628, train loss: 0.000164, train mae: 0.009869, vali loss: 0.005316, vali mae: 0.055631\n",
            "\n",
            "Found new best validation loss: 0.005316 in epoch 75\n",
            "Saving model...\n",
            "epoch: 76, time [s]: 0.0635, train loss: 0.000161, train mae: 0.009963, vali loss: 0.005744, vali mae: 0.059664\n",
            "epoch: 77, time [s]: 0.0623, train loss: 0.000189, train mae: 0.010756, vali loss: 0.006103, vali mae: 0.062209\n",
            "epoch: 78, time [s]: 0.0703, train loss: 0.000218, train mae: 0.011621, vali loss: 0.005898, vali mae: 0.059104\n",
            "epoch: 79, time [s]: 0.0625, train loss: 0.000189, train mae: 0.010855, vali loss: 0.005869, vali mae: 0.061373\n",
            "epoch: 80, time [s]: 0.0624, train loss: 0.000287, train mae: 0.013564, vali loss: 0.005875, vali mae: 0.058479\n",
            "epoch: 81, time [s]: 0.0626, train loss: 0.000273, train mae: 0.013256, vali loss: 0.006386, vali mae: 0.064368\n",
            "epoch: 82, time [s]: 0.0687, train loss: 0.000239, train mae: 0.012280, vali loss: 0.007303, vali mae: 0.069596\n",
            "epoch: 83, time [s]: 0.0617, train loss: 0.000280, train mae: 0.013426, vali loss: 0.005464, vali mae: 0.057809\n",
            "epoch: 84, time [s]: 0.0621, train loss: 0.000159, train mae: 0.009919, vali loss: 0.006229, vali mae: 0.062655\n",
            "epoch: 85, time [s]: 0.0668, train loss: 0.000193, train mae: 0.011052, vali loss: 0.005889, vali mae: 0.058729\n",
            "epoch: 86, time [s]: 0.0722, train loss: 0.000253, train mae: 0.012703, vali loss: 0.005854, vali mae: 0.059402\n",
            "epoch: 87, time [s]: 0.0640, train loss: 0.000200, train mae: 0.011115, vali loss: 0.005752, vali mae: 0.059362\n",
            "epoch: 88, time [s]: 0.0683, train loss: 0.000123, train mae: 0.008798, vali loss: 0.005497, vali mae: 0.057839\n",
            "epoch: 89, time [s]: 0.0628, train loss: 0.000126, train mae: 0.008769, vali loss: 0.005562, vali mae: 0.058557\n",
            "epoch: 90, time [s]: 0.0664, train loss: 0.000084, train mae: 0.007200, vali loss: 0.005275, vali mae: 0.054611\n",
            "\n",
            "Found new best validation loss: 0.005275 in epoch 90\n",
            "Saving model...\n",
            "epoch: 91, time [s]: 0.0667, train loss: 0.000081, train mae: 0.007063, vali loss: 0.005389, vali mae: 0.056928\n",
            "epoch: 92, time [s]: 0.0622, train loss: 0.000157, train mae: 0.009823, vali loss: 0.006489, vali mae: 0.066342\n",
            "epoch: 93, time [s]: 0.0624, train loss: 0.000271, train mae: 0.013117, vali loss: 0.005264, vali mae: 0.054513\n",
            "\n",
            "Found new best validation loss: 0.005264 in epoch 93\n",
            "Saving model...\n",
            "epoch: 94, time [s]: 0.0648, train loss: 0.000114, train mae: 0.008357, vali loss: 0.005473, vali mae: 0.058429\n",
            "epoch: 95, time [s]: 0.0622, train loss: 0.000092, train mae: 0.007506, vali loss: 0.005397, vali mae: 0.056203\n",
            "epoch: 96, time [s]: 0.0620, train loss: 0.000179, train mae: 0.010524, vali loss: 0.006076, vali mae: 0.060277\n",
            "epoch: 97, time [s]: 0.0679, train loss: 0.000180, train mae: 0.010631, vali loss: 0.006067, vali mae: 0.061193\n",
            "epoch: 98, time [s]: 0.0658, train loss: 0.000248, train mae: 0.012472, vali loss: 0.005962, vali mae: 0.060452\n",
            "epoch: 99, time [s]: 0.0623, train loss: 0.000224, train mae: 0.012100, vali loss: 0.005461, vali mae: 0.054747\n",
            "epoch: 100, time [s]: 0.0612, train loss: 0.000282, train mae: 0.013650, vali loss: 0.005997, vali mae: 0.061745\n"
          ]
        }
      ]
    },
    {
      "cell_type": "code",
      "source": [
        "# monitor training loss e metric\n",
        "plt.plot(range(1, len(hist_loss)+1), hist_loss, label=\"train loss\")\n",
        "plt.plot(range(1, len(hist_vloss)+1), hist_vloss, label=\"vali loss\")\n",
        "plt.xlabel(\"Epochs\")\n",
        "plt.ylabel(\"Loss\")\n",
        "plt.legend()\n",
        "\n",
        "plt.figure()\n",
        "plt.plot(range(1, len(hist_loss)+1), hist_metric, label=\"train mae\")\n",
        "plt.plot(range(1, len(hist_vloss)+1), hist_vmetric, label=\"vali mae\")\n",
        "plt.xlabel(\"Epochs\")\n",
        "plt.ylabel(\"mae\")\n",
        "plt.legend()\n",
        "\n",
        "plt.show()"
      ],
      "metadata": {
        "colab": {
          "base_uri": "https://localhost:8080/",
          "height": 541
        },
        "id": "di5LgOEPyLXu",
        "outputId": "f2bfcb2d-bc71-4411-9c64-28a7746c6427"
      },
      "execution_count": 46,
      "outputs": [
        {
          "output_type": "display_data",
          "data": {
            "text/plain": [
              "<Figure size 432x288 with 1 Axes>"
            ],
            "image/png": "[encoded data removed]"
          },
          "metadata": {
            "needs_background": "light"
          }
        },
        {
          "output_type": "display_data",
          "data": {
            "text/plain": [
              "<Figure size 432x288 with 1 Axes>"
            ],
            "image/png": "[encoded data removed]"
          },
          "metadata": {
            "needs_background": "light"
          }
        }
      ]
    },
    {
      "cell_type": "code",
      "source": [
        "# load best model\n",
        "\n",
        "model=torch.load('./best_model.pt')\n",
        "model.eval()\n",
        "model.to(\"cpu\")\n",
        "\n",
        "counter=0\n",
        "test_loss=0\n",
        "test_metric=0\n",
        "yhat=[]\n",
        "y=[]\n",
        "\n",
        "with torch.no_grad():\n",
        "    for xb, yb in dl['test']:\n",
        "      counter+=1\n",
        "      xb=xb.to(\"cpu\")\n",
        "      yb=yb.to(\"cpu\")\n",
        "      pred = model(xb[:,:,:,0].squeeze())\n",
        "      \n",
        "\n",
        "      tloss=loss_func(pred.view(-1), yb)\n",
        "      tmetric=metric_func(pred.view(-1), yb)\n",
        "\n",
        "      test_loss += tloss.item()\n",
        "      test_metric += tmetric.item()\n",
        "\n",
        "      yhat.append(pred.item())\n",
        "      y.append(yb.item())\n",
        "\n",
        "test_loss/=counter\n",
        "test_metric/=counter\n",
        "\n",
        "print(\"Test loss:\", test_loss, \"Test metric: \", test_metric)"
      ],
      "metadata": {
        "colab": {
          "base_uri": "https://localhost:8080/"
        },
        "id": "SD-6ma9-yMzG",
        "outputId": "5fa9d461-fec1-44b5-b056-34ec4737ba75"
      },
      "execution_count": 47,
      "outputs": [
        {
          "output_type": "stream",
          "name": "stdout",
          "text": [
            "Test loss: 0.007251267807100766 Test metric:  0.0638476759267764\n"
          ]
        }
      ]
    },
    {
      "cell_type": "code",
      "source": [
        "# plot yhat vs y\n",
        "\n",
        "plt.scatter(yhat, y)\n",
        "plt.plot([-1,1], [-1,1], 'r--', linewidth=3)\n",
        "plt.xlabel(\"Y\")\n",
        "plt.ylabel(\"$\\hat{Y}$\")\n",
        "plt.show()"
      ],
      "metadata": {
        "colab": {
          "base_uri": "https://localhost:8080/",
          "height": 279
        },
        "id": "1K_N-KVwyT7K",
        "outputId": "3ff6cc31-edb3-4a35-b7dc-ed7e11bef462"
      },
      "execution_count": 50,
      "outputs": [
        {
          "output_type": "display_data",
          "data": {
            "text/plain": [
              "<Figure size 432x288 with 1 Axes>"
            ],
            "image/png": "[encoded data removed]"
          },
          "metadata": {
            "needs_background": "light"
          }
        }
      ]
    },
    {
      "cell_type": "code",
      "source": [
        "# si ottiene una buona linearità ma minore risoluzione (MAE piu' alto) rispetto alla CNN. Usando una rete piu' espressiva (piu' neuroni e deep con 2-3 layer hidden si possono riottenere le stesse prestazioni della CNN)"
      ],
      "metadata": {
        "id": "yZziWZTV0iBl"
      },
      "execution_count": null,
      "outputs": []
    }
  ]
}