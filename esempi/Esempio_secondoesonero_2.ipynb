{
  "nbformat": 4,
  "nbformat_minor": 0,
  "metadata": {
    "colab": {
      "name": "MetodiAI_Fis2021_Recupero_Esonero_2.ipynb",
      "provenance": [],
      "collapsed_sections": [],
      "authorship_tag": "ABX9TyOsa2lhAd7B32MPsjGcEPS4",
      "include_colab_link": true
    },
    "kernelspec": {
      "name": "python3",
      "display_name": "Python 3"
    },
    "language_info": {
      "name": "python"
    }
  },
  "cells": [
    {
      "cell_type": "markdown",
      "metadata": {
        "id": "view-in-github",
        "colab_type": "text"
      },
      "source": [
        "<a href=\"https://colab.research.google.com/github/stefanogiagu/corso_AI_2022/blob/main/esempi/Esempio_secondoesonero_2.ipynb\" target=\"_parent\"><img src=\"https://colab.research.google.com/assets/colab-badge.svg\" alt=\"Open In Colab\"/></a>"
      ]
    },
    {
      "cell_type": "markdown",
      "metadata": {
        "id": "xM8c-0uxqDVB"
      },
      "source": [
        "# Recupero Seconda Prova Esonero - Metodi AI e Machine Learning per la fisica \n",
        "### 16.06.2021 - AA 2020/21 - Docente: S. Giagu\n",
        "\n",
        "\n",
        "> **Regole:**\n",
        "\n",
        "*   **tempo a disposizione:** 2h30'\n",
        "\n",
        "*   compilare con i vostri dati i campi della cella che segue e poi eseguire la cella verificando che i dati printati corrispondano\n",
        "*   risolvere i quesiti/compiti indicati nella cella *Descrizione del compito* usando questo notebook \n",
        "*   una volta completato il compito sottomettere il notebook nel apposito folder sul sito e-learning del corso disponibile al link: [consegna esonero](https://elearning.uniroma1.it/mod/assign/view.php?id=406879)(NOTA BENE: una volta sottomesso il notebook non sono più possibili ulteriori modifiche)"
      ]
    },
    {
      "cell_type": "code",
      "metadata": {
        "id": "cAUd9VHBqlPh",
        "cellView": "form"
      },
      "source": [
        "#@ Dati Personali\n",
        "import os\n",
        "\n",
        "Nome = 'Stefano'  #@param {type: \"string\"}\n",
        "Cognome = 'Giagu' #@param {type: \"string\"}\n",
        "NumeroMatricola = 12345678 #@param {type: \"number\"}\n",
        "\n",
        "if NumeroMatricola == 12345678:\n",
        "  print('\\033[1;31m Inserisci il numero di matricola corretto!!!!') \n",
        "else:\n",
        "  print('Downloading datasets')\n",
        "  !rm -rf dati_ES1_2021.csv.gz labels_ES1_2021.csv.gz\n",
        "  !rm -rf dati_ES1_2021.csv labels_ES1_2021.csv\n",
        "  !wget http://giagu.web.cern.ch/giagu/CERN/dati_ES1_2021.csv.gz\n",
        "  !wget http://giagu.web.cern.ch/giagu/CERN/labels_ES1_2021.csv.gz\n",
        "  !gunzip dati_ES1_2021.csv.gz \n",
        "  !gunzip labels_ES1_2021.csv.gz  \n",
        "  print('Done')"
      ],
      "execution_count": null,
      "outputs": []
    },
    {
      "cell_type": "markdown",
      "metadata": {
        "id": "TNv4Mq5jrOS5"
      },
      "source": [
        "# Descrizione del compito:\n",
        "\n",
        "### Dataset:\n",
        "\n",
        "il dataset fornito è costituito da due file formato *.csv*: *dati_ES1_2021.csv* e *labels_ES1_2021.csv*\n",
        "*   *dati_ES1_2021*: contiene in formato tabulare un dataset costituito da 581012 eventi ciascuno descritto da 54 feature di alto livello \n",
        "*   *labels_ES1_2021*: contiene in formato tabulare una label di classe per ciascuno degli eventi contenuti nel file precedente. Sono presenti 7 classi con label [1,2,3,4,5,6,7] \n",
        "\n",
        "**È richiesto:**\n",
        "\n",
        "1.   di eseguire una rapida analisi iniziale delle proprietà del campione di dati\n",
        "2.   di stimare usando un AutoEncoder la dimensione minima dello spazio latente in grado di rappresentare il dataset dato\n",
        "3.   di costruire due modelli di DNN rispetto alla task di classificare gli eventi del campione, utilizzando la stessa architettura per i due modelli, addestrando il primo con le feature originali del campione e il secondo con la rappresentazione compressa ottenuta con l'AE\n",
        "4.   di stimare e confrontare le prestazioni ottenute con i due modelli\n",
        "\n",
        "Commentare in modo sintetico le scelte e operazioni eseguite nello svolgimento dei vari punti del compito."
      ]
    },
    {
      "cell_type": "code",
      "metadata": {
        "id": "-04NQU3L2kId"
      },
      "source": [
        "# codice ..."
      ],
      "execution_count": null,
      "outputs": []
    }
  ]
}