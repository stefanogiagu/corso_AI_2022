{
  "nbformat": 4,
  "nbformat_minor": 0,
  "metadata": {
    "kernelspec": {
      "display_name": "Python 3",
      "language": "python",
      "name": "python3"
    },
    "language_info": {
      "codemirror_mode": {
        "name": "ipython",
        "version": 3
      },
      "file_extension": ".py",
      "mimetype": "text/x-python",
      "name": "python",
      "nbconvert_exporter": "python",
      "pygments_lexer": "ipython3",
      "version": "3.5.2"
    },
    "colab": {
      "name": "ProvaEsame_7.9.2020_AI.ipynb",
      "provenance": [],
      "collapsed_sections": [],
      "include_colab_link": true
    },
    "accelerator": "GPU"
  },
  "cells": [
    {
      "cell_type": "markdown",
      "metadata": {
        "id": "view-in-github",
        "colab_type": "text"
      },
      "source": [
        "<a href=\"https://colab.research.google.com/github/stefanogiagu/corso_AI_2022/blob/main/esempi/Esempio_secondoesonero_3.ipynb\" target=\"_parent\"><img src=\"https://colab.research.google.com/assets/colab-badge.svg\" alt=\"Open In Colab\"/></a>"
      ]
    },
    {
      "cell_type": "markdown",
      "metadata": {
        "id": "bHv2ej3RnZIq"
      },
      "source": [
        "# Prova Esame 7.9.2020 - Metodi AI e Machine Learning per la fisica \n",
        "### AA 2019/20 - Docente: S. Giagu\n",
        "\n",
        "\n",
        "> **Regole:**\n",
        "\n",
        "* tempo a disposizione: 3h\n",
        "*   compilare con i vostri dati i campi della cella che segue e poi eseguire la cella verificando che i dati printati corrispondano\n",
        "*   risolvere i quesiti/compiti indicati nella cella *Descrizione del compito* usando questo notebook\n",
        "*   una volta completato il compito sottomettere il notebook nel apposito folder sul sito e-learning del corso disponibile al link: [consegna esonero](https://elearning.uniroma1.it/mod/assign/view.php?id=325082) (NOTA BENE: una volta sottomesso il notebook non sono più possibili modifiche ulteriori)"
      ]
    },
    {
      "cell_type": "code",
      "metadata": {
        "id": "q8FepmxEp9TL",
        "cellView": "form",
        "outputId": "ec3e5731-f308-4200-ab97-24f54f88a904",
        "colab": {
          "base_uri": "https://localhost:8080/",
          "height": 34
        }
      },
      "source": [
        "#@ Dati personali\n",
        "import os\n",
        "\n",
        "Nome = 'Stefano'  #@param {type: \"string\"}\n",
        "Cognome = 'Giagu' #@param {type: \"string\"}\n",
        "NumeroMatricola = 12345678 #@param {type: \"number\"}\n",
        "\n",
        "if NumeroMatricola == 12345678:\n",
        "  print('\\033[1;31m Inserisci il numero di matricola corretto!!!!') \n",
        "else:\n",
        "  print('Done')"
      ],
      "execution_count": null,
      "outputs": [
        {
          "output_type": "stream",
          "text": [
            "\u001b[1;31m Inserisci il numero di matricola corretto!!!!\n"
          ],
          "name": "stdout"
        }
      ]
    },
    {
      "cell_type": "markdown",
      "metadata": {
        "id": "ZsyHPv41t9t7"
      },
      "source": [
        "# Compiti:\n",
        "\n",
        "costruire un modello basato su una rete neurale che risolva il task di predire la posizione dei massimi assoluti e relativi di una funzione 2D: $y = f (x_1, x_2)$, costituita dalla somma di due funzioni [normali bi-variate](https://en.wikipedia.org/wiki/Multivariate_normal_distribution#Bivariate_case).\n",
        "\n",
        "**Forma della funzione e parametri:** \n",
        "\n",
        "$f(x_1, x_2) = \\alpha N(x_1,x_2|\\mu_1,\\Sigma_1) + (1-\\alpha)N(x_1,x_2|\\mu_2,\\Sigma_2)$ \n",
        "\n",
        "in cui:\n",
        "\n",
        "valori medi: $\\mu_i = [\\mu_{x_1}^{(i)}, \\mu_{x_2}^{(i)}]$ \n",
        "\n",
        "matrice covarianza: $\\Sigma_i = \n",
        "\\begin{bmatrix}\n",
        "(\\sigma_{x_1}^{(i)})^2 & \\rho_i\\sigma_{x_1}^{(i)}\\sigma_{x_2}^{(i)} \\\\\n",
        "\\rho_i\\sigma_{x_1}^{(i)}\\sigma_{x_2}^{(i)} &(\\sigma_{x_2}^{(i)})^2\n",
        "\\end{bmatrix}$\n",
        "\n",
        "\n",
        "$\\alpha$ parametro $\\in [0,1]$ che fissa il peso tra le due funzioni normali bi-variate.\n",
        "\n",
        "**Suggerimento:** è possibile generare coppie $(x_1,x_2)$ in accordo ad una distribuzione normale bi-variata, usando la funzione numpy [multivariate_normal](https://numpy.org/doc/stable/reference/random/generated/numpy.random.Generator.multivariate_normal.html#numpy.random.Generator.multivariate_normal). Vedere esempio uso più in basso nel NB.\n",
        "\n",
        "### 1: Generare il Dataset:\n",
        "\n",
        "produrre un dataset di dimensione opportuna per risolvere il compito. Il modello deve essere in grado di predire le coordinate dei due massimi delle due distribuzioni normali bi-variate nel seguente range di variazione dei parametri:\n",
        "\n",
        "- $x_1 \\in [0, 10]$\n",
        "- $x_2 \\in [0, 10]$\n",
        "- $\\rho_i \\in [-0.8,0.8]$, con $\\rho_1$ e $\\rho_2$ indipendenti\n",
        "- $\\alpha \\in [0.3,0.8]$\n",
        "- $\\mu_{j}^{(i)} \\in [2,8]$, con tutti i quattro $\\mu_{j}^{(i)}$ indipendenti l'uno dall'altro\n",
        "- $\\sigma_{x_1}^{(1)} = \\sigma_{x_2}^{(1)} = 1.0$ e $\\sigma_{x_1}^{(2)} = \\sigma_{x_2}^{(2)} = 2.0$.\n",
        "\n",
        "### 2: Costuire e addestrare il modello\n",
        "\n",
        "è possibile scegliere qualsiasi dei modelli di ANN (appropriati per il compito) tra quelli trattati durante il corso. È richiesto di verificare la qualità dell'addestramento, una ottimizzazione degli iper-parametri del modello più rilevanti, e una misura corretta delle prestazioni del modello addestrato rispetto alla task. \n",
        "\n",
        "Il modello verrà testato durante la correzione su un campione indipendente che soddisfa i requisiti indicati sopra per verifcare la bontà e capacità di generalizzazione del modello proposto.\n",
        "\n",
        "Utilizzare dove necessario celle di testo (*+Text*) per descrivere (brevemente) le operazioni eseguite, motivandole e/o commentandone i risultati ottenuti.\n",
        "\n"
      ]
    },
    {
      "cell_type": "code",
      "metadata": {
        "id": "sMAJxRJPe1lY"
      },
      "source": [
        "#parte libera ... aggiungere a piacimento tutte le celle di codice e testo necessarie ..."
      ],
      "execution_count": null,
      "outputs": []
    },
    {
      "cell_type": "code",
      "metadata": {
        "id": "cDfeBPNt8MEy",
        "outputId": "fec72fdb-fc0d-47fc-ef15-a8b671f36a9a",
        "colab": {
          "base_uri": "https://localhost:8080/",
          "height": 269
        }
      },
      "source": [
        "# Esempio uso funzione numpy multivariate_normal per generare coppie di numeri in accordo ad una distribuzione gaussiana bivariata\n",
        "import numpy as np\n",
        "import matplotlib.pyplot as plt\n",
        "\n",
        "mean = [7, 3]\n",
        "cov = np.matrix([[1, -0.7], [-0.7, 1]])\n",
        "\n",
        "\n",
        "x, y = np.random.default_rng().multivariate_normal(mean, cov, 1000).T\n",
        "H, xedges, yedges = np.histogram2d(x, y, bins=(50,50), range=([0,10],[0,10]))\n",
        "plt.imshow(H.T, origin='lower', extent=[0,10,0,10])\n",
        "plt.axis('equal')\n",
        "plt.show()"
      ],
      "execution_count": null,
      "outputs": [
        {
          "output_type": "display_data",
          "data": {
            "image/png": "[encoded data removed]",
            "text/plain": [
              "<Figure size 432x288 with 1 Axes>"
            ]
          },
          "metadata": {
            "tags": [],
            "needs_background": "light"
          }
        }
      ]
    },
    {
      "cell_type": "code",
      "metadata": {
        "id": "sWWO6-Oywz8N",
        "outputId": "83fd9a16-bdf7-4270-c1b3-2532aa247cc6",
        "colab": {
          "base_uri": "https://localhost:8080/",
          "height": 51
        }
      },
      "source": [
        "#Calcolo del Massimo\n",
        "\n",
        "print('Valoore del massimo della funzioneL ',H.max())\n",
        "idx = np.argwhere(H == H.max())\n",
        "width = 10./50\n",
        "print ('Coordinate del massimo: ', idx[0][0] * width + width/2, idx[0][1] * width + width/2.)"
      ],
      "execution_count": null,
      "outputs": [
        {
          "output_type": "stream",
          "text": [
            "Valoore del massimo della funzioneL  14.0\n",
            "Coordinate del massimo:  7.1 3.3000000000000003\n"
          ],
          "name": "stdout"
        }
      ]
    }
  ]
}