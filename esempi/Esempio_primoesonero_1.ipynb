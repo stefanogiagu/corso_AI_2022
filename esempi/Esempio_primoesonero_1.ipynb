{
  "nbformat": 4,
  "nbformat_minor": 0,
  "metadata": {
    "colab": {
      "name": "Esempio_primoesonero_1.ipynb",
      "provenance": [],
      "collapsed_sections": [],
      "include_colab_link": true
    },
    "kernelspec": {
      "name": "python3",
      "display_name": "Python 3"
    },
    "language_info": {
      "name": "python"
    }
  },
  "cells": [
    {
      "cell_type": "markdown",
      "metadata": {
        "id": "view-in-github",
        "colab_type": "text"
      },
      "source": [
        "<a href=\"https://colab.research.google.com/github/stefanogiagu/corso_AI_2022/blob/main/esempi/Esempio_primoesonero_1.ipynb\" target=\"_parent\"><img src=\"https://colab.research.google.com/assets/colab-badge.svg\" alt=\"Open In Colab\"/></a>"
      ]
    },
    {
      "cell_type": "markdown",
      "metadata": {
        "id": "xM8c-0uxqDVB"
      },
      "source": [
        "# Esempio Prima Prova Esonero - Metodi AI e Machine Learning per la fisica \n"
      ]
    },
    {
      "cell_type": "code",
      "source": [
        "!rm -rf dati_ES1_2021.csv.gz labels_ES1_2021.csv.gz\n",
        "!rm -rf dati_ES1_2021.csv labels_ES1_2021.csv\n",
        "!wget http://giagu.web.cern.ch/giagu/CERN/dati_ES1_2021.csv.gz\n",
        "!wget http://giagu.web.cern.ch/giagu/CERN/labels_ES1_2021.csv.gz\n",
        "!gunzip dati_ES1_2021.csv.gz \n",
        "!gunzip labels_ES1_2021.csv.gz  "
      ],
      "metadata": {
        "id": "ajR3B2FXYtdp"
      },
      "execution_count": null,
      "outputs": []
    },
    {
      "cell_type": "markdown",
      "metadata": {
        "id": "TNv4Mq5jrOS5"
      },
      "source": [
        "# Descrizione del compito:\n",
        "\n",
        "### Dataset:\n",
        "\n",
        "il dataset fornito è costituito da due file formato *.csv*: *dati_ES1_2021.csv* e *labels_ES1_2021.csv*\n",
        "*   *dati_ES1_2021*: contiene in formato tabulare un dataset costituito da 581012 eventi ciascuno descritto da 54 feature di alto livello \n",
        "*   *labels_ES1_2021*: contiene in formato tabulare una label di classe per ciascuno degli eventi contenuti nel file precedente. Sono presenti 7 classi con label [1,2,3,4,5,6,7] \n",
        "\n",
        "**È richiesto:**\n",
        "\n",
        "1.   di effettuare una rapida analisi iniziale delle caratteristiche principali del campione fornito, commentando su quelle che riteniate più importanti \n",
        "2.   di stimare usando un'analisi di riduzione dimensionale PCA la dimensione minima dello spazio latente che spieghi almeno il 70% della varianza del campione\n",
        "3.   di identificare le 5 feature con maggiore potere discriminante rispetto agli eventi delle differenti classi\n",
        "4.   di allenare due modelli di tipo baseline basati su un Gaussian Naive Bayes, utilizzando per uno le 5 migliori feature trovate al punto 3 e per il secondo le prime 5 componenti principali dell'analisi PCA, rispetto alla task di classificare gli eventi del campione. Stimare nel modo più opportuno le prestazioni dei classificatori confrontandoli tra loro\n",
        "5.   di allenare ed ottimizzare rispetto alla massima prestazione raggiungibile, un classificatore tipo random forest utilizzando tutte le feature disponibili, e confrontare le prestazioni ottenute con quelle del modello Naive Bayes addestrato al punto 4"
      ]
    }
  ]
}