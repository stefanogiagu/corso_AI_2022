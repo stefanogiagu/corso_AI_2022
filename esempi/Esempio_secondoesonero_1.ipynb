{
  "nbformat": 4,
  "nbformat_minor": 0,
  "metadata": {
    "colab": {
      "name": "MetodiAI_Fis2021_Esonero_2.ipynb",
      "provenance": [],
      "collapsed_sections": [],
      "include_colab_link": true
    },
    "kernelspec": {
      "name": "python3",
      "display_name": "Python 3"
    },
    "language_info": {
      "name": "python"
    }
  },
  "cells": [
    {
      "cell_type": "markdown",
      "metadata": {
        "id": "view-in-github",
        "colab_type": "text"
      },
      "source": [
        "<a href=\"https://colab.research.google.com/github/stefanogiagu/corso_AI_2022/blob/main/esempi/Esempio_secondoesonero_1.ipynb\" target=\"_parent\"><img src=\"https://colab.research.google.com/assets/colab-badge.svg\" alt=\"Open In Colab\"/></a>"
      ]
    },
    {
      "cell_type": "markdown",
      "metadata": {
        "id": "xM8c-0uxqDVB"
      },
      "source": [
        "# Seconda Prova Esonero - Metodi AI e Machine Learning per la fisica \n",
        "### 03.06.2021 - AA 2020/21 - Docente: S. Giagu\n",
        "\n",
        "\n",
        "> **Regole:**\n",
        "\n",
        "*   **tempo a disposizione:** 2h30'\n",
        "\n",
        "*   compilare con i vostri dati i campi della cella che segue e poi eseguire la cella verificando che i dati printati corrispondano\n",
        "*   risolvere i quesiti/compiti indicati nella cella *Descrizione del compito* usando questo notebook \n",
        "*   una volta completato il compito sottomettere il notebook nel apposito folder sul sito e-learning del corso disponibile al link: [consegna esonero](https://elearning.uniroma1.it/mod/assign/view.php?id=405088)(NOTA BENE: una volta sottomesso il notebook non sono più possibili ulteriori modifiche)\n",
        "\n",
        "*   **NOTA:** gli studenti che usufruiscono di strumenti compensativi devono risolvere i quesiti da 1 a 4 incluso, gli altri studenti devono risolvere tutti i quesiti assegnati  "
      ]
    },
    {
      "cell_type": "code",
      "metadata": {
        "id": "cAUd9VHBqlPh",
        "colab": {
          "base_uri": "https://localhost:8080/"
        },
        "cellView": "form",
        "outputId": "cc106cfe-22f2-4f14-a4c2-9faa180c5916"
      },
      "source": [
        "#@ Dati Personali\n",
        "import os\n",
        "\n",
        "Nome = 'Stefano'  #@param {type: \"string\"}\n",
        "Cognome = 'Giagu' #@param {type: \"string\"}\n",
        "NumeroMatricola = 12345678 #@param {type: \"number\"}\n",
        "\n",
        "if NumeroMatricola == 12345678:\n",
        "  print('\\033[1;31m Inserisci il numero di matricola corretto!!!!') \n",
        "else:\n",
        "  print('Downloading datasets')\n",
        "  !rm -rf MS_vertex_esonero.npz\n",
        "  !wget http://giagu.web.cern.ch/giagu/CERN/MS_vertex_esonero.npz \n",
        "  print('Done')"
      ],
      "execution_count": null,
      "outputs": [
        {
          "output_type": "stream",
          "text": [
            "\u001b[1;31m Inserisci il numero di matricola corretto!!!!\n"
          ],
          "name": "stdout"
        }
      ]
    },
    {
      "cell_type": "markdown",
      "metadata": {
        "id": "TNv4Mq5jrOS5"
      },
      "source": [
        "# Descrizione del compito:\n",
        "\n",
        "### Dataset:\n",
        "\n",
        "il dataset fornito è costituito da un file in formato numpy binario *.npz*: *MS_vertex_esonero.npz*, che contiene due tensory numpy (data e target) con shape:\n",
        "*   data (1000,20,333)\n",
        "*   target (1000,)\n",
        "\n",
        "il tensore data contiene per 1000 esempi un'immagine binaria (valore dei pixel {0,1}) che rappresenta il segnale misurato in un rivelatore di particelle cariche in un esperimento di alta energia. I segnali sono prodotti dalle particelle (10 per ogni evento) che provengono dal decadimento di una particella madre che decade a distanze diverse dal rivelatore. Il target rappresenta la distanza di decadimento $d_0$ (in metri) della particella madre dal vertice di interazione posto nell'origine del sistema di coordinate dell'esperimento (il rivelatore si trova a 5m di distanza dall'origine, la distanza $d_0$ può assumere valori continui tra 0m (decadimento nel vertice di interazione alla massima distanza dal rivelatore) e 4.9m (decadimento molto vicino al vertice di interazione).\n",
        "\n",
        "E' possibile leggere i tensori usando il seguente esempio di codice:\n",
        "\n",
        "```\n",
        "inp_file = np.load('MS_vertex_esonero.npz')\n",
        "data = inp_file['data']\n",
        "target = inp_file['target']\n",
        "\n",
        "print(data.shape)\n",
        "print(target.shape)\n",
        "```\n",
        "\n",
        "\n",
        "**È richiesto:**\n",
        "\n",
        "1.   di graficare qualche evento del campione (3-4 eventi al massimo), e di graficare la distribuzione della distanza $d_0$ per capire come sono distribuiti gli eventi\n",
        "2.   di associare una opportuna label agli eventi del campione che li divida in eventi \"prompt\" e eventi \"displaced\", basandosi sul valore del target:\n",
        "> prompt: $d_0 <= 1.0$ m <p>\n",
        "> displaced: $d_0 >= 1.5$ m <p>\n",
        "3.   di allenare un modello di regressione basato su una architettura ANN che predica il valore della distanza di decadimento $\\hat{d}_0$ a partire da una delle immagini del campione\n",
        "4.   valutarne le prestazioni in termini sia di opportune metriche standard per task di regressione, che di risoluzione sulla stima del target (assumendo la risoluzione gaussiana) in funzione del target stesso, producendo un plot di risoluzione(target_predetto) in funzione del valore del target vero ($\\sigma_{\\hat{d}_0} ~\\text{VS}~ d_0$)\n",
        "5.  allenare un modello di classificazione basato su una architettura ANN che assegni un particolare evento ad una tra le due possibili categorie prompt o displaced, valutandone opportunamente le prestazioni\n",
        "\n",
        "Commentare in modo sintetico le scelte e operazioni eseguite nello svolgimento dei vari punti del compito."
      ]
    },
    {
      "cell_type": "code",
      "metadata": {
        "id": "-04NQU3L2kId"
      },
      "source": [
        "# codice ..."
      ],
      "execution_count": null,
      "outputs": []
    }
  ]
}