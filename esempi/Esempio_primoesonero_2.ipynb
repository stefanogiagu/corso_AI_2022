{
  "nbformat": 4,
  "nbformat_minor": 0,
  "metadata": {
    "colab": {
      "name": "Esempio_primoesonero_2.ipynb",
      "provenance": [],
      "collapsed_sections": [],
      "include_colab_link": true
    },
    "kernelspec": {
      "display_name": "Python 3",
      "name": "python3"
    },
    "language_info": {
      "name": "python"
    }
  },
  "cells": [
    {
      "cell_type": "markdown",
      "metadata": {
        "id": "view-in-github",
        "colab_type": "text"
      },
      "source": [
        "<a href=\"https://colab.research.google.com/github/stefanogiagu/corso_AI_2022/blob/main/esempi/Esempio_primoesonero_2.ipynb\" target=\"_parent\"><img src=\"https://colab.research.google.com/assets/colab-badge.svg\" alt=\"Open In Colab\"/></a>"
      ]
    },
    {
      "cell_type": "markdown",
      "metadata": {
        "id": "xM8c-0uxqDVB"
      },
      "source": [
        "# Esempio Prova Esonero - Metodi AI e Machine Learning per la fisica "
      ]
    },
    {
      "cell_type": "code",
      "source": [
        " !rm -rf MS_vertex_esonero.npz\n",
        " !wget http://giagu.web.cern.ch/giagu/CERN/MS_vertex_esonero.npz "
      ],
      "metadata": {
        "id": "wlHguDgYZXXe"
      },
      "execution_count": null,
      "outputs": []
    },
    {
      "cell_type": "markdown",
      "metadata": {
        "id": "TNv4Mq5jrOS5"
      },
      "source": [
        "# Descrizione del compito:\n",
        "\n",
        "### Dataset:\n",
        "\n",
        "il dataset fornito è costituito da un file in formato numpy binario *.npz*: *MS_vertex_esonero.npz*, che contiene due tensory numpy (data e target) con shape:\n",
        "*   data (1000,20,333)\n",
        "*   target (1000,)\n",
        "\n",
        "il tensore data contiene per 1000 esempi un'immagine binaria (valore dei pixel {0,1}) che rappresenta il segnale misurato in un rivelatore di particelle cariche in un esperimento di alta energia. I segnali sono prodotti dalle particelle (10 per ogni evento) che provengono dal decadimento di una particella madre che decade a distanze diverse dal rivelatore. Il target rappresenta la distanza di decadimento $d_0$ (in metri) della particella madre dal vertice di interazione posto nell'origine del sistema di coordinate dell'esperimento (il rivelatore si trova a 5m di distanza dall'origine, la distanza $d_0$ può assumere valori continui tra 0m (decadimento nel vertice di interazione alla massima distanza dal rivelatore) e 4.9m (decadimento molto vicino al vertice di interazione).\n",
        "\n",
        "E' possibile leggere i tensori usando il seguente esempio di codice:\n",
        "\n",
        "```\n",
        "inp_file = np.load('MS_vertex_esonero.npz')\n",
        "data = inp_file['data']\n",
        "target = inp_file['target']\n",
        "\n",
        "print(data.shape)\n",
        "print(target.shape)\n",
        "```\n",
        "\n",
        "\n",
        "**È richiesto:**\n",
        "  \n",
        "1.   di associare una opportuna label agli eventi del campione che li divida in eventi \"prompt\" e eventi \"displaced\", basandosi sul valore del target:\n",
        "> prompt: $d_0 <= 1.5$ m <p>\n",
        "> displaced: $d_0 > 1.5$ m <p>\n",
        "2.   di allenare un modello di regressione basato su una architettura RandomForest che predica il valore della distanza di decadimento $\\hat{d}_0$ a partire da una delle immagini del campione\n",
        "3.   valutarne le prestazioni in termini di metriche standard per task di regressione, che calcolando la risoluzione media su $d_0$ ($<d_0-\\hat{d}_0>$) per le due classi di eventi prompt e displaced. \n",
        "4.  allenare un modello di classificazione basato su un classificatore a k-primi vicini che assegni un particolare evento ad una tra le due possibili categorie prompt o displaced, valutandone opportunamente le prestazioni\n",
        "\n",
        "Commentare in modo sintetico le scelte e operazioni eseguite nello svolgimento dei vari punti del compito."
      ]
    },
    {
      "cell_type": "code",
      "metadata": {
        "id": "-04NQU3L2kId"
      },
      "source": [
        "# codice ..."
      ],
      "execution_count": null,
      "outputs": []
    }
  ]
}