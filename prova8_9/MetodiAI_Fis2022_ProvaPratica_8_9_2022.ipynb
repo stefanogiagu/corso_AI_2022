{
  "nbformat": 4,
  "nbformat_minor": 0,
  "metadata": {
    "colab": {
      "provenance": [],
      "collapsed_sections": [],
      "mount_file_id": "1Be15HHuRK0A4k3g2xO0dQkyesb8W0avw",
      "authorship_tag": "ABX9TyPOCr3+R1iSQtPZ3VZQpaGv",
      "include_colab_link": true
    },
    "kernelspec": {
      "name": "python3",
      "display_name": "Python 3"
    },
    "language_info": {
      "name": "python"
    }
  },
  "cells": [
    {
      "cell_type": "markdown",
      "metadata": {
        "id": "view-in-github",
        "colab_type": "text"
      },
      "source": [
        "<a href=\"https://colab.research.google.com/github/stefanogiagu/corso_AI_2022/blob/main/prova8_9/MetodiAI_Fis2022_ProvaPratica_8_9_2022.ipynb\" target=\"_parent\"><img src=\"https://colab.research.google.com/assets/colab-badge.svg\" alt=\"Open In Colab\"/></a>"
      ]
    },
    {
      "cell_type": "markdown",
      "metadata": {
        "id": "xM8c-0uxqDVB"
      },
      "source": [
        "# Prova Pratica - Metodi AI e Machine Learning per la fisica \n",
        "### 08.07.2022 - AA 2021/22 - Docente: S. Giagu\n",
        "\n",
        "\n",
        "> **Regole:**\n",
        "\n",
        "*   **tempo a disposizione:** 3h\n",
        "\n",
        "*   compilare con i vostri dati i campi della cella che segue e poi eseguire la cella verificando che i dati printati corrispondano\n",
        "*   risolvere i quesiti/compiti indicati nella cella *Descrizione del compito* usando questo notebook \n",
        "*   una volta completato il compito sottomettere il notebook nel apposito folder sul sito e-learning del corso disponibile al link: <p>\n",
        "[consegna esonero](https://elearning.uniroma1.it/mod/assign/view.php?id=488449) <p>\n",
        "NOTA BENE: una volta sottomesso il notebook non sono più possibili ulteriori modifiche"
      ]
    },
    {
      "cell_type": "code",
      "metadata": {
        "id": "cAUd9VHBqlPh",
        "colab": {
          "base_uri": "https://localhost:8080/"
        },
        "outputId": "a4a860be-777a-41b1-945b-3b2e1ab87288",
        "cellView": "form"
      },
      "source": [
        "#@ Dati Personali\n",
        "import os\n",
        "\n",
        "Nome = 'Stefano'  #@param {type: \"string\"}\n",
        "Cognome = 'Giagu' #@param {type: \"string\"}\n",
        "NumeroMatricola = 12345678 #@param {type: \"number\"}\n",
        "\n",
        "if NumeroMatricola == 12345678:\n",
        "  print('\\033[1;31m Inserisci il numero di matricola corretto!!!!') \n",
        "else:\n",
        "  !rm -rf data_mlai_8.9.2022.npz\n",
        "  !wget http://giagu.web.cern.ch/giagu/CERN/data_mlai_8.9.2022.npz\n",
        "  print('Done')"
      ],
      "execution_count": null,
      "outputs": [
        {
          "output_type": "stream",
          "name": "stdout",
          "text": [
            "\u001b[1;31m Inserisci il numero di matricola corretto!!!!\n"
          ]
        }
      ]
    },
    {
      "cell_type": "markdown",
      "metadata": {
        "id": "TNv4Mq5jrOS5"
      },
      "source": [
        "# Descrizione del compito:\n",
        "\n",
        "### Dataset:\n",
        "\n",
        "Il dataset *data_mlai_8.9.2022.npz* è in formato numpy compresso e contiene due array numpy *x* (vettore dati) e *y* (vettore label), di shape: \n",
        "\n",
        "```\n",
        "x shape: (20800, 56, 56)\n",
        "y shape: (20800,)\n",
        "```\n",
        "\n",
        "*x* contiene 20800 immagini di caratteri (lettere) scritte a mano, in scala di grigi, *y* contiene una label numerica che identifica il carattere (numero tra 1 e 26). \n",
        "\n",
        "**Compiti:**\n",
        "\n",
        "0.   leggere in numpy i due array e analizzare le caratteristiche che si ritengono più significative del dataset, plottando 9 immagini esempio del campione\n",
        "1.   nel notebook è fornito un esempio (classe *Compressore*) di modulo di pytroch che funge da compressore per il campione, una rete convoluzionale che prende l'immagine *56x56* e la comprime in una rappresentazione latente *z* di dimensione *2*. Viene chiesto di scrivere in pytroch un modulo di decompressione che a partire dalla dimensione latente *z* fornisce in input un vettore delle dimensioni dell'immagine originale.\n",
        "2.   combinare il *Compressore* e *Decompressore* in un modello di AutoEncoder ed allenarlo a ricostruire le immagini del dataset\n",
        "3.   plottare lo scatter plot dello spazio latente ($z[0]$ vs $z[1]$) per le immagini del dataset ottenute dopo aver applicato il Compressore (allenato nel AutoEncoder), colorando ciascun punto con il valore della label *y*\n",
        "4.   applicare al campione *x* una analisi PCA con 2 componenti principali, riportando la varianza spiegata da ciascuna componente\n",
        "5.   plottare lo scatter plot delle due componenti principali, colorando ciascun punto con il valore della label *y*\n",
        "6.   per confrontare la qualità dei due spazi latenti prodotti dall'AE e dalla PCA, allenare due classificatori lineari di tipo *sklearn.linear_model.LogisticRegression* al task di classificare la label *y* a partire dalla rappresentazione dello spazio latente *z* (per l'AE) e *(pca_0, pca_1)* (per la PCA). Allenando il modello usando 5000 eventi presi dal dataset, e testando l'accuracy media su ulteriori 5000 eventi diversi del dataset\n",
        "\n",
        "* commentare opportunamente i risultati ottenuti in ogni punto"
      ]
    },
    {
      "cell_type": "code",
      "source": [
        "# Modulo torch.nn per la compressione delle immagini\n",
        "# input:  immagine 2D con 1 canale (scala di grigi)\n",
        "# output: rappresentazione latente z di dimensione 2\n",
        "\n",
        "import torch\n",
        "import torchvision\n",
        "import torch.nn as nn\n",
        "import torch.nn.functional as F\n",
        "\n",
        "class Compressore(nn.Module):\n",
        "    def __init__(self):\n",
        "        super(Compressore, self).__init__()\n",
        "\n",
        "        self.c1 = nn.Conv2d(1, 16, 3, stride=2, padding=1)\n",
        "        self.c2 = nn.Conv2d(16, 32, 3, stride=2, padding=1)\n",
        "        self.c3 = nn.Conv2d(32, 64, 3, stride=2, padding=1)\n",
        "        self.c4 = nn.Conv2d(64, 128, 3, stride=2, padding=1)\n",
        "        self.l1 = nn.Linear(128 * 4* 4, 2)\n",
        "\n",
        "        self.flatten = nn.Flatten()\n",
        "        self.activ = nn.LeakyReLU(0.2)\n",
        "\n",
        "    def forward(self, input):\n",
        "        x = self.c1(input)\n",
        "        x = self.activ(x)\n",
        "        x = self.c2(x)\n",
        "        x = self.activ(x)\n",
        "        x = self.c3(x)\n",
        "        x = self.activ(x)\n",
        "        x = self.c4(x)\n",
        "        x = self.activ(x)\n",
        "\n",
        "        x = self.flatten(x) \n",
        "\n",
        "        z = self.l1(x)\n",
        "\n",
        "        return z\n",
        "\n",
        "compressore = Compressore()\n",
        "\n",
        "from torchsummary import summary\n",
        "if torch.cuda.is_available():\n",
        "  summary(compressore.cuda(), input_size=(1,56,56))\n",
        "else:\n",
        "  summary(compressore, input_size=(1,56,56))"
      ],
      "metadata": {
        "colab": {
          "base_uri": "https://localhost:8080/"
        },
        "id": "38kPjnHi_UjE",
        "outputId": "4a6f2656-9bda-451d-fc2a-1f9b8f2b4a56"
      },
      "execution_count": null,
      "outputs": [
        {
          "output_type": "stream",
          "name": "stdout",
          "text": [
            "----------------------------------------------------------------\n",
            "        Layer (type)               Output Shape         Param #\n",
            "================================================================\n",
            "            Conv2d-1           [-1, 16, 28, 28]             160\n",
            "         LeakyReLU-2           [-1, 16, 28, 28]               0\n",
            "            Conv2d-3           [-1, 32, 14, 14]           4,640\n",
            "         LeakyReLU-4           [-1, 32, 14, 14]               0\n",
            "            Conv2d-5             [-1, 64, 7, 7]          18,496\n",
            "         LeakyReLU-6             [-1, 64, 7, 7]               0\n",
            "            Conv2d-7            [-1, 128, 4, 4]          73,856\n",
            "         LeakyReLU-8            [-1, 128, 4, 4]               0\n",
            "           Flatten-9                 [-1, 2048]               0\n",
            "           Linear-10                    [-1, 2]           4,098\n",
            "================================================================\n",
            "Total params: 101,250\n",
            "Trainable params: 101,250\n",
            "Non-trainable params: 0\n",
            "----------------------------------------------------------------\n",
            "Input size (MB): 0.01\n",
            "Forward/backward pass size (MB): 0.38\n",
            "Params size (MB): 0.39\n",
            "Estimated Total Size (MB): 0.78\n",
            "----------------------------------------------------------------\n"
          ]
        }
      ]
    },
    {
      "cell_type": "code",
      "metadata": {
        "id": "-04NQU3L2kId"
      },
      "source": [
        "# codice ..."
      ],
      "execution_count": null,
      "outputs": []
    }
  ]
}