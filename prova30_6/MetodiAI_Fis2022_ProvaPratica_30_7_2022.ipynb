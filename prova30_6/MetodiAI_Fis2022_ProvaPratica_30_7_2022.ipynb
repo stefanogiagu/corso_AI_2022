{
  "nbformat": 4,
  "nbformat_minor": 0,
  "metadata": {
    "colab": {
      "name": "MetodiAI_Fis2022_ProvaPratica_30.7.2022.ipynb",
      "provenance": [],
      "collapsed_sections": [],
      "authorship_tag": "ABX9TyO8bt7SdHFYhqNMxRlQO5Uw",
      "include_colab_link": true
    },
    "kernelspec": {
      "name": "python3",
      "display_name": "Python 3"
    },
    "language_info": {
      "name": "python"
    }
  },
  "cells": [
    {
      "cell_type": "markdown",
      "metadata": {
        "id": "view-in-github",
        "colab_type": "text"
      },
      "source": [
        "<a href=\"https://colab.research.google.com/github/stefanogiagu/corso_AI_2022/blob/main/prova30_6/MetodiAI_Fis2022_ProvaPratica_30_7_2022.ipynb\" target=\"_parent\"><img src=\"https://colab.research.google.com/assets/colab-badge.svg\" alt=\"Open In Colab\"/></a>"
      ]
    },
    {
      "cell_type": "markdown",
      "metadata": {
        "id": "xM8c-0uxqDVB"
      },
      "source": [
        "# Prova Pratica - Metodi AI e Machine Learning per la fisica \n",
        "### 30.06.2023 - AA 2021/22 - Docente: S. Giagu\n",
        "\n",
        "\n",
        "> **Regole:**\n",
        "\n",
        "*   **tempo a disposizione:** (recupero esoneri: 2h, intero compito 2h30')\n",
        "\n",
        "*   compilare con i vostri dati i campi della cella che segue e poi eseguire la cella verificando che i dati printati corrispondano\n",
        "*   risolvere i quesiti/compiti indicati nella cella *Descrizione del compito* usando questo notebook \n",
        "*   una volta completato il compito sottomettere il notebook nel apposito folder sul sito e-learning del corso disponibile al link: <p>\n",
        "[consegna esonero](https://elearning.uniroma1.it/mod/assign/view.php?id=485510) <p>\n",
        "NOTA BENE: una volta sottomesso il notebook non sono più possibili ulteriori modifiche"
      ]
    },
    {
      "cell_type": "code",
      "metadata": {
        "cellView": "form",
        "id": "cAUd9VHBqlPh",
        "colab": {
          "base_uri": "https://localhost:8080/"
        },
        "outputId": "02168077-a033-4193-bc6f-4aa0a6fbb96c"
      },
      "source": [
        "#@ Dati Personali\n",
        "import os\n",
        "\n",
        "Nome = 'Stefano'  #@param {type: \"string\"}\n",
        "Cognome = 'Giagu' #@param {type: \"string\"}\n",
        "NumeroMatricola = 12345678 #@param {type: \"number\"}\n",
        "\n",
        "\n",
        "if NumeroMatricola == 12345678:\n",
        "  print('\\033[1;31m Inserisci il numero di matricola corretto!!!!') \n",
        "else:\n",
        "  print('Downloading datasets')\n",
        "  !rm -rf data_bc_2022.npz\n",
        "  !wget --load-cookies /tmp/cookies.txt \"https://docs.google.com/uc?export=download&confirm=$(wget --quiet --save-cookies /tmp/cookies.txt --keep-session-cookies --no-check-certificate 'https://docs.google.com/uc?export=download&id=1lBRme1zjnYEbeHou2FjDcKONJxVvSN2y' -O- | sed -rn 's/.*confirm=([1-9A-Za-z_]+).*/\\1\\n/p')&id=1lBRme1zjnYEbeHou2FjDcKONJxVvSN2y\" -O data_bc_2022.npz && rm -rf /tmp/cookies.txt\n",
        "  print('Done')"
      ],
      "execution_count": null,
      "outputs": [
        {
          "output_type": "stream",
          "name": "stdout",
          "text": [
            "\u001b[1;31m Inserisci il numero di matricola corretto!!!!\n"
          ]
        }
      ]
    },
    {
      "cell_type": "markdown",
      "metadata": {
        "id": "TNv4Mq5jrOS5"
      },
      "source": [
        "# Descrizione del compito:\n",
        "\n",
        "### Dataset:\n",
        "\n",
        "il dataset fornito è costituito da un file formato *.npz* (numpy compresso): *data_bc_2022.npz*\n",
        "*   contiene in formato numpy 2 array: *images*, e *labels* di shape:\n",
        "\n",
        "```\n",
        "(9720, 120, 120, 3)\n",
        "(9720,)\n",
        "```\n",
        "\n",
        "*images* contiene immagini microscopiche di dimensione $(120,120,3)$ RGB a 8bit di globuli bianchi appartenenti a quattro tipologie differenti identificate da una label numerica ${0,1,2,3}$ contenuta nell'array *labels*.\n",
        "\n",
        "**Compiti (recupero primo esonero):**\n",
        "\n",
        "0.   leggere in numpy i due array e analizzare le caratteristiche che si ritengono più significative del dataset, plottando 9 immagini scelte in modo random da *images* e indicando sul plot la label associata\n",
        "1.   applicare una riduzione dimensionale del campione basata su PCA con 50 componenti e plottare le prime due componenti colorando i punti con la label associata\n",
        "2.   addestrare un clasificatore naive bayes al task di classificare la tipologia di globulo bianco e caratterizarne le prestazioni nel modo che si ritiene più opportuno\n",
        "3.   addestrare un ExtraTreesClassifier per la same task del punto precedente, e confrontarne le prestazioni ottenute\n",
        "\n",
        "* commentare opportunamente i risultati ottenuti in ogni punto\n",
        "\n",
        "**Compiti (recupero secondo esonero):**\n",
        "\n",
        "4.   leggere in numpy i due array e analizzare le caratteristiche che si ritengono più significative del dataset, plottando 9 immagini scelte in modo random da *images* e indicando sul plot la label associata\n",
        "5.   addestrare la rete neurale più conveniente per risolvere il task di classificare la tipologia di globulo bianco e caratterizarne le prestazioni nel modo che si ritiene più opportuno\n",
        "6.   addestrare un auto-encoder in grado di comprimere di un fattore pari a $360$ le immgini in input, e graficare la distribuzione degli score *MAE* e *CosineSimilarity* tra le immagini originali e quelle compresse\n",
        "\n",
        "* commentare opportunamente i risultati ottenuti in ogni punto\n",
        "\n",
        "**Compiti (intera prova):**\n",
        "\n",
        "risolvere i punti 4,5 e 6 del recupero secondo esonero ed inoltre:\n",
        "\n",
        "7.   addestrare un clasificatore naive bayes al task di classificare la tipologia di globulo bianco *a partire dalla rappresentazione compressa $z$ ottenuta dall'auto-encoder*, e caratterizarne le prestazioni nel modo che si ritiene più opportuno\n",
        "\n",
        "* commentare opportunamente i risultati ottenuti in ogni punto"
      ]
    },
    {
      "cell_type": "code",
      "metadata": {
        "id": "-04NQU3L2kId"
      },
      "source": [
        "# codice ..."
      ],
      "execution_count": null,
      "outputs": []
    }
  ]
}