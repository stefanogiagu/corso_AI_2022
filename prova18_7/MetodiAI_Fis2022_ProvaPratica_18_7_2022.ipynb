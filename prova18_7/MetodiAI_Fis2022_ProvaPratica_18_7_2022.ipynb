{
  "nbformat": 4,
  "nbformat_minor": 0,
  "metadata": {
    "colab": {
      "name": "MetodiAI_Fis2022_ProvaPratica_18.7.2022.ipynb",
      "provenance": [],
      "collapsed_sections": [],
      "authorship_tag": "ABX9TyOa5s03m528GDy+wWJ/vssN",
      "include_colab_link": true
    },
    "kernelspec": {
      "name": "python3",
      "display_name": "Python 3"
    },
    "language_info": {
      "name": "python"
    }
  },
  "cells": [
    {
      "cell_type": "markdown",
      "metadata": {
        "id": "view-in-github",
        "colab_type": "text"
      },
      "source": [
        "<a href=\"https://colab.research.google.com/github/stefanogiagu/corso_AI_2022/blob/main/prova18_7/MetodiAI_Fis2022_ProvaPratica_18_7_2022.ipynb\" target=\"_parent\"><img src=\"https://colab.research.google.com/assets/colab-badge.svg\" alt=\"Open In Colab\"/></a>"
      ]
    },
    {
      "cell_type": "markdown",
      "metadata": {
        "id": "xM8c-0uxqDVB"
      },
      "source": [
        "# Prova Pratica - Metodi AI e Machine Learning per la fisica \n",
        "### 18.07.2022 - AA 2021/22 - Docente: S. Giagu\n",
        "\n",
        "\n",
        "> **Regole:**\n",
        "\n",
        "*   **tempo a disposizione:** (recupero esoneri: 2h, intero compito 2h30')\n",
        "\n",
        "*   compilare con i vostri dati i campi della cella che segue e poi eseguire la cella verificando che i dati printati corrispondano\n",
        "*   risolvere i quesiti/compiti indicati nella cella *Descrizione del compito* usando questo notebook \n",
        "*   una volta completato il compito sottomettere il notebook nel apposito folder sul sito e-learning del corso disponibile al link: <p>\n",
        "[consegna esonero](https://elearning.uniroma1.it/mod/assign/view.php?id=487513) <p>\n",
        "NOTA BENE: una volta sottomesso il notebook non sono più possibili ulteriori modifiche"
      ]
    },
    {
      "cell_type": "code",
      "metadata": {
        "id": "cAUd9VHBqlPh",
        "colab": {
          "base_uri": "https://localhost:8080/"
        },
        "outputId": "98ea4e18-9d9d-4620-a3b9-74e7918ce423",
        "cellView": "form"
      },
      "source": [
        "#@ Dati Personali\n",
        "import os\n",
        "\n",
        "Nome = 'Stefano'  #@param {type: \"string\"}\n",
        "Cognome = 'Giagu' #@param {type: \"string\"}\n",
        "NumeroMatricola = 12345678 #@param {type: \"number\"}\n",
        "\n",
        "if NumeroMatricola == 12345678:\n",
        "  print('\\033[1;31m Inserisci il numero di matricola corretto!!!!') \n",
        "else:\n",
        "  print('Downloading samples ...')\n",
        "  !wget http://giagu.web.cern.ch/giagu/CERN/AI_18.7.2022/AI_18.7.2022_sample_A.npz\n",
        "  !wget http://giagu.web.cern.ch/giagu/CERN/AI_18.7.2022/AI_18.7.2022_sample_B.npz\n",
        "  !wget http://giagu.web.cern.ch/giagu/CERN/AI_18.7.2022/AI_18.7.2022_sample_C.npz\n",
        "  print('Done')"
      ],
      "execution_count": null,
      "outputs": [
        {
          "output_type": "stream",
          "name": "stdout",
          "text": [
            "\u001b[1;31m Inserisci il numero di matricola corretto!!!!\n"
          ]
        }
      ]
    },
    {
      "cell_type": "markdown",
      "metadata": {
        "id": "TNv4Mq5jrOS5"
      },
      "source": [
        "# Descrizione del compito:\n",
        "\n",
        "### Dataset:\n",
        "\n",
        "Scaricare i 3 datasets: *AI_18.7.2022_sample_A/B/C.npz* eseguendo la cella sovrastante (inserite nome, cognome e numero di matricola e poi eseguite la cella).\n",
        "\n",
        "I tre file contengono array numpy in fromato *.npz* (numpy compresso). Ogni file contiene 2 array: *X* (vettore features), e *Y* (vettore labels) di shape:\n",
        "\n",
        "```\n",
        "(3000, 9)\n",
        "(3000,)\n",
        "```\n",
        "\n",
        "*X* contiene 3000 esempi di 9 features di un problema multivariato di classificazione con 2 classi di label 0 e 1 indicate nel array *Y*\n",
        "\n",
        "**Compiti (recupero primo esonero):**\n",
        "\n",
        "0.   leggere in numpy i tre array e analizzare le caratteristiche che si ritengono più significative dei datasets;\n",
        "1.   indicare, utilizzando come algoritmo una LinearDiscriminantAnalysis di sklearn, quali dei tre dataset sono **linearmente separabili** e quali no, e quale dei tre è il più complesso da classificare e quale invece risulta il più semplice;\n",
        "2.   per il campione più complesso da classificare, indicare quali feature sono più importanti (e.g. applicare un algoritmo di feature importance di vosta scelta) e ordinare le feature in importanza;\n",
        "3.   per il campione più complesso confrontare le prestazioni di classificazione in termini di accuracy media, curva ROC e valore della AUC, tra le prestazioni ottenute con il classificatore lineare, e quelle ottenibili con un classificatore a k-NN, e quelle ottenibili con un classificatore random forest, allenate per a setssa task.\n",
        "\n",
        "* commentare opportunamente i risultati ottenuti in ogni punto\n",
        "\n",
        "**Compiti (recupero secondo esonero):**\n",
        "\n",
        "4.   leggere in numpy i tre array e analizzare le caratteristiche che si ritengono più significative dei datasets;\n",
        "5.   implementare in pytorch un modello di discriminante lineare (e.g. un solo layer lineare senza layer hidden con 10 parametri addestrabili) e utilizzando tale modello dire quali dei tre dataset sono **linearmente separabili** e quali no, e quale dei tre è il più complesso da classificare e quale invece risulta il più semplice;\n",
        "6.   per il campione più complesso da classificare, confrontare le prestazioni di classificazione in termini di accuracy media, curva ROC e valore della AUC, tra le prestazioni ottenute con il discriminante lineare, e quelle ottenibili con un MLP, allenato per la stessa task, tenendo presente che l'archiettura dell'MLP dovrà avere al massimo 18000 parametri addestrabili. \n",
        "\n",
        "* commentare opportunamente i risultati ottenuti in ogni punto\n",
        "\n",
        "**Compiti (intera prova):**\n",
        "\n",
        "risolvere i punti 0,1,2,3 e il punto 5.\n",
        "\n",
        "* commentare opportunamente i risultati ottenuti in ogni punto"
      ]
    },
    {
      "cell_type": "code",
      "metadata": {
        "id": "-04NQU3L2kId"
      },
      "source": [
        "# codice ..."
      ],
      "execution_count": null,
      "outputs": []
    }
  ]
}