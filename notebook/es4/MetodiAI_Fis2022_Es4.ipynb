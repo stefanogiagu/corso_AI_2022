{
  "nbformat": 4,
  "nbformat_minor": 0,
  "metadata": {
    "anaconda-cloud": {},
    "kernelspec": {
      "display_name": "Python 3",
      "language": "python",
      "name": "python3"
    },
    "language_info": {
      "codemirror_mode": {
        "name": "ipython",
        "version": 3
      },
      "file_extension": ".py",
      "mimetype": "text/x-python",
      "name": "python",
      "nbconvert_exporter": "python",
      "pygments_lexer": "ipython3",
      "version": "3.5.2"
    },
    "colab": {
      "name": "MetodiAI_Fis2022_Es4.ipynb",
      "provenance": [],
      "collapsed_sections": [],
      "include_colab_link": true
    }
  },
  "cells": [
    {
      "cell_type": "markdown",
      "metadata": {
        "id": "view-in-github",
        "colab_type": "text"
      },
      "source": [
        "<a href=\"https://colab.research.google.com/github/stefanogiagu/corso_AI_2022/blob/main/notebook/es4/MetodiAI_Fis2022_Es4.ipynb\" target=\"_parent\"><img src=\"https://colab.research.google.com/assets/colab-badge.svg\" alt=\"Open In Colab\"/></a>"
      ]
    },
    {
      "cell_type": "markdown",
      "metadata": {
        "id": "EGRt2VfXsBRl"
      },
      "source": [
        "# Esercitazione 4: classificazione stato di un modello di Ising 2D e predizione del suo stato di magnetizzazione media con modelli di Decision Trees e Random Forests\n",
        "\n",
        "**Task:** implementare algoritmi di classificazione e regressione basati su alberi e foreste di alberi di decisioni binarie con bagging per lo studio di un sistema di ising in 2D con condizioni periodiche al contorno"
      ]
    },
    {
      "cell_type": "code",
      "metadata": {
        "id": "30WstVVD1cLP",
        "colab": {
          "base_uri": "https://localhost:8080/"
        },
        "outputId": "2cb133e8-f1dc-4658-a988-381518696ab1"
      },
      "source": [
        "!rm -rf ising_conf.dat.gz\n",
        "!rm -rf ising_conf.dat\n",
        "!rm -rf ising_label.dat.gz\n",
        "!rm -rf ising_label.dat\n",
        "!rm -rf JetSubStruct.dat.gz\n",
        "!wget http://giagu.web.cern.ch/giagu/CERN/ising_conf.dat.gz\n",
        "!wget http://giagu.web.cern.ch/giagu/CERN/ising_label.dat.gz\n",
        "!gunzip ising_conf.dat.gz\n",
        "!gunzip ising_label.dat.gz"
      ],
      "execution_count": 1,
      "outputs": [
        {
          "output_type": "stream",
          "name": "stdout",
          "text": [
            "--2022-03-30 13:46:27--  http://giagu.web.cern.ch/giagu/CERN/ising_conf.dat.gz\n",
            "Resolving giagu.web.cern.ch (giagu.web.cern.ch)... 188.184.21.205, 2001:1458:d00:34::100:59\n",
            "Connecting to giagu.web.cern.ch (giagu.web.cern.ch)|188.184.21.205|:80... connected.\n",
            "HTTP request sent, awaiting response... 200 OK\n",
            "Length: 2953855 (2.8M) [application/gzip]\n",
            "Saving to: ‘ising_conf.dat.gz’\n",
            "\n",
            "ising_conf.dat.gz   100%[===================>]   2.82M   499KB/s    in 9.2s    \n",
            "\n",
            "2022-03-30 13:46:38 (314 KB/s) - ‘ising_conf.dat.gz’ saved [2953855/2953855]\n",
            "\n",
            "--2022-03-30 13:46:38--  http://giagu.web.cern.ch/giagu/CERN/ising_label.dat.gz\n",
            "Resolving giagu.web.cern.ch (giagu.web.cern.ch)... 188.184.21.205, 2001:1458:d00:34::100:59\n",
            "Connecting to giagu.web.cern.ch (giagu.web.cern.ch)|188.184.21.205|:80... connected.\n",
            "HTTP request sent, awaiting response... 200 OK\n",
            "Length: 86723 (85K) [application/gzip]\n",
            "Saving to: ‘ising_label.dat.gz’\n",
            "\n",
            "ising_label.dat.gz  100%[===================>]  84.69K   342KB/s    in 0.2s    \n",
            "\n",
            "2022-03-30 13:46:38 (342 KB/s) - ‘ising_label.dat.gz’ saved [86723/86723]\n",
            "\n"
          ]
        }
      ]
    },
    {
      "cell_type": "markdown",
      "metadata": {
        "id": "UmiJY2e0sBRn"
      },
      "source": [
        "### Informazioni di base sul Modello di Ising 2D ###\n",
        "\n",
        "dettagli (definizione teorica e simulazione) nella [nota](https://vixra.org/pdf/1710.0021v2.pdf).\n",
        "\n",
        "È costituito da una serie di spin (che possono assumere solo i valori -1 (down) e +1 (up)) interagenti tra loro, posti ai vertici di un reticolo quadrato bidimensionale. La dinamica del sistema (in assenza di campo magnetico esterno) è descritta dall'Hamiltoniana: \n",
        "\n",
        "$$ H = -J\\sum_{\\langle ij\\rangle}S_{i}S_j,\\qquad \\qquad S_j\\in\\{\\pm 1\\} $$\n",
        "\n",
        "in cui gli indici del reticolo $i,j$ sono associati ai primi vicini di un reticolo 2D quadrato di lato $L$, e $J$ è un parametro di scala arbitrario che definisce la scala dell'energia di interazione tra gli spin $S_i$.\n",
        "Si utilizzano condizioni periodiche al contorno sul reticolo.\n",
        "\n",
        "Si può dimostrare che questo sistema presenta una transizione di fase nel limite termodinamico da un sistema ordinato con tutti gli spin allineati (ferromagnete ordinato) a temperatura zero, a una fase disordinata con spin competamente random, ad alta temperatura. La temperatura critica a cui avviene la transizione è data da $T_c/J=1/\\log(1+\\sqrt{2})\\approx 2.26$.\n",
        "\n",
        "\n",
        "**Dataset:**\n",
        "\n",
        "Viene fornito \n",
        "25k configurazioni con $T/J$ uniforme in $[0,5]$ di un modello ising 2D su un reticolo $28\\times 28$ simulato tramite un semplice Monte Carlo tipo Metropolis. \n",
        "\n",
        "Il campione è disponibile in due file:\n",
        "\n",
        "* configurazioni: *ising_conf.dat*\n",
        "* label: *ising_label.dat*\n",
        "\n",
        "NOTA BENE: le configurazioni sono salvate in file testuali, che letti con numpy (*np.loadtxt*) forniscono tensori di shape *(25000x28,28)* che vanno reshaped nel formato *(25000,28x28)* e *(25000,28,28)* per essere utilizzati con scikit-learn in modo efficiente."
      ]
    },
    {
      "cell_type": "markdown",
      "metadata": {
        "id": "Cx1fqjsbsBRo"
      },
      "source": [
        "**Parte 1:**\n",
        "\n",
        "Loading, analisi e pre-processamento del dataset:\n",
        "\n",
        "1.   leggere le configurazioni e salvarle in due tensori numpy *data(25000,784)* e *data_2d(25000,28,28)*, usando il metodo *np.loadtxt* di numpy. Idem per le temperature: *temp(25000,1)* \n",
        "2.   poiché è noto che vicino alla temepratura critica $T_c$, la lunghezza delle correlazioni ferromagnetiche diverge, rendendo difficile identificare la fase, dvidere il campione in tre sotto-campioni corrispondenti alle classi:\n",
        "\n",
        "* ordinato: $T<2.0$\n",
        "* critico: $2.0\\leq T\\leq 2.5$\n",
        "* disordinato: $T>2.5$\n",
        "\n",
        "     costruendo un nuovo tensore numpy di label *(0,1,2)* da associare ad ogni configurazione in *data/data_2d*.\n",
        "    \n",
        "3.   visualizzare un evento per ciascuna classe usando matplotlib: *plt.imshow*  (nota: usare il tensore in formato (28,28) *data_2d*)\n"
      ]
    },
    {
      "cell_type": "code",
      "metadata": {
        "id": "YU3U7vcDXGZU"
      },
      "source": [
        "#code"
      ],
      "execution_count": null,
      "outputs": []
    },
    {
      "cell_type": "code",
      "metadata": {
        "colab": {
          "base_uri": "https://localhost:8080/"
        },
        "id": "1SkcaQ8vXH-y",
        "cellView": "form",
        "outputId": "321080b8-7f29-4763-abcf-ee32234d7514"
      },
      "source": [
        "#@title Soluzione 1.1\n",
        "import numpy as np\n",
        "\n",
        "rnd_ini = 123456\n",
        "np.random.seed(rnd_ini) # shuffle random seed generator\n",
        "\n",
        "# Ising model parameters\n",
        "L=28 # size del reticolo\n",
        "J=1.0 # Ising interaction (1 ferromagnetico, -1 anti-ferromagnetico)\n",
        "T_c=2.26 # Temperatura critica\n",
        "\n",
        "#leggiamo le configurazioni ising dal file usando numpy (25k esempi oguno da 28x28 spin)\n",
        "data = np.loadtxt('ising_conf.dat')\n",
        "data = data.reshape(25000,28*28)\n",
        "print('data shape: ',data.shape)\n",
        "\n",
        "# al fine di visualizzare alcune delle configurazioni convertiamo il vettore numpy un tensore di 25K eventi ognuno \n",
        "# formato da una matrice 28x28 di spin\n",
        "data_2d = data.reshape(data.shape[0],28,28)\n",
        "print('data_2d shape: ',data_2d.shape)\n",
        "\n",
        "#leggiamo da file le label associate:\n",
        "temp = np.loadtxt('ising_label.dat')\n",
        "print('temp shape: ',temp.shape)"
      ],
      "execution_count": 3,
      "outputs": [
        {
          "output_type": "stream",
          "name": "stdout",
          "text": [
            "data shape:  (25000, 784)\n",
            "data_2d shape:  (25000, 28, 28)\n",
            "temp shape:  (25000,)\n"
          ]
        }
      ]
    },
    {
      "cell_type": "code",
      "metadata": {
        "colab": {
          "base_uri": "https://localhost:8080/"
        },
        "id": "Vp8ME2CCYXi2",
        "cellView": "form",
        "outputId": "c71c35e7-40c0-4aab-c242-dfcb18ef57d0"
      },
      "source": [
        "#@title Soluzione 1.2\n",
        "# dividiamo il campione in 3 campioni sulla base dello stato (ordinato, critico, disordinato)\n",
        "# T/J < 2.0 ordinato\n",
        "# T/J in [2.0,2.5] critico\n",
        "# T/J > 2.5 disordinato\n",
        "\n",
        "ord_sele = (temp < 2.0)\n",
        "cri_sele = ((temp >= 2.0) & (temp <= 2.5))\n",
        "dis_sele = (temp > 2.5)\n",
        "\n",
        "labels = np.zeros(shape=temp.shape)\n",
        "labels[ord_sele]=0\n",
        "labels[cri_sele]=1\n",
        "labels[dis_sele]=2\n",
        "\n",
        "print('labels shape: ',labels.shape) \n",
        "print('# conf. ordinate: ', labels[ord_sele].shape[0])\n",
        "print('# conf. critiche: ', labels[cri_sele].shape[0])\n",
        "print('# conf. disordinate: ', labels[dis_sele].shape[0])"
      ],
      "execution_count": 4,
      "outputs": [
        {
          "output_type": "stream",
          "name": "stdout",
          "text": [
            "labels shape:  (25000,)\n",
            "# conf. ordinate:  9953\n",
            "# conf. critiche:  2563\n",
            "# conf. disordinate:  12484\n"
          ]
        }
      ]
    },
    {
      "cell_type": "code",
      "metadata": {
        "colab": {
          "base_uri": "https://localhost:8080/",
          "height": 288
        },
        "id": "bpRqzaTZZrLJ",
        "cellView": "form",
        "outputId": "d7a7e66c-5451-4fcf-bff8-ecf95011c99d"
      },
      "source": [
        "#@title Soluzione 1.3\n",
        "import matplotlib.pyplot as plt\n",
        "\n",
        "# set colourbar map\n",
        "cmap_args=dict(cmap='plasma_r')\n",
        "\n",
        "# plot states\n",
        "fig, axarr = plt.subplots(nrows=1, ncols=3)\n",
        "\n",
        "ieve = 11 #seleziono un evento a caso di ogni classe\n",
        "axarr[0].imshow((data_2d[ord_sele])[ieve],**cmap_args)\n",
        "axarr[0].set_title('ordered phase',fontsize=16)\n",
        "axarr[0].tick_params(labelsize=16)\n",
        "\n",
        "axarr[1].imshow((data_2d[cri_sele])[ieve],**cmap_args)\n",
        "axarr[1].set_title('critical region',fontsize=16)\n",
        "axarr[1].tick_params(labelsize=16)\n",
        "\n",
        "im=axarr[2].imshow((data_2d[dis_sele])[ieve],**cmap_args)\n",
        "axarr[2].set_title('disordered phase',fontsize=16)\n",
        "axarr[2].tick_params(labelsize=16)\n",
        "\n",
        "fig.subplots_adjust(right=2.0)\n",
        "\n",
        "plt.show()"
      ],
      "execution_count": 6,
      "outputs": [
        {
          "output_type": "display_data",
          "data": {
            "text/plain": [
              "<Figure size 432x288 with 3 Axes>"
            ],
            "image/png": "[encoded data removed]"
          },
          "metadata": {
            "needs_background": "light"
          }
        }
      ]
    },
    {
      "cell_type": "markdown",
      "metadata": {
        "id": "uPXWmhhHODdt"
      },
      "source": [
        "**Parte 2**:\n",
        "\n",
        "Implementazione di dueclassificatori basati su un **albero di decisione binaria, una random forest (basata su bagging)**, addestrati alla task di identificare la classe (0,1,2) delle configurazioni (ordinata, critica, disordinata).\n",
        "\n",
        "1.   dividere campione e label in tre sotto-campioni: **training, validation e test set** (*60-20-20 %*) usando sklearn:\n",
        "\n",
        "`from sklearn.model_selection import train_test_split`\n",
        "\n",
        "2.   implementare e **addestrare sul campione di training** i due classificator:\n",
        "\n",
        "```\n",
        "from sklearn.tree import DecisionTreeClassifier\n",
        "from sklearn.ensemble import RandomForestClassifier\n",
        "```\n",
        "\n",
        "3.   usando come metrica l'accuracy, **ottmizzare gli iperparametri** dei modelli (NOTA: valutare l'accuracy sia sul **training set** che sul **validation set** e usare quest'ultima come misura non distorta delle prestazioni in generalizzazione del modello):\n",
        "\n",
        "*   DecisionTreeClassifier: *max_depth*, 10 valori in [1,10]\n",
        "*   RandomForestClassifier: *n_estimators*, 10 valori in [2,100], e *min_samples_split*, testare 2 valori per il parametro =2 e =10000\n",
        "\n",
        "4.  insieme all'accuracy stimata sul test calcolare anche l'accuracy sul campione Out-Of-Bag (OOB: disponibile solo per le RandomForest, vedi la nota successiva per una spiegazione)\n",
        "5.   graficare accuracy e stima OOB sul training e test set in funzione del valore del parametro ottimizzato \n",
        "6.   confrontare in termini di **accuracy media** e **matrice di confusione** calcolate sul *campione di test* i risultati ottenuti con i due modelli ottimizzati"
      ]
    },
    {
      "cell_type": "markdown",
      "metadata": {
        "id": "_lzuasnBTy6r"
      },
      "source": [
        "**NOTA: RandomForest in scikit-learn**\n",
        "\n",
        "**Iperparametri**\n",
        "\n",
        "Usiamo l'implementazione in [scikit-learn](https://scikit-learn.org/stable/modules/generated/sklearn.ensemble.RandomForestClassifier.html) che ha due iperparamteri principali che possono modificare anche sensibimente le prestazioni del modello e il livelo di overfit/underfit: il numero di alberi nella foresta e la complessità di ciascun albero: il primo è controllato dal parametro `n_estimators`, mentre la complesiità è controllata da vari parametri `min_samples_split`, `min_samples_leaf`, `min_impurity_decrease`, etc, in parte correlati tra loro. Nell'esempio in esame per semplicità useremo solo `min_samples_split` (governa il numero di campioni necessari per procedere ad uno split di un nodo: più alto è il numero minore sarà la segmentazione e le diramazioni dell'albero.\n",
        "Per il semplice DecisionTreeClassifier useremo *max_depth*: che controlla la massima profondità dell'albero.\n",
        "\n",
        "**Stima OOB (Out Of Bag)**\n",
        "\n",
        "È un metodo molto utile per ottimizzare gli iperparametri quando si usano metodi di bagging: consiste nel verificare quanto bene funziona il classificatore su quegli eventi del training set che non sono stati usati perchè non campionati nella technica di boostrap. Gioca un ruolo simile alla k-fold cross-validation. È disponibile come metodo di RandomForestClassifier: *.oob_score_*"
      ]
    },
    {
      "cell_type": "code",
      "metadata": {
        "id": "8VcSVs56fB4K"
      },
      "source": [
        "#code"
      ],
      "execution_count": null,
      "outputs": []
    },
    {
      "cell_type": "code",
      "metadata": {
        "colab": {
          "base_uri": "https://localhost:8080/"
        },
        "cellView": "form",
        "id": "ud-1rfDVfCFP",
        "outputId": "71266b89-d597-4c68-9369-acff12c82952"
      },
      "source": [
        "#@title Soluzione 2.1\n",
        "##Dividiamo il campione per il training\n",
        "from sklearn.model_selection import train_test_split\n",
        "train_to_rest_ratio=0.6 # training sample 60%\n",
        "vali_to_test_ratio=0.5  #  validation and test sets: 50%-50% of remianining 40%\n",
        "\n",
        "# selezioniamo random data points dai campioni ordinati e disordinati per cerare training e test\n",
        "X_train,X,Y_train,Y=train_test_split(data,labels,train_size=train_to_rest_ratio, shuffle=True, random_state=rnd_ini)\n",
        "X_vali,X_test,Y_vali,Y_test=train_test_split(X,Y,train_size=vali_to_test_ratio, shuffle=True, random_state=rnd_ini)\n",
        "\n",
        "print('X_train shape:', X_train.shape)\n",
        "print('Y_train shape:', Y_train.shape)\n",
        "print('X_vali shape:', X_vali.shape)\n",
        "print('Y_vali shape:', Y_vali.shape)\n",
        "print('X_test shape:', X_test.shape)\n",
        "print('Y_test shape:', Y_test.shape)"
      ],
      "execution_count": 7,
      "outputs": [
        {
          "output_type": "stream",
          "name": "stdout",
          "text": [
            "X_train shape: (15000, 784)\n",
            "Y_train shape: (15000,)\n",
            "X_vali shape: (5000, 784)\n",
            "Y_vali shape: (5000,)\n",
            "X_test shape: (5000, 784)\n",
            "Y_test shape: (5000,)\n"
          ]
        }
      ]
    },
    {
      "cell_type": "code",
      "metadata": {
        "colab": {
          "base_uri": "https://localhost:8080/",
          "height": 584
        },
        "cellView": "form",
        "id": "gFIwlSnBg2V0",
        "outputId": "44191be0-ea4d-488e-eb26-c00a51321456"
      },
      "source": [
        "#@title Soluzione 2 DecisionTree\n",
        "# Scikit-learn DecisionTreeClassifier\n",
        "from sklearn.tree import DecisionTreeClassifier\n",
        "import time\n",
        "import warnings\n",
        "import math\n",
        "#disabilitiamo messaggi di warning \n",
        "warnings.filterwarnings(\"ignore\")\n",
        "\n",
        "max_depth_range = np.linspace(1,20,10, dtype='int')\n",
        "\n",
        "accuracy = []\n",
        "val_accuracy = []\n",
        "print('max_depth acc val_acc')\n",
        "for max_depth in max_depth_range:\n",
        "    DT_clf = DecisionTreeClassifier(max_depth=max_depth)\n",
        "    DT_clf.fit(X_train, Y_train)\n",
        "    acc = DT_clf.score(X_train, Y_train)\n",
        "    val_acc = DT_clf.score(X_vali, Y_vali)\n",
        "    accuracy.append(acc)\n",
        "    val_accuracy.append(val_acc)\n",
        "    print(max_depth, acc, val_acc)\n",
        "\n",
        "best_max_depth = max_depth_range[val_accuracy.index(max(val_accuracy))]\n",
        "print('max accuracy: ', max(val_accuracy), ' per max_depth = ', best_max_depth)\n",
        "\n",
        "DT_clf = DecisionTreeClassifier(max_depth=best_max_depth)\n",
        "DT_clf.fit(X_train, Y_train)\n",
        "test_acc = DT_clf.score(X_test, Y_test)\n",
        "print('Test accuracy: ', test_acc)\n",
        "\n",
        "\n",
        "test_pred = DT_clf.predict(X_test)\n",
        "from sklearn.metrics import confusion_matrix\n",
        "c_mat = confusion_matrix(Y_test, test_pred, normalize='true')\n",
        "print(\"Confusion Matrix:\")\n",
        "print(c_mat)\n",
        "\n",
        "plt.figure()\n",
        "plt.plot(max_depth_range,accuracy,'--b^',label='Train')\n",
        "plt.plot(max_depth_range,val_accuracy,'--r^',label='Validation')\n",
        "plt.xlabel('max_depth')\n",
        "plt.ylabel('Accuracy')\n",
        "lgd=plt.legend(bbox_to_anchor=(1.05, 1), loc=2, borderaxespad=0.)\n",
        "plt.show()"
      ],
      "execution_count": 7,
      "outputs": [
        {
          "output_type": "stream",
          "name": "stdout",
          "text": [
            "max_depth acc val_acc\n",
            "1 0.49906666666666666 0.4922\n",
            "3 0.7362 0.7308\n",
            "5 0.8198 0.8138\n",
            "7 0.8514 0.8346\n",
            "9 0.8938666666666667 0.8282\n",
            "11 0.9408 0.8218\n",
            "13 0.9579333333333333 0.8262\n",
            "15 0.9686 0.8262\n",
            "17 0.9752666666666666 0.8232\n",
            "20 0.9823333333333333 0.8294\n",
            "max accuracy:  0.8346  per max_depth =  7\n",
            "Test accuracy:  0.832\n",
            "Confusion Matrix:\n",
            "[[0.9491353  0.00406918 0.04679552]\n",
            " [0.55130785 0.01408451 0.43460765]\n",
            " [0.09184076 0.00670083 0.90145842]]\n"
          ]
        },
        {
          "output_type": "display_data",
          "data": {
            "text/plain": [
              "<Figure size 432x288 with 1 Axes>"
            ],
            "image/png": "[encoded data removed]"
          },
          "metadata": {
            "needs_background": "light"
          }
        }
      ]
    },
    {
      "cell_type": "code",
      "metadata": {
        "colab": {
          "base_uri": "https://localhost:8080/"
        },
        "cellView": "form",
        "id": "fMTK1TazfIBY",
        "outputId": "0b122262-199a-40a7-ed7a-df0695672758"
      },
      "source": [
        "#@title Soluzione RandomForest A\n",
        "# Scikit-learn Random Forest\n",
        "from sklearn.ensemble import RandomForestClassifier\n",
        "import time\n",
        "import warnings\n",
        "#disabilitiamo messaggi di warning \n",
        "warnings.filterwarnings(\"ignore\")\n",
        "\n",
        "#Valore del numero di alberi \n",
        "n_estimator_range=np.linspace(2,100,10, dtype='int')\n",
        "leaf_size_range=[2,10000]\n",
        "\n",
        "m=len(n_estimator_range)\n",
        "n=len(leaf_size_range)\n",
        "\n",
        "#Allocate Arrays for various quantities\n",
        "RFC_OOB_accuracy=np.zeros((n,m))\n",
        "RFC_train_accuracy=np.zeros((n,m))\n",
        "RFC_vali_accuracy=np.zeros((n,m))\n",
        "run_time=np.zeros((n,m))\n",
        "\n",
        "print_flag=True\n",
        "\n",
        "for i, leaf_size in enumerate(leaf_size_range):\n",
        "    # Define Random Forest Classifier\n",
        "    myRF_clf = RandomForestClassifier(\n",
        "        n_estimators=n_estimator_range[0],\n",
        "        max_depth=None, \n",
        "        min_samples_split=leaf_size, # minimum number of sample per leaf\n",
        "        oob_score=True,\n",
        "        random_state=0,\n",
        "        warm_start=True # When set to True, reuse the solution of the previous call to fit and add more estimators to the ensemble, otherwise, just fit a whole new forest.\n",
        "    )\n",
        "    for j, n_estimator in enumerate(n_estimator_range):\n",
        "        \n",
        "        print('n_estimators: %i, leaf_size: %i'%(n_estimator,leaf_size))\n",
        "        \n",
        "        start_time = time.time()\n",
        "        myRF_clf.set_params(n_estimators=n_estimator)\n",
        "        myRF_clf.fit(X_train, Y_train)\n",
        "        run_time[i,j] = time.time() - start_time\n",
        "\n",
        "    # check accuracy\n",
        "        RFC_train_accuracy[i,j]=myRF_clf.score(X_train,Y_train)\n",
        "        RFC_OOB_accuracy[i,j]=myRF_clf.oob_score_\n",
        "        RFC_vali_accuracy[i,j]=myRF_clf.score(X_vali,Y_vali)\n",
        "        if print_flag:\n",
        "            result = (run_time[i,j], RFC_train_accuracy[i,j], RFC_OOB_accuracy[i,j], RFC_vali_accuracy[i,j])\n",
        "            print('{0:<15}{1:<15}{2:<15}{3:<15}'.format(\"time (s)\",\"train score\", \"OOB estimate\",\"validation score\"))\n",
        "            print('{0:<15.4f}{1:<15.4f}{2:<15.4f}{3:<15.4f}'.format(*result))"
      ],
      "execution_count": 8,
      "outputs": [
        {
          "output_type": "stream",
          "name": "stdout",
          "text": [
            "n_estimators: 2, leaf_size: 2\n",
            "time (s)       train score    OOB estimate   validation score\n",
            "0.1660         0.9178         0.6552         0.7924         \n",
            "n_estimators: 12, leaf_size: 2\n",
            "time (s)       train score    OOB estimate   validation score\n",
            "0.7075         0.9972         0.8807         0.9156         \n",
            "n_estimators: 23, leaf_size: 2\n",
            "time (s)       train score    OOB estimate   validation score\n",
            "0.8472         0.9995         0.9082         0.9150         \n",
            "n_estimators: 34, leaf_size: 2\n",
            "time (s)       train score    OOB estimate   validation score\n",
            "0.9415         0.9996         0.9125         0.9152         \n",
            "n_estimators: 45, leaf_size: 2\n",
            "time (s)       train score    OOB estimate   validation score\n",
            "1.0162         0.9999         0.9132         0.9152         \n",
            "n_estimators: 56, leaf_size: 2\n",
            "time (s)       train score    OOB estimate   validation score\n",
            "1.4154         1.0000         0.9148         0.9164         \n",
            "n_estimators: 67, leaf_size: 2\n",
            "time (s)       train score    OOB estimate   validation score\n",
            "1.5284         1.0000         0.9149         0.9170         \n",
            "n_estimators: 78, leaf_size: 2\n",
            "time (s)       train score    OOB estimate   validation score\n",
            "1.2189         1.0000         0.9155         0.9176         \n",
            "n_estimators: 89, leaf_size: 2\n",
            "time (s)       train score    OOB estimate   validation score\n",
            "1.2785         1.0000         0.9147         0.9166         \n",
            "n_estimators: 100, leaf_size: 2\n",
            "time (s)       train score    OOB estimate   validation score\n",
            "1.3265         1.0000         0.9157         0.9180         \n",
            "n_estimators: 2, leaf_size: 10000\n",
            "time (s)       train score    OOB estimate   validation score\n",
            "0.0489         0.4991         0.4577         0.4922         \n",
            "n_estimators: 12, leaf_size: 10000\n",
            "time (s)       train score    OOB estimate   validation score\n",
            "0.1451         0.4991         0.4978         0.4922         \n",
            "n_estimators: 23, leaf_size: 10000\n",
            "time (s)       train score    OOB estimate   validation score\n",
            "0.2031         0.4991         0.4990         0.4922         \n",
            "n_estimators: 34, leaf_size: 10000\n",
            "time (s)       train score    OOB estimate   validation score\n",
            "0.2752         0.4991         0.4991         0.4922         \n",
            "n_estimators: 45, leaf_size: 10000\n",
            "time (s)       train score    OOB estimate   validation score\n",
            "0.3602         0.4991         0.4991         0.4922         \n",
            "n_estimators: 56, leaf_size: 10000\n",
            "time (s)       train score    OOB estimate   validation score\n",
            "0.4036         0.4991         0.4991         0.4922         \n",
            "n_estimators: 67, leaf_size: 10000\n",
            "time (s)       train score    OOB estimate   validation score\n",
            "0.4815         0.4991         0.4991         0.4922         \n",
            "n_estimators: 78, leaf_size: 10000\n",
            "time (s)       train score    OOB estimate   validation score\n",
            "0.5448         0.4991         0.4991         0.4922         \n",
            "n_estimators: 89, leaf_size: 10000\n",
            "time (s)       train score    OOB estimate   validation score\n",
            "0.6182         0.4991         0.4991         0.4922         \n",
            "n_estimators: 100, leaf_size: 10000\n",
            "time (s)       train score    OOB estimate   validation score\n",
            "0.6925         0.4991         0.4991         0.4922         \n"
          ]
        }
      ]
    },
    {
      "cell_type": "code",
      "metadata": {
        "colab": {
          "base_uri": "https://localhost:8080/"
        },
        "cellView": "form",
        "id": "3P3dVuOUzy0H",
        "outputId": "4222f28d-df75-4573-db67-b45445921449"
      },
      "source": [
        "#@title Soluzione RandomForest B\n",
        "best_acc = np.max(RFC_vali_accuracy)\n",
        "index_best = np.unravel_index(RFC_vali_accuracy.argmax(), RFC_vali_accuracy.shape) \n",
        "print('Best accuracy: ', best_acc, ' per n_estimators=', n_estimator_range[index_best[1]], \n",
        "      ', min_samples_split=', leaf_size_range[index_best[0]])\n",
        "\n",
        "\n",
        "myRF_clf = RandomForestClassifier(\n",
        "        n_estimators=n_estimator_range[index_best[1]],\n",
        "        max_depth=None, \n",
        "        min_samples_split=leaf_size_range[index_best[0]], \n",
        "        oob_score=True,\n",
        "        random_state=0,\n",
        "        warm_start=True \n",
        ")\n",
        "\n",
        "myRF_clf.fit(X_train, Y_train)\n",
        "test_acc = myRF_clf.score(X_test, Y_test)\n",
        "print('Test accuracy: ', test_acc)\n",
        "\n",
        "\n",
        "test_pred = myRF_clf.predict(X_test)\n",
        "from sklearn.metrics import confusion_matrix\n",
        "c_mat = confusion_matrix(Y_test, test_pred, normalize='true')\n",
        "print(\"Confusion Matrix:\")\n",
        "print(c_mat)"
      ],
      "execution_count": 9,
      "outputs": [
        {
          "output_type": "stream",
          "name": "stdout",
          "text": [
            "Best accuracy:  0.918  per n_estimators= 100 , min_samples_split= 2\n",
            "Test accuracy:  0.9192\n",
            "Confusion Matrix:\n",
            "[[9.99491353e-01 0.00000000e+00 5.08646999e-04]\n",
            " [4.56740443e-01 1.89134809e-01 3.54124748e-01]\n",
            " [0.00000000e+00 0.00000000e+00 1.00000000e+00]]\n"
          ]
        }
      ]
    },
    {
      "cell_type": "code",
      "metadata": {
        "colab": {
          "base_uri": "https://localhost:8080/",
          "height": 553
        },
        "cellView": "form",
        "id": "0MuFVM1mvQqh",
        "outputId": "bf9b3d65-ca3d-4735-8026-e8ddf0941ced"
      },
      "source": [
        "#@title Soluzione RandomForest C\n",
        "plt.figure()\n",
        "plt.plot(n_estimator_range,RFC_train_accuracy[1],'--b^',label='Train (bassa segmentazione)')\n",
        "plt.plot(n_estimator_range,RFC_vali_accuracy[1],'--r^',label='Validation (bassa segmentazione)')\n",
        "plt.plot(n_estimator_range,RFC_OOB_accuracy[1],'--g^',label='OOB (bassa segmentazione)')\n",
        "\n",
        "plt.plot(n_estimator_range,RFC_train_accuracy[0],'o-b',label='Train (alta segmentazione)')\n",
        "plt.plot(n_estimator_range,RFC_vali_accuracy[0],'o-r',label='Validation (alta segmentazione)')\n",
        "plt.plot(n_estimator_range,RFC_OOB_accuracy[0],'--g^',label='OOB (alta segmentazione)')\n",
        "\n",
        "plt.xlabel('$N_\\mathrm{estimators}$')\n",
        "plt.ylabel('Accuracy')\n",
        "lgd=plt.legend(bbox_to_anchor=(1.05, 1), loc=2, borderaxespad=0.)\n",
        "plt.show()\n",
        "\n",
        "plt.plot(n_estimator_range, run_time[1], '--k^',label='Bassa segmentazione')\n",
        "plt.plot(n_estimator_range, run_time[0], 'o-k',label='Alta segmentazione')\n",
        "plt.xlabel('$N_\\mathrm{estimators}$')\n",
        "plt.ylabel('Run time (s)')\n",
        "plt.legend(loc=2)\n",
        "plt.show()"
      ],
      "execution_count": 10,
      "outputs": [
        {
          "output_type": "display_data",
          "data": {
            "text/plain": [
              "<Figure size 432x288 with 1 Axes>"
            ],
            "image/png": "[encoded data removed]"
          },
          "metadata": {
            "needs_background": "light"
          }
        },
        {
          "output_type": "display_data",
          "data": {
            "text/plain": [
              "<Figure size 432x288 with 1 Axes>"
            ],
            "image/png": "[encoded data removed]"
          },
          "metadata": {
            "needs_background": "light"
          }
        }
      ]
    },
    {
      "cell_type": "markdown",
      "metadata": {
        "id": "E1i_mYujV3eD"
      },
      "source": [
        "**Parte 3:**\n",
        "\n",
        "Allenare un regressore RandomForest (RandomForestRegressor) al task di predire la magnetizzazione media $\\hat{M}$ a partire da una configurazione di spin di temperatura nota $T$. \n",
        "\n",
        "1.   costruire il tensore magnetizzazione media $M$ per ogni elemento dei campioni X_test, X_vali e X_train:\n",
        "\n",
        "\n",
        "> $M = \\frac{1}{N}\\sum_i^N S_i$\n",
        "\n",
        "2.   implementare e allenare il regressore sul training set, usando come loss: MSE\n",
        "3.   ottimizzare la dimensione della foresta (n_estimators) sul validation set\n",
        "4.   stimare prestazioni (MAE) sul test set e graficare sul test set lo scatter plot $\\hat{M}$ VS $M$ predetta, e l'istogramma di ($M-\\hat{M}$)\n",
        "5.   provare a dare una spiegazione di quanto osservato ..."
      ]
    },
    {
      "cell_type": "code",
      "metadata": {
        "id": "28qaPYUf7fBe"
      },
      "source": [
        "#code"
      ],
      "execution_count": null,
      "outputs": []
    },
    {
      "cell_type": "code",
      "metadata": {
        "colab": {
          "base_uri": "https://localhost:8080/",
          "height": 404
        },
        "cellView": "form",
        "id": "Eq81bLnp7fMF",
        "outputId": "1165fdf1-5c7d-45df-fdf6-f5b342c17e2a"
      },
      "source": [
        "#@title Soluzione 3\n",
        "# Scikit-learn Random Forest Regressor\n",
        "\n",
        "from sklearn.model_selection import train_test_split\n",
        "train_to_rest_ratio=0.6 # training sample 60%\n",
        "vali_to_test_ratio=0.5  #  validation and test sets: 50%-50% of remianining 40%\n",
        "\n",
        "# selezioniamo random data points dai campioni ordinati e disordinati per cerare training e test\n",
        "X_train,X,Y_train,Y=train_test_split(data,temp,train_size=train_to_rest_ratio, shuffle=True, random_state=rnd_ini)\n",
        "X_vali,X_test,Y_vali,Y_test=train_test_split(X,Y,train_size=vali_to_test_ratio, shuffle=True, random_state=rnd_ini)\n",
        "\n",
        "\n",
        "#calcolo magenetizzazione media\n",
        "M_train = np.sum(X_train, axis=1)/X_train.shape[1]\n",
        "M_vali = np.sum(X_vali, axis=1)/X_train.shape[1]\n",
        "M_test = np.sum(X_test, axis=1)/X_train.shape[1]\n",
        "\n",
        "from sklearn.ensemble import RandomForestRegressor\n",
        "from sklearn.metrics import mean_absolute_error\n",
        "\n",
        "import time\n",
        "import warnings\n",
        "#disabilitiamo messaggi di warning \n",
        "warnings.filterwarnings(\"ignore\")\n",
        "\n",
        "myRF_reg = RandomForestRegressor(\n",
        "    n_estimators=100,\n",
        "    min_samples_split=2, # minimum number of sample per leaf\n",
        "    criterion='mse',\n",
        "    random_state=0\n",
        ")\n",
        "\n",
        "myRF_reg.fit(X_train, M_train)\n",
        "score = myRF_reg.score(X_train, M_train)\n",
        "val_score = myRF_reg.score(X_vali, M_vali)\n",
        "test_score = myRF_reg.score(X_test, M_test)\n",
        "                              \n",
        "print('coeff. of determination R^2 score (train/vali/test): ',score,val_score,test_score)\n",
        "\n",
        "pred = myRF_reg.predict(X_test)\n",
        "mae = mean_absolute_error(M_test, pred)\n",
        "print('MAE test: ',mae)\n",
        "\n",
        "plt.figure(figsize=(15,5))\n",
        "plt.subplot(1,3,1)\n",
        "plt.scatter(Y_test, M_test)\n",
        "plt.xlabel('T')\n",
        "plt.ylabel('average Magnetization M')\n",
        "\n",
        "plt.subplot(1,3,2)\n",
        "plt.scatter(pred, M_test, s=0.1)\n",
        "plt.plot([-1,1],[-1,1], color='black', linewidth=1, linestyle='dashed')\n",
        "plt.xlabel('$\\hat{M}$')\n",
        "plt.ylabel('$M$')\n",
        "\n",
        "plt.subplot(1,3,3)\n",
        "plt.hist(M_test-pred, bins=50)\n",
        "plt.xlabel('$M-\\hat{M}$')\n",
        "plt.tight_layout()"
      ],
      "execution_count": 11,
      "outputs": [
        {
          "output_type": "stream",
          "name": "stdout",
          "text": [
            "coeff. of determination R^2 score (train/vali/test):  0.998979716281188 0.9942330520774397 0.9939501653673323\n",
            "MAE test:  0.029935102040816286\n"
          ]
        },
        {
          "output_type": "display_data",
          "data": {
            "text/plain": [
              "<Figure size 1080x360 with 3 Axes>"
            ],
            "image/png": "[encoded data removed]"
          },
          "metadata": {
            "needs_background": "light"
          }
        }
      ]
    },
    {
      "cell_type": "markdown",
      "metadata": {
        "collapsed": true,
        "id": "1nsF8Q9CsBSO"
      },
      "source": [
        "**Per casa**\n",
        "\n",
        "* provate a implementare una k-fold (con k=5) validation per l'ottimizzazione dei parametri della RandomForest e verificate se vi sono differenze rispetto all'uso del validation set o di OOB (OOB tende a dare delle stime molto pessimistiche).\n",
        "    \n",
        "NOTA: per imparare ad implementare una k-fold validation in scikit-learn guardate a questo [tutorial](https://scikit-learn.org/stable/modules/cross_validation.html)\n",
        "\n",
        "\n",
        "* provare a implementare il punto 2 (classificatore) usando l'algoritmo di gradient boosting xGBoost"
      ]
    },
    {
      "cell_type": "code",
      "source": [
        "#@title Esempio implementazione con xGBoost\n",
        "\n",
        "import xgboost as xgb\n",
        "\n",
        "# parametri del modello (vedere: https://xgboost.readthedocs.io/en/stable/python/python_api.html e\n",
        "# https://xgboost.readthedocs.io/en/stable/parameter.html)\n",
        "param_dist = {'objective':'multi:softmax', 'n_estimators':200}\n",
        "\n",
        "# modello xGBoost classifier\n",
        "xgb_model = xgb.XGBClassifier(**param_dist)\n",
        "\n",
        "xgb_model.fit(X_train, Y_train,\n",
        "              eval_set=[(X_train, Y_train), (X_test, Y_test)],\n",
        "              eval_metric=['merror'], #merror è la multiclass classification error rate (#class. errate / #class. totali)\n",
        "              verbose=True)\n",
        "\n",
        "test_pred = xgb_model.predict(X_test)\n",
        "accuracy = xgb_model.score(X_test, Y_test)\n",
        "\n",
        "print(\"Test Accuracy:\")\n",
        "print(accuracy)\n",
        "print()\n",
        "\n",
        "from sklearn.metrics import confusion_matrix\n",
        "c_mat = confusion_matrix(Y_test, test_pred, normalize='true')\n",
        "print(\"Confusion Matrix:\")\n",
        "print(c_mat)\n",
        "\n",
        "\n"
      ],
      "metadata": {
        "colab": {
          "base_uri": "https://localhost:8080/"
        },
        "cellView": "form",
        "id": "IzlAq3cjFyot",
        "outputId": "857b9753-1791-4d19-da11-ab4e93e42eca"
      },
      "execution_count": 18,
      "outputs": [
        {
          "output_type": "stream",
          "name": "stdout",
          "text": [
            "[0]\tvalidation_0-merror:0.1906\tvalidation_1-merror:0.1944\n",
            "[1]\tvalidation_0-merror:0.17\tvalidation_1-merror:0.1746\n",
            "[2]\tvalidation_0-merror:0.148933\tvalidation_1-merror:0.1558\n",
            "[3]\tvalidation_0-merror:0.142333\tvalidation_1-merror:0.1482\n",
            "[4]\tvalidation_0-merror:0.143733\tvalidation_1-merror:0.1458\n",
            "[5]\tvalidation_0-merror:0.138133\tvalidation_1-merror:0.138\n",
            "[6]\tvalidation_0-merror:0.127933\tvalidation_1-merror:0.132\n",
            "[7]\tvalidation_0-merror:0.128333\tvalidation_1-merror:0.1334\n",
            "[8]\tvalidation_0-merror:0.127467\tvalidation_1-merror:0.1324\n",
            "[9]\tvalidation_0-merror:0.1246\tvalidation_1-merror:0.1304\n",
            "[10]\tvalidation_0-merror:0.124933\tvalidation_1-merror:0.1288\n",
            "[11]\tvalidation_0-merror:0.122133\tvalidation_1-merror:0.1262\n",
            "[12]\tvalidation_0-merror:0.118933\tvalidation_1-merror:0.1224\n",
            "[13]\tvalidation_0-merror:0.115867\tvalidation_1-merror:0.1182\n",
            "[14]\tvalidation_0-merror:0.114067\tvalidation_1-merror:0.1146\n",
            "[15]\tvalidation_0-merror:0.113667\tvalidation_1-merror:0.115\n",
            "[16]\tvalidation_0-merror:0.111133\tvalidation_1-merror:0.1116\n",
            "[17]\tvalidation_0-merror:0.11\tvalidation_1-merror:0.111\n",
            "[18]\tvalidation_0-merror:0.109333\tvalidation_1-merror:0.1084\n",
            "[19]\tvalidation_0-merror:0.108533\tvalidation_1-merror:0.1078\n",
            "[20]\tvalidation_0-merror:0.1078\tvalidation_1-merror:0.1062\n",
            "[21]\tvalidation_0-merror:0.1072\tvalidation_1-merror:0.1062\n",
            "[22]\tvalidation_0-merror:0.106533\tvalidation_1-merror:0.1058\n",
            "[23]\tvalidation_0-merror:0.106067\tvalidation_1-merror:0.105\n",
            "[24]\tvalidation_0-merror:0.1066\tvalidation_1-merror:0.1054\n",
            "[25]\tvalidation_0-merror:0.105667\tvalidation_1-merror:0.1034\n",
            "[26]\tvalidation_0-merror:0.105267\tvalidation_1-merror:0.1026\n",
            "[27]\tvalidation_0-merror:0.1046\tvalidation_1-merror:0.1018\n",
            "[28]\tvalidation_0-merror:0.104733\tvalidation_1-merror:0.1024\n",
            "[29]\tvalidation_0-merror:0.104333\tvalidation_1-merror:0.102\n",
            "[30]\tvalidation_0-merror:0.104133\tvalidation_1-merror:0.1016\n",
            "[31]\tvalidation_0-merror:0.104\tvalidation_1-merror:0.1012\n",
            "[32]\tvalidation_0-merror:0.104\tvalidation_1-merror:0.1004\n",
            "[33]\tvalidation_0-merror:0.103733\tvalidation_1-merror:0.1002\n",
            "[34]\tvalidation_0-merror:0.1038\tvalidation_1-merror:0.1002\n",
            "[35]\tvalidation_0-merror:0.1036\tvalidation_1-merror:0.1004\n",
            "[36]\tvalidation_0-merror:0.1036\tvalidation_1-merror:0.1004\n",
            "[37]\tvalidation_0-merror:0.103467\tvalidation_1-merror:0.1\n",
            "[38]\tvalidation_0-merror:0.1034\tvalidation_1-merror:0.0998\n",
            "[39]\tvalidation_0-merror:0.1034\tvalidation_1-merror:0.1\n",
            "[40]\tvalidation_0-merror:0.103467\tvalidation_1-merror:0.1\n",
            "[41]\tvalidation_0-merror:0.1034\tvalidation_1-merror:0.1\n",
            "[42]\tvalidation_0-merror:0.103333\tvalidation_1-merror:0.0996\n",
            "[43]\tvalidation_0-merror:0.103333\tvalidation_1-merror:0.0998\n",
            "[44]\tvalidation_0-merror:0.103333\tvalidation_1-merror:0.0998\n",
            "[45]\tvalidation_0-merror:0.103267\tvalidation_1-merror:0.1\n",
            "[46]\tvalidation_0-merror:0.103267\tvalidation_1-merror:0.1\n",
            "[47]\tvalidation_0-merror:0.103333\tvalidation_1-merror:0.1\n",
            "[48]\tvalidation_0-merror:0.1032\tvalidation_1-merror:0.1\n",
            "[49]\tvalidation_0-merror:0.103267\tvalidation_1-merror:0.1\n",
            "[50]\tvalidation_0-merror:0.103267\tvalidation_1-merror:0.0998\n",
            "[51]\tvalidation_0-merror:0.103133\tvalidation_1-merror:0.1\n",
            "[52]\tvalidation_0-merror:0.103067\tvalidation_1-merror:0.1\n",
            "[53]\tvalidation_0-merror:0.103\tvalidation_1-merror:0.1\n",
            "[54]\tvalidation_0-merror:0.103\tvalidation_1-merror:0.1\n",
            "[55]\tvalidation_0-merror:0.102933\tvalidation_1-merror:0.0998\n",
            "[56]\tvalidation_0-merror:0.102933\tvalidation_1-merror:0.0998\n",
            "[57]\tvalidation_0-merror:0.1028\tvalidation_1-merror:0.0996\n",
            "[58]\tvalidation_0-merror:0.102867\tvalidation_1-merror:0.0996\n",
            "[59]\tvalidation_0-merror:0.102733\tvalidation_1-merror:0.0998\n",
            "[60]\tvalidation_0-merror:0.102667\tvalidation_1-merror:0.0996\n",
            "[61]\tvalidation_0-merror:0.1026\tvalidation_1-merror:0.0994\n",
            "[62]\tvalidation_0-merror:0.102533\tvalidation_1-merror:0.0994\n",
            "[63]\tvalidation_0-merror:0.102467\tvalidation_1-merror:0.0992\n",
            "[64]\tvalidation_0-merror:0.102333\tvalidation_1-merror:0.099\n",
            "[65]\tvalidation_0-merror:0.102\tvalidation_1-merror:0.099\n",
            "[66]\tvalidation_0-merror:0.102\tvalidation_1-merror:0.0992\n",
            "[67]\tvalidation_0-merror:0.1018\tvalidation_1-merror:0.099\n",
            "[68]\tvalidation_0-merror:0.1018\tvalidation_1-merror:0.099\n",
            "[69]\tvalidation_0-merror:0.101667\tvalidation_1-merror:0.0988\n",
            "[70]\tvalidation_0-merror:0.101467\tvalidation_1-merror:0.099\n",
            "[71]\tvalidation_0-merror:0.101267\tvalidation_1-merror:0.099\n",
            "[72]\tvalidation_0-merror:0.101067\tvalidation_1-merror:0.0984\n",
            "[73]\tvalidation_0-merror:0.100867\tvalidation_1-merror:0.0982\n",
            "[74]\tvalidation_0-merror:0.100533\tvalidation_1-merror:0.0982\n",
            "[75]\tvalidation_0-merror:0.1004\tvalidation_1-merror:0.0982\n",
            "[76]\tvalidation_0-merror:0.100333\tvalidation_1-merror:0.0982\n",
            "[77]\tvalidation_0-merror:0.100133\tvalidation_1-merror:0.0982\n",
            "[78]\tvalidation_0-merror:0.1\tvalidation_1-merror:0.098\n",
            "[79]\tvalidation_0-merror:0.0998\tvalidation_1-merror:0.098\n",
            "[80]\tvalidation_0-merror:0.0998\tvalidation_1-merror:0.098\n",
            "[81]\tvalidation_0-merror:0.099733\tvalidation_1-merror:0.0978\n",
            "[82]\tvalidation_0-merror:0.099333\tvalidation_1-merror:0.098\n",
            "[83]\tvalidation_0-merror:0.098933\tvalidation_1-merror:0.098\n",
            "[84]\tvalidation_0-merror:0.0984\tvalidation_1-merror:0.0976\n",
            "[85]\tvalidation_0-merror:0.097667\tvalidation_1-merror:0.0976\n",
            "[86]\tvalidation_0-merror:0.097733\tvalidation_1-merror:0.0972\n",
            "[87]\tvalidation_0-merror:0.097333\tvalidation_1-merror:0.0972\n",
            "[88]\tvalidation_0-merror:0.0972\tvalidation_1-merror:0.097\n",
            "[89]\tvalidation_0-merror:0.097133\tvalidation_1-merror:0.0966\n",
            "[90]\tvalidation_0-merror:0.096733\tvalidation_1-merror:0.0968\n",
            "[91]\tvalidation_0-merror:0.096133\tvalidation_1-merror:0.097\n",
            "[92]\tvalidation_0-merror:0.0956\tvalidation_1-merror:0.0962\n",
            "[93]\tvalidation_0-merror:0.095133\tvalidation_1-merror:0.096\n",
            "[94]\tvalidation_0-merror:0.094667\tvalidation_1-merror:0.0956\n",
            "[95]\tvalidation_0-merror:0.094333\tvalidation_1-merror:0.0952\n",
            "[96]\tvalidation_0-merror:0.093733\tvalidation_1-merror:0.0952\n",
            "[97]\tvalidation_0-merror:0.093667\tvalidation_1-merror:0.0956\n",
            "[98]\tvalidation_0-merror:0.093267\tvalidation_1-merror:0.0956\n",
            "[99]\tvalidation_0-merror:0.092867\tvalidation_1-merror:0.0954\n",
            "[100]\tvalidation_0-merror:0.092733\tvalidation_1-merror:0.0952\n",
            "[101]\tvalidation_0-merror:0.0922\tvalidation_1-merror:0.095\n",
            "[102]\tvalidation_0-merror:0.0918\tvalidation_1-merror:0.0946\n",
            "[103]\tvalidation_0-merror:0.091067\tvalidation_1-merror:0.0944\n",
            "[104]\tvalidation_0-merror:0.090133\tvalidation_1-merror:0.094\n",
            "[105]\tvalidation_0-merror:0.089733\tvalidation_1-merror:0.094\n",
            "[106]\tvalidation_0-merror:0.089467\tvalidation_1-merror:0.0936\n",
            "[107]\tvalidation_0-merror:0.0892\tvalidation_1-merror:0.093\n",
            "[108]\tvalidation_0-merror:0.088733\tvalidation_1-merror:0.093\n",
            "[109]\tvalidation_0-merror:0.088267\tvalidation_1-merror:0.0928\n",
            "[110]\tvalidation_0-merror:0.0878\tvalidation_1-merror:0.093\n",
            "[111]\tvalidation_0-merror:0.087533\tvalidation_1-merror:0.0928\n",
            "[112]\tvalidation_0-merror:0.087333\tvalidation_1-merror:0.0924\n",
            "[113]\tvalidation_0-merror:0.086333\tvalidation_1-merror:0.0922\n",
            "[114]\tvalidation_0-merror:0.0858\tvalidation_1-merror:0.0918\n",
            "[115]\tvalidation_0-merror:0.085733\tvalidation_1-merror:0.0914\n",
            "[116]\tvalidation_0-merror:0.085333\tvalidation_1-merror:0.0914\n",
            "[117]\tvalidation_0-merror:0.085067\tvalidation_1-merror:0.0914\n",
            "[118]\tvalidation_0-merror:0.084667\tvalidation_1-merror:0.0912\n",
            "[119]\tvalidation_0-merror:0.084267\tvalidation_1-merror:0.0912\n",
            "[120]\tvalidation_0-merror:0.083933\tvalidation_1-merror:0.0914\n",
            "[121]\tvalidation_0-merror:0.0836\tvalidation_1-merror:0.0918\n",
            "[122]\tvalidation_0-merror:0.083067\tvalidation_1-merror:0.0912\n",
            "[123]\tvalidation_0-merror:0.082733\tvalidation_1-merror:0.0908\n",
            "[124]\tvalidation_0-merror:0.081867\tvalidation_1-merror:0.0908\n",
            "[125]\tvalidation_0-merror:0.0814\tvalidation_1-merror:0.0908\n",
            "[126]\tvalidation_0-merror:0.080933\tvalidation_1-merror:0.0906\n",
            "[127]\tvalidation_0-merror:0.080533\tvalidation_1-merror:0.0904\n",
            "[128]\tvalidation_0-merror:0.080333\tvalidation_1-merror:0.0902\n",
            "[129]\tvalidation_0-merror:0.08\tvalidation_1-merror:0.09\n",
            "[130]\tvalidation_0-merror:0.0794\tvalidation_1-merror:0.09\n",
            "[131]\tvalidation_0-merror:0.078733\tvalidation_1-merror:0.0894\n",
            "[132]\tvalidation_0-merror:0.0782\tvalidation_1-merror:0.089\n",
            "[133]\tvalidation_0-merror:0.077333\tvalidation_1-merror:0.0888\n",
            "[134]\tvalidation_0-merror:0.076933\tvalidation_1-merror:0.0886\n",
            "[135]\tvalidation_0-merror:0.076733\tvalidation_1-merror:0.0884\n",
            "[136]\tvalidation_0-merror:0.0764\tvalidation_1-merror:0.0886\n",
            "[137]\tvalidation_0-merror:0.075733\tvalidation_1-merror:0.0884\n",
            "[138]\tvalidation_0-merror:0.075\tvalidation_1-merror:0.088\n",
            "[139]\tvalidation_0-merror:0.0748\tvalidation_1-merror:0.0878\n",
            "[140]\tvalidation_0-merror:0.074067\tvalidation_1-merror:0.0878\n",
            "[141]\tvalidation_0-merror:0.073867\tvalidation_1-merror:0.0876\n",
            "[142]\tvalidation_0-merror:0.0734\tvalidation_1-merror:0.0872\n",
            "[143]\tvalidation_0-merror:0.073467\tvalidation_1-merror:0.0868\n",
            "[144]\tvalidation_0-merror:0.0728\tvalidation_1-merror:0.0866\n",
            "[145]\tvalidation_0-merror:0.072467\tvalidation_1-merror:0.0868\n",
            "[146]\tvalidation_0-merror:0.071867\tvalidation_1-merror:0.0868\n",
            "[147]\tvalidation_0-merror:0.0716\tvalidation_1-merror:0.0868\n",
            "[148]\tvalidation_0-merror:0.0712\tvalidation_1-merror:0.0868\n",
            "[149]\tvalidation_0-merror:0.0708\tvalidation_1-merror:0.0868\n",
            "[150]\tvalidation_0-merror:0.070467\tvalidation_1-merror:0.087\n",
            "[151]\tvalidation_0-merror:0.070267\tvalidation_1-merror:0.0864\n",
            "[152]\tvalidation_0-merror:0.069933\tvalidation_1-merror:0.0862\n",
            "[153]\tvalidation_0-merror:0.0696\tvalidation_1-merror:0.0858\n",
            "[154]\tvalidation_0-merror:0.069267\tvalidation_1-merror:0.0854\n",
            "[155]\tvalidation_0-merror:0.068667\tvalidation_1-merror:0.0846\n",
            "[156]\tvalidation_0-merror:0.068667\tvalidation_1-merror:0.0846\n",
            "[157]\tvalidation_0-merror:0.0678\tvalidation_1-merror:0.0848\n",
            "[158]\tvalidation_0-merror:0.067667\tvalidation_1-merror:0.0848\n",
            "[159]\tvalidation_0-merror:0.0672\tvalidation_1-merror:0.0844\n",
            "[160]\tvalidation_0-merror:0.066467\tvalidation_1-merror:0.0838\n",
            "[161]\tvalidation_0-merror:0.066133\tvalidation_1-merror:0.0846\n",
            "[162]\tvalidation_0-merror:0.0654\tvalidation_1-merror:0.0844\n",
            "[163]\tvalidation_0-merror:0.0652\tvalidation_1-merror:0.0842\n",
            "[164]\tvalidation_0-merror:0.064933\tvalidation_1-merror:0.0842\n",
            "[165]\tvalidation_0-merror:0.064267\tvalidation_1-merror:0.0838\n",
            "[166]\tvalidation_0-merror:0.063933\tvalidation_1-merror:0.0834\n",
            "[167]\tvalidation_0-merror:0.063667\tvalidation_1-merror:0.0836\n",
            "[168]\tvalidation_0-merror:0.0636\tvalidation_1-merror:0.0832\n",
            "[169]\tvalidation_0-merror:0.063667\tvalidation_1-merror:0.0828\n",
            "[170]\tvalidation_0-merror:0.063067\tvalidation_1-merror:0.0824\n",
            "[171]\tvalidation_0-merror:0.062667\tvalidation_1-merror:0.082\n",
            "[172]\tvalidation_0-merror:0.0624\tvalidation_1-merror:0.0814\n",
            "[173]\tvalidation_0-merror:0.0616\tvalidation_1-merror:0.081\n",
            "[174]\tvalidation_0-merror:0.061133\tvalidation_1-merror:0.0808\n",
            "[175]\tvalidation_0-merror:0.060933\tvalidation_1-merror:0.0808\n",
            "[176]\tvalidation_0-merror:0.060733\tvalidation_1-merror:0.0808\n",
            "[177]\tvalidation_0-merror:0.060333\tvalidation_1-merror:0.0802\n",
            "[178]\tvalidation_0-merror:0.0596\tvalidation_1-merror:0.0802\n",
            "[179]\tvalidation_0-merror:0.059467\tvalidation_1-merror:0.0798\n",
            "[180]\tvalidation_0-merror:0.058667\tvalidation_1-merror:0.08\n",
            "[181]\tvalidation_0-merror:0.058467\tvalidation_1-merror:0.0796\n",
            "[182]\tvalidation_0-merror:0.058133\tvalidation_1-merror:0.0798\n",
            "[183]\tvalidation_0-merror:0.057867\tvalidation_1-merror:0.0796\n",
            "[184]\tvalidation_0-merror:0.057733\tvalidation_1-merror:0.079\n",
            "[185]\tvalidation_0-merror:0.057667\tvalidation_1-merror:0.0786\n",
            "[186]\tvalidation_0-merror:0.0574\tvalidation_1-merror:0.0786\n",
            "[187]\tvalidation_0-merror:0.057067\tvalidation_1-merror:0.0782\n",
            "[188]\tvalidation_0-merror:0.0562\tvalidation_1-merror:0.078\n",
            "[189]\tvalidation_0-merror:0.056267\tvalidation_1-merror:0.0776\n",
            "[190]\tvalidation_0-merror:0.055933\tvalidation_1-merror:0.0778\n",
            "[191]\tvalidation_0-merror:0.0556\tvalidation_1-merror:0.0778\n",
            "[192]\tvalidation_0-merror:0.055467\tvalidation_1-merror:0.0776\n",
            "[193]\tvalidation_0-merror:0.0552\tvalidation_1-merror:0.0774\n",
            "[194]\tvalidation_0-merror:0.054867\tvalidation_1-merror:0.0774\n",
            "[195]\tvalidation_0-merror:0.0544\tvalidation_1-merror:0.0774\n",
            "[196]\tvalidation_0-merror:0.053867\tvalidation_1-merror:0.0772\n",
            "[197]\tvalidation_0-merror:0.054133\tvalidation_1-merror:0.077\n",
            "[198]\tvalidation_0-merror:0.053533\tvalidation_1-merror:0.0772\n",
            "[199]\tvalidation_0-merror:0.0534\tvalidation_1-merror:0.0772\n",
            "Test Accuracy:\n",
            "0.9228\n",
            "\n",
            "Confusion Matrix:\n",
            "[[0.99898271 0.00101729 0.        ]\n",
            " [0.45472837 0.2334004  0.31187123]\n",
            " [0.         0.0011825  0.9988175 ]]\n"
          ]
        }
      ]
    }
  ]
}