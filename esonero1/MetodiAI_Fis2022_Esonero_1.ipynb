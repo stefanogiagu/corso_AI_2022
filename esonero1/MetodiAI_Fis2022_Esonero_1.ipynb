{
  "nbformat": 4,
  "nbformat_minor": 0,
  "metadata": {
    "colab": {
      "name": "MetodiAI_Fis2022_Esonero_1.ipynb",
      "provenance": [],
      "collapsed_sections": [],
      "authorship_tag": "ABX9TyMQTOy0k3yo50kGoyHpg9Xd",
      "include_colab_link": true
    },
    "kernelspec": {
      "name": "python3",
      "display_name": "Python 3"
    },
    "language_info": {
      "name": "python"
    }
  },
  "cells": [
    {
      "cell_type": "markdown",
      "metadata": {
        "id": "view-in-github",
        "colab_type": "text"
      },
      "source": [
        "<a href=\"https://colab.research.google.com/github/stefanogiagu/corso_AI_2022/blob/main/esonero1/MetodiAI_Fis2022_Esonero_1.ipynb\" target=\"_parent\"><img src=\"https://colab.research.google.com/assets/colab-badge.svg\" alt=\"Open In Colab\"/></a>"
      ]
    },
    {
      "cell_type": "markdown",
      "metadata": {
        "id": "xM8c-0uxqDVB"
      },
      "source": [
        "# Prima Prova Esonero - Metodi AI e Machine Learning per la fisica \n",
        "### 27.04.2021 - AA 2021/22 - Docente: S. Giagu\n",
        "\n",
        "\n",
        "> **Regole:**\n",
        "\n",
        "*   **tempo a disposizione:** 1h30'\n",
        "\n",
        "*   compilare con i vostri dati i campi della cella che segue e poi eseguire la cella verificando che i dati printati corrispondano\n",
        "*   risolvere i quesiti/compiti indicati nella cella *Descrizione del compito* usando questo notebook \n",
        "*   una volta completato il compito sottomettere il notebook nel apposito folder sul sito e-learning del corso disponibile al link: <p>\n",
        "[consegna esonero](https://elearning.uniroma1.it/mod/assign/view.php?id=473752) <p>\n",
        "NOTA BENE: una volta sottomesso il notebook non sono più possibili ulteriori modifiche"
      ]
    },
    {
      "cell_type": "code",
      "metadata": {
        "cellView": "form",
        "id": "cAUd9VHBqlPh",
        "colab": {
          "base_uri": "https://localhost:8080/"
        },
        "outputId": "3f65de5c-b260-415d-996b-581beb109a30"
      },
      "source": [
        "#@ Dati Personali\n",
        "import os\n",
        "\n",
        "Nome = 'Stefano'  #@param {type: \"string\"}\n",
        "Cognome = 'Giagu' #@param {type: \"string\"}\n",
        "NumeroMatricola = 12345678 #@param {type: \"number\"}\n",
        "\n",
        "if NumeroMatricola == 12345678:\n",
        "  print('\\033[1;31m Inserisci il numero di matricola corretto!!!!') \n",
        "else:\n",
        "  print('Downloading datasets')\n",
        "  !rm -rf Dataset_es1_AI_2022.npz\n",
        "  !wget --load-cookies /tmp/cookies.txt \"https://docs.google.com/uc?export=download&confirm=$(wget --quiet --save-cookies /tmp/cookies.txt --keep-session-cookies --no-check-certificate 'https://docs.google.com/uc?export=download&id=17RzgOd9CrXD_NXzhDYHhlG2oynKnwcy1' -O- | sed -rn 's/.*confirm=([1-9A-Za-z_]+).*/\\1\\n/p')&id=17RzgOd9CrXD_NXzhDYHhlG2oynKnwcy1\" -O Dataset_es1_AI_2022.npz && rm -rf /tmp/cookies.txt\n",
        "  print('Done')"
      ],
      "execution_count": null,
      "outputs": [
        {
          "output_type": "stream",
          "name": "stdout",
          "text": [
            "\u001b[1;31m Inserisci il numero di matricola corretto!!!!\n"
          ]
        }
      ]
    },
    {
      "cell_type": "markdown",
      "metadata": {
        "id": "TNv4Mq5jrOS5"
      },
      "source": [
        "# Descrizione del compito:\n",
        "\n",
        "### Dataset:\n",
        "\n",
        "il dataset fornito è costituito da un file formato *.npz* (numpy compresso): *Dataset_es1_AI_2022.npz*\n",
        "*   contiene in formato numpy 2 array: *X*, e *Y* di shape:\n",
        "\n",
        "```\n",
        "import numpy as np\n",
        "myfile = np.load('Dataset_es1_AI_2022.npz')\n",
        "X = myfile['X']\n",
        "Y = myfile['Y']\n",
        "print('X shape: ',X.shape)\n",
        "print('Y shape: ',Y.shape)\n",
        "\n",
        "\n",
        "X shape :  (4000, 6660)\n",
        "Y shape :  (4000,)\n",
        "```\n",
        "\n",
        "\n",
        "**È richiesto:**\n",
        "\n",
        "0.   leggere in numpy i tre array e printare *shape* dei vettori, *massimo*, *minimo*, *media*, *deviazione standard campionaria* di ciascun vettore\n",
        "1.   effetturare una riduzione dimensionale di tipo PCA a 3 componenti del dataset *X*,  calcolando la varianza totale spiegata dalle prime 3 componenti\n",
        "2.   graficare $PCA0$ vs $PCA1$, $PCA0$ vs $PCA2$ e $PCA1$ VS $PCA2$ colorando i punti in funzione del valore di $Y$\n",
        "3.   indicare quale tra $PCA0$, $PCA1$ e $PCA2$ è maggiormente correlata con il target $Y$ e graficare lo scatter plot di tale componente vs $Y$\n",
        "4.   allenare un modello di regressione basato su una random forest al task di predire a partire da $X$ il valore del target $Y$, e valutarne le prestazioni in termini di MAE\n",
        "5.   graficare $\\hat{Y}$ predetto dal modello vs $Y$, e l'istogramma di $\\hat{Y}-Y$, printando il valore dell'RMS della distribuzione ottenuta \n",
        "6.   allenare un modello di regressione basato su un k-NN al task di predire a partire da ($PCA0, PCA1, PCA2$ il valore del target $Y$, e valutarne le prestazioni in termini di MAE\n",
        "7.   graficare $\\hat{Y}$ predetto dal modello vs $Y$, e l'istogramma di $\\hat{Y}-Y$, printando il valore dell'RMS della distribuzione ottenuta\n",
        "\n",
        "* commentare opportunamente i risultati ottenuti in ogni punto"
      ]
    },
    {
      "cell_type": "code",
      "metadata": {
        "id": "-04NQU3L2kId"
      },
      "source": [
        "# codice ..."
      ],
      "execution_count": null,
      "outputs": []
    }
  ]
}