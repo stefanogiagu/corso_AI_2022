{
  "nbformat": 4,
  "nbformat_minor": 0,
  "metadata": {
    "colab": {
      "name": "MetodiAI_Fis2022_Esonero_1_recupero.ipynb",
      "provenance": [],
      "collapsed_sections": [],
      "authorship_tag": "ABX9TyNU5JoxiCrz8lYFy5MMwAys",
      "include_colab_link": true
    },
    "kernelspec": {
      "name": "python3",
      "display_name": "Python 3"
    },
    "language_info": {
      "name": "python"
    }
  },
  "cells": [
    {
      "cell_type": "markdown",
      "metadata": {
        "id": "view-in-github",
        "colab_type": "text"
      },
      "source": [
        "<a href=\"https://colab.research.google.com/github/stefanogiagu/corso_AI_2022/blob/main/esonero1/MetodiAI_Fis2022_Esonero_1_recupero.ipynb\" target=\"_parent\"><img src=\"https://colab.research.google.com/assets/colab-badge.svg\" alt=\"Open In Colab\"/></a>"
      ]
    },
    {
      "cell_type": "markdown",
      "metadata": {
        "id": "xM8c-0uxqDVB"
      },
      "source": [
        "# Prima Prova Esonero - Metodi AI e Machine Learning per la fisica \n",
        "### 27.04.2021 - AA 2021/22 - Docente: S. Giagu\n",
        "\n",
        "\n",
        "> **Regole:**\n",
        "\n",
        "*   **tempo a disposizione:** 1h30'\n",
        "\n",
        "*   compilare con i vostri dati i campi della cella che segue e poi eseguire la cella verificando che i dati printati corrispondano\n",
        "*   risolvere i quesiti/compiti indicati nella cella *Descrizione del compito* usando questo notebook \n",
        "*   una volta completato il compito salvare il notebook (File->Download->Download .ipynb) e inviare il notebook via e-mail al docente (stefano.giagu@uniroma1.it)"
      ]
    },
    {
      "cell_type": "code",
      "metadata": {
        "cellView": "form",
        "id": "cAUd9VHBqlPh",
        "colab": {
          "base_uri": "https://localhost:8080/"
        },
        "outputId": "6dffaa34-7557-4b6a-f340-9c9d8415c294"
      },
      "source": [
        "#@ Dati Personali\n",
        "import os\n",
        "\n",
        "Nome = 'Stefano'  #@param {type: \"string\"}\n",
        "Cognome = 'Giagu' #@param {type: \"string\"}\n",
        "NumeroMatricola = 12345678 #@param {type: \"number\"}\n",
        "\n",
        "if NumeroMatricola == 12345678:\n",
        "  print('\\033[1;31m Inserisci il numero di matricola corretto!!!!') \n",
        "else:\n",
        "  print('Downloading datasets')\n",
        "  !rm -rf Dataset_es1_AI_2022_bis.npz\n",
        "  !wget --load-cookies /tmp/cookies.txt \"https://docs.google.com/uc?export=download&confirm=$(wget --quiet --save-cookies /tmp/cookies.txt --keep-session-cookies --no-check-certificate 'https://docs.google.com/uc?export=download&id=1TEI7Qg6nj_NVkmwo4owFPeREe4NcPxWL' -O- | sed -rn 's/.*confirm=([1-9A-Za-z_]+).*/\\1\\n/p')&id=1TEI7Qg6nj_NVkmwo4owFPeREe4NcPxWL\" -O Dataset_es1_AI_2022_bis.npz && rm -rf /tmp/cookies.txt\n",
        "  print('Done')"
      ],
      "execution_count": null,
      "outputs": [
        {
          "output_type": "stream",
          "name": "stdout",
          "text": [
            "\u001b[1;31m Inserisci il numero di matricola corretto!!!!\n"
          ]
        }
      ]
    },
    {
      "cell_type": "markdown",
      "metadata": {
        "id": "TNv4Mq5jrOS5"
      },
      "source": [
        "# Descrizione del compito:\n",
        "\n",
        "### Dataset:\n",
        "\n",
        "il dataset fornito è costituito da un file formato *.npz* (numpy compresso): *Dataset_es1_AI_2022_bis.npz*\n",
        "*   contiene in formato numpy 2 array: *X*, e *Y* di shape:\n",
        "\n",
        "```\n",
        "import numpy as np\n",
        "myfile = np.load('Dataset_es1_AI_2022_bis.npz')\n",
        "X = myfile['X']\n",
        "Y = myfile['Y']\n",
        "print('X shape: ',X.shape)\n",
        "print('Y shape: ',Y.shape)\n",
        "\n",
        "\n",
        "X shape :  (4000, 6660)\n",
        "Y shape :  (4000,)\n",
        "```\n",
        "\n",
        "\n",
        "**È richiesto:**\n",
        "\n",
        "0.   leggere in numpy i tre array e printare *shape* dei vettori, *massimo*, *minimo*, *media*, *deviazione standard campionaria* di ciascun vettore\n",
        "1.   effetturare una riduzione dimensionale di tipo PCA a 3 componenti del dataset *X*,  calcolando la varianza totale spiegata dalle prime 3 componenti\n",
        "2.   graficare $PCA0$ vs $PCA1$, $PCA0$ vs $PCA2$ e $PCA1$ VS $PCA2$ colorando i punti in funzione del valore di $Y$\n",
        "3.   indicare se si osserva una correlazione tra le $PCA$ e i valori del target\n",
        "4.   allenare un modello di classificazione basato su una random forest al task di predire a partire da $X$ il valore della label $Y$, e valutarne le prestazioni in termini di accuracy\n",
        "5.   graficare la matrice di confusione \n",
        "6.   allenare un modello di classificazione basato su un k-NN al task di predire a partire da ($PCA0, PCA1, PCA2$ il valore della label $Y$, e valutarne le prestazioni in termini di accuracy\n",
        "7.   calcolare il valore delle metriche precision e recall \n",
        "\n",
        "* commentare opportunamente i risultati ottenuti in ogni punto"
      ]
    },
    {
      "cell_type": "code",
      "metadata": {
        "id": "-04NQU3L2kId"
      },
      "source": [
        "# codice ..."
      ],
      "execution_count": null,
      "outputs": []
    }
  ]
}