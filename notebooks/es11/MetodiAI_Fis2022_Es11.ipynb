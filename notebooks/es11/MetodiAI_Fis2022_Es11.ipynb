{
  "nbformat": 4,
  "nbformat_minor": 0,
  "metadata": {
    "colab": {
      "name": "MetodiAI_Fis2022_Es11.ipynb",
      "provenance": [],
      "collapsed_sections": [],
      "include_colab_link": true
    },
    "kernelspec": {
      "display_name": "Python 3",
      "language": "python",
      "name": "python3"
    },
    "language_info": {
      "codemirror_mode": {
        "name": "ipython",
        "version": 3
      },
      "file_extension": ".py",
      "mimetype": "text/x-python",
      "name": "python",
      "nbconvert_exporter": "python",
      "pygments_lexer": "ipython3",
      "version": "3.7.0"
    }
  },
  "cells": [
    {
      "cell_type": "markdown",
      "metadata": {
        "id": "view-in-github",
        "colab_type": "text"
      },
      "source": [
        "<a href=\"https://colab.research.google.com/github/stefanogiagu/corso_AI_2022/blob/main/notebooks/es11/MetodiAI_Fis2022_Es11.ipynb\" target=\"_parent\"><img src=\"https://colab.research.google.com/assets/colab-badge.svg\" alt=\"Open In Colab\"/></a>"
      ]
    },
    {
      "cell_type": "markdown",
      "metadata": {
        "id": "pjdgzVgjxqXB"
      },
      "source": [
        "# Use of OpenAI Gym and implementation of simple RL models \n",
        "\n",
        "scope: to familiarize with development and use of simple tools for reinforcment learning using pytorch as DL library \n",
        "\n",
        "A RL system is composed by an agent (a NN in our case) and an environment, that interact togheter \n",
        "\n",
        "\n",
        "> environement -> takes a state -> observed by agent <p>\n",
        "> agent -> makes an action -> afect the envrionement <p>\n",
        "> environement -> takes a new states + reward -> observed by agent <p>\n",
        "> ...\n",
        "\n",
        "With trial&error methods the agent try to take better actions on the environment, so that the total reward is maximized in some way.\n",
        "\n",
        "DL tools: pytorch + OpenAI Gym\n",
        "\n",
        "### Models and task ###\n",
        "\n",
        "1.   Actor-Critic RL applied to the simulated environement ***CartPole-V0***\n",
        "2.   description of the ***MountainCar-v0*** environement "
      ]
    },
    {
      "cell_type": "markdown",
      "metadata": {
        "id": "2uJI9r-m7lJD"
      },
      "source": [
        "## OpenAI gym\n",
        "\n",
        "[Gym](http://gym.openai.com/): toolkit to develop simulated environments for RL studies. \n",
        "\n",
        "---\n",
        "\n",
        "### CartPole-V0\n",
        "\n",
        "Simulated env. in OpenAI gym: a pole is attached to a cart that can move to left or right directions on a binary in absence of friction. The agent have to apply a force to move the cart, and have to learn how to do that in order to prevent the pole from  falling down. \n",
        "\n",
        "[Detailled descritpion](http://gym.openai.com/docs/)\n",
        "\n",
        "**Action space:** discrete and with dimension 2: accelerare left (0), accelerare right (1)\n",
        "\n",
        "**Observable:** numpy 1D array of dimension 4: cart's horizontal position (0.0 == center) , velocity, tilt angle of the pole (0.0 == vertical), angular velocity of the pole.\n",
        "\n",
        "**Reward:** 1 for each step carried on \n",
        "\n",
        "**Initial state:** random values in [-0.05, 0.05]\n",
        "\n",
        "**Termination of an episode:** angle >= 12 deg, abs(position) > 2.4 (0==centre), or >= 200 steps\n",
        "\n",
        "---\n",
        "\n",
        "### MountainCar-v0\n",
        "\n",
        "Simulated env. in OpenAI gym: a pole is attached to a cart that can move to left or right directions on a binary in absence of friction. The agent have to apply a force to move the cart, and have to learn how to do that in order to prevent the pole from  falling down.  \n",
        "\n",
        "[Detailed description](http://gym.openai.com/envs/MountainCar-v0/)\n",
        "\n",
        "**Action space:** discrete with dimension 3: accelerate left (0), no acceleration (1), accelerate right (2)\n",
        "\n",
        "**Observable:** numpy 1D array of dimension 2: car's position, velocity\n",
        "\n",
        "**Reward:** 0 if the agent is able to bring the car up to the hill (position == 0.5), -1 if the position is < 0.5\n",
        "\n",
        "**Initial state:** random position in [-0.6,-0.4] (note: -0.5 is the position of the minimum), v=0\n",
        "\n",
        "**Termination of an episode:** position >= 0.5 or >= 200 steps\n"
      ]
    },
    {
      "cell_type": "markdown",
      "metadata": {
        "id": "LE0sGFaPxqXF"
      },
      "source": [
        "## Setup to visualize animations in google colab\n"
      ]
    },
    {
      "cell_type": "code",
      "metadata": {
        "id": "huXlvfvG5-sf",
        "colab": {
          "base_uri": "https://localhost:8080/"
        },
        "outputId": "9a952f13-7607-4128-a7b7-7419535dea39"
      },
      "source": [
        "!apt-get install -y xvfb x11-utils\n",
        "!pip install pyvirtualdisplay==0.2.* PyOpenGL==3.1.* PyOpenGL-accelerate==3.1.*\n"
      ],
      "execution_count": null,
      "outputs": [
        {
          "output_type": "stream",
          "name": "stdout",
          "text": [
            "Reading package lists... Done\n",
            "Building dependency tree       \n",
            "Reading state information... Done\n",
            "The following package was automatically installed and is no longer required:\n",
            "  libnvidia-common-460\n",
            "Use 'apt autoremove' to remove it.\n",
            "The following additional packages will be installed:\n",
            "  libxxf86dga1\n",
            "Suggested packages:\n",
            "  mesa-utils\n",
            "The following NEW packages will be installed:\n",
            "  libxxf86dga1 x11-utils xvfb\n",
            "0 upgraded, 3 newly installed, 0 to remove and 45 not upgraded.\n",
            "Need to get 993 kB of archives.\n",
            "After this operation, 2,982 kB of additional disk space will be used.\n",
            "Get:1 http://archive.ubuntu.com/ubuntu bionic/main amd64 libxxf86dga1 amd64 2:1.1.4-1 [13.7 kB]\n",
            "Get:2 http://archive.ubuntu.com/ubuntu bionic/main amd64 x11-utils amd64 7.7+3build1 [196 kB]\n",
            "Get:3 http://archive.ubuntu.com/ubuntu bionic-updates/universe amd64 xvfb amd64 2:1.19.6-1ubuntu4.10 [784 kB]\n",
            "Fetched 993 kB in 1s (1,492 kB/s)\n",
            "Selecting previously unselected package libxxf86dga1:amd64.\n",
            "(Reading database ... 155632 files and directories currently installed.)\n",
            "Preparing to unpack .../libxxf86dga1_2%3a1.1.4-1_amd64.deb ...\n",
            "Unpacking libxxf86dga1:amd64 (2:1.1.4-1) ...\n",
            "Selecting previously unselected package x11-utils.\n",
            "Preparing to unpack .../x11-utils_7.7+3build1_amd64.deb ...\n",
            "Unpacking x11-utils (7.7+3build1) ...\n",
            "Selecting previously unselected package xvfb.\n",
            "Preparing to unpack .../xvfb_2%3a1.19.6-1ubuntu4.10_amd64.deb ...\n",
            "Unpacking xvfb (2:1.19.6-1ubuntu4.10) ...\n",
            "Setting up xvfb (2:1.19.6-1ubuntu4.10) ...\n",
            "Setting up libxxf86dga1:amd64 (2:1.1.4-1) ...\n",
            "Setting up x11-utils (7.7+3build1) ...\n",
            "Processing triggers for man-db (2.8.3-2ubuntu0.1) ...\n",
            "Processing triggers for libc-bin (2.27-3ubuntu1.3) ...\n",
            "/sbin/ldconfig.real: /usr/local/lib/python3.7/dist-packages/ideep4py/lib/libmkldnn.so.0 is not a symbolic link\n",
            "\n",
            "Looking in indexes: https://pypi.org/simple, https://us-python.pkg.dev/colab-wheels/public/simple/\n",
            "Collecting pyvirtualdisplay==0.2.*\n",
            "  Downloading PyVirtualDisplay-0.2.5-py2.py3-none-any.whl (13 kB)\n",
            "Requirement already satisfied: PyOpenGL==3.1.* in /usr/local/lib/python3.7/dist-packages (3.1.6)\n",
            "Collecting PyOpenGL-accelerate==3.1.*\n",
            "  Downloading PyOpenGL-accelerate-3.1.5.tar.gz (538 kB)\n",
            "\u001b[K     |████████████████████████████████| 538 kB 33.4 MB/s \n",
            "\u001b[?25hCollecting EasyProcess\n",
            "  Downloading EasyProcess-1.1-py3-none-any.whl (8.7 kB)\n",
            "Building wheels for collected packages: PyOpenGL-accelerate\n",
            "  Building wheel for PyOpenGL-accelerate (setup.py) ... \u001b[?25l\u001b[?25hdone\n",
            "  Created wheel for PyOpenGL-accelerate: filename=PyOpenGL_accelerate-3.1.5-cp37-cp37m-linux_x86_64.whl size=1599530 sha256=802e756ac24f4f79b6d32f547821bfb9c79dcb7865d576c4238d83acad137fbe\n",
            "  Stored in directory: /root/.cache/pip/wheels/1c/f5/6f/169afb3f2d476c5e807f8515b3c9bc9b819c3962316aa804eb\n",
            "Successfully built PyOpenGL-accelerate\n",
            "Installing collected packages: EasyProcess, pyvirtualdisplay, PyOpenGL-accelerate\n",
            "Successfully installed EasyProcess-1.1 PyOpenGL-accelerate-3.1.5 pyvirtualdisplay-0.2.5\n"
          ]
        }
      ]
    },
    {
      "cell_type": "code",
      "metadata": {
        "id": "hkQQFEia6Q9j",
        "colab": {
          "base_uri": "https://localhost:8080/"
        },
        "outputId": "619cfa67-4bfa-43e4-fd41-b65ccc8c2567"
      },
      "source": [
        "import pyvirtualdisplay\n",
        "\n",
        "_display = pyvirtualdisplay.Display(visible=False, size=(1400, 900))\n",
        "_ = _display.start()\n",
        "\n",
        "!echo $DISPLAY"
      ],
      "execution_count": null,
      "outputs": [
        {
          "output_type": "stream",
          "name": "stdout",
          "text": [
            ":1001\n"
          ]
        }
      ]
    },
    {
      "cell_type": "code",
      "metadata": {
        "id": "KU5XjN8q6lL3",
        "colab": {
          "base_uri": "https://localhost:8080/"
        },
        "outputId": "cf9a5781-94d5-4eb2-d2ae-0627476d5d82"
      },
      "source": [
        "import os\n",
        "import gym\n",
        "import numpy as np\n",
        "from itertools import count\n",
        "from collections import namedtuple\n",
        "\n",
        "import torch\n",
        "import torch.nn as nn\n",
        "import torch.nn.functional as F\n",
        "import torch.optim as optim\n",
        "from torch.distributions import Categorical\n",
        "\n",
        "import matplotlib.pyplot as plt\n",
        "from IPython import display\n",
        "\n",
        "seed = 543\n",
        "torch.manual_seed(seed)"
      ],
      "execution_count": null,
      "outputs": [
        {
          "output_type": "execute_result",
          "data": {
            "text/plain": [
              "<torch._C.Generator at 0x7f4496c31670>"
            ]
          },
          "metadata": {},
          "execution_count": 3
        }
      ]
    },
    {
      "cell_type": "code",
      "metadata": {
        "id": "pfcn_sLeRhjh"
      },
      "source": [
        "#useful function to graph the training of the RL model\n",
        "def plot_results(values, title=''):   \n",
        "    # Update the window after each episode\n",
        "    display.clear_output(wait=True)\n",
        "    \n",
        "    # Define the figure\n",
        "    f, ax = plt.subplots(nrows=1, ncols=2, figsize=(12,5))\n",
        "    f.suptitle(title)\n",
        "    ax[0].plot(values, label='score per run')\n",
        "    ax[0].axhline(195, c='red',ls='--', label='goal')\n",
        "    ax[0].set_xlabel('Episodes')\n",
        "    ax[0].set_ylabel('Reward')\n",
        "    #ax[0].set_ylim([0,200]) \n",
        "    x = range(len(values))\n",
        "    ax[0].legend()\n",
        "    # Calculate the trend\n",
        "    try:\n",
        "        z = np.polyfit(x, values, 1)\n",
        "        p = np.poly1d(z)\n",
        "        ax[0].plot(x,p(x),\"--\", label='trend')\n",
        "    except:\n",
        "        print('')\n",
        "    \n",
        "    # Plot the histogram of results\n",
        "    ax[1].hist(values[-50:])\n",
        "    ax[1].axvline(195, c='red', label='goal')\n",
        "    ax[1].set_xlabel('Scores per Last 50 Episodes')\n",
        "    ax[1].set_ylabel('Frequency')\n",
        "    ax[1].legend()\n",
        "    plt.show()"
      ],
      "execution_count": null,
      "outputs": []
    },
    {
      "cell_type": "markdown",
      "metadata": {
        "id": "CXskFktcIwLF"
      },
      "source": [
        "### A Dummy RL algorithm \n",
        "\n",
        "let's try to see what will be the performances that we can get by taking random actions when acting on the cartpole  ..."
      ]
    },
    {
      "cell_type": "code",
      "metadata": {
        "id": "tZTDLTwwI8l1",
        "colab": {
          "base_uri": "https://localhost:8080/"
        },
        "outputId": "33245202-f3e3-4f91-9136-ebce5d13555e"
      },
      "source": [
        "#initialize the envioronment \n",
        "env = gym.make(\"CartPole-v0\")  # Create the environment\n",
        "env.seed(seed)"
      ],
      "execution_count": null,
      "outputs": [
        {
          "output_type": "execute_result",
          "data": {
            "text/plain": [
              "[543]"
            ]
          },
          "metadata": {},
          "execution_count": 5
        }
      ]
    },
    {
      "cell_type": "code",
      "metadata": {
        "id": "fvSxFlvl46DB",
        "colab": {
          "base_uri": "https://localhost:8080/"
        },
        "outputId": "1e2db3f4-1a4b-4afb-e7ff-361938bb634a"
      },
      "source": [
        "state = env.reset()\n",
        "print('[pos,vel,angle,ang_vel] = ',state)"
      ],
      "execution_count": null,
      "outputs": [
        {
          "output_type": "stream",
          "name": "stdout",
          "text": [
            "[pos,vel,angle,ang_vel] =  [ 0.00260174  0.02689104 -0.01369596 -0.02003628]\n"
          ]
        }
      ]
    },
    {
      "cell_type": "code",
      "metadata": {
        "id": "11Fg3Xsr5I09",
        "colab": {
          "base_uri": "https://localhost:8080/"
        },
        "outputId": "88d2fb68-f8a9-40ef-e3f6-d02321bcdf31"
      },
      "source": [
        "action = 0 #let's see what appen when we takes as action 0: i.e. accelerate left\n",
        "\n",
        "state, reward, done, _ = env.step(action)\n",
        "print('[pos,vel,angle,ang_vel] = ',state)\n",
        "print('reward: ', reward)\n",
        "print('done: ', done)\n",
        "\n",
        "#as expected new position coordinate is slightly < initial position (move left), and speed \n",
        "#is larger (in absolute value) and negative (left)"
      ],
      "execution_count": null,
      "outputs": [
        {
          "output_type": "stream",
          "name": "stdout",
          "text": [
            "[pos,vel,angle,ang_vel] =  [ 0.00313956 -0.16803185 -0.01409669  0.26829414]\n",
            "reward:  1.0\n",
            "done:  False\n"
          ]
        }
      ]
    },
    {
      "cell_type": "code",
      "metadata": {
        "id": "hFkm9lTTJ6mW",
        "colab": {
          "base_uri": "https://localhost:8080/",
          "height": 265
        },
        "outputId": "5a40be50-9815-4040-b22f-0fd62f6c2a10"
      },
      "source": [
        "# Random movement Policy\n",
        "\n",
        "state = env.reset() # initialize the cart\n",
        "img = plt.imshow(env.render(mode='rgb_array')) #plot the cart in the current status\n",
        "done = False\n",
        "i = 0\n",
        "while not done:\n",
        "    action = env.action_space.sample()  #.sample() takes a random sample of the action space of the env.\n",
        "    img.set_data(env.render(mode='rgb_array')) \n",
        "    plt.axis('off')\n",
        "    display.display(plt.gcf()) #.gfc() get the current figure in plt\n",
        "    display.clear_output(wait=True) #clear the previous content of the display and plot only the last one\n",
        "    state, reward, done, _ = env.step(action) #apply the action\n",
        "    i = i + 1\n",
        "env.close()\n",
        "print('runs for: %i steps' %(i))"
      ],
      "execution_count": null,
      "outputs": [
        {
          "output_type": "stream",
          "name": "stdout",
          "text": [
            "runs for: 10 steps\n"
          ]
        },
        {
          "output_type": "display_data",
          "data": {
            "text/plain": [
              "<Figure size 432x288 with 1 Axes>"
            ],
            "image/png": "[encoded data removed]"
          },
          "metadata": {
            "needs_background": "light"
          }
        }
      ]
    },
    {
      "cell_type": "code",
      "metadata": {
        "id": "Gwkvb7gbQu3P",
        "colab": {
          "base_uri": "https://localhost:8080/",
          "height": 370
        },
        "outputId": "04e97085-b9a2-4870-8445-3cc736c3e663"
      },
      "source": [
        "# let's run 150 episodes, computing and displaying the total reward for each one to see if there are trends\n",
        "# suggesting any kind of learning (we expect no as the actions are random)\n",
        "episodes = 150\n",
        "results = []  \n",
        "\n",
        "\n",
        "for episode in range(episodes):\n",
        "    state = env.reset()\n",
        "    done = False \n",
        "    total = 0\n",
        "    while not done:\n",
        "        action = env.action_space.sample()\n",
        "        state, reward, done, _ = env.step(action) \n",
        "        total += reward \n",
        "    results.append(total)\n",
        "    plot_results(results,title='Random Strategy')\n",
        "    env.close()"
      ],
      "execution_count": null,
      "outputs": [
        {
          "output_type": "display_data",
          "data": {
            "text/plain": [
              "<Figure size 864x360 with 2 Axes>"
            ],
            "image/png": "[encoded data removed]"
          },
          "metadata": {
            "needs_background": "light"
          }
        }
      ]
    },
    {
      "cell_type": "markdown",
      "metadata": {
        "id": "4cDyHEN2K3Lz"
      },
      "source": [
        "### A baseline RL algorithm\n",
        "\n",
        "Let's now try to improve the dummy algorithm by using rules based on common sense with respect the specific problem: for example if the pole tilts to the right we move to the right, and we move to the left if the pole tilts to left. "
      ]
    },
    {
      "cell_type": "code",
      "metadata": {
        "id": "A7cDN9du9wOg",
        "colab": {
          "base_uri": "https://localhost:8080/"
        },
        "outputId": "98cf54ba-8868-4d91-e58f-e97ed51dc40a"
      },
      "source": [
        "env = gym.make(\"CartPole-v0\")  # Create the environment\n",
        "env.seed(seed)"
      ],
      "execution_count": null,
      "outputs": [
        {
          "output_type": "execute_result",
          "data": {
            "text/plain": [
              "[543]"
            ]
          },
          "metadata": {},
          "execution_count": 9
        }
      ]
    },
    {
      "cell_type": "code",
      "metadata": {
        "id": "fY7dl_3gJJIk",
        "colab": {
          "base_uri": "https://localhost:8080/",
          "height": 265
        },
        "outputId": "af28e153-2691-4128-e622-06af33b59c7f"
      },
      "source": [
        "# Simple Common Sense Policy\n",
        "def simple_policy(obs):\n",
        "    angle = obs[2]\n",
        "    return 0 if angle < 0 else 1\n",
        "\n",
        "state = env.reset()\n",
        "img = plt.imshow(env.render(mode='rgb_array'))\n",
        "done = False\n",
        "i = 0\n",
        "while not done:\n",
        "    action = simple_policy(state)\n",
        "    img.set_data(env.render(mode='rgb_array')) \n",
        "    plt.axis('off')\n",
        "    display.display(plt.gcf())\n",
        "    display.clear_output(wait=True)\n",
        "    state, reward, done, _ = env.step(action) \n",
        "    i = i + 1   \n",
        "env.close()\n",
        "print('run for: %i steps' %(i))"
      ],
      "execution_count": null,
      "outputs": [
        {
          "output_type": "stream",
          "name": "stdout",
          "text": [
            "run for: 49 steps\n"
          ]
        },
        {
          "output_type": "display_data",
          "data": {
            "text/plain": [
              "<Figure size 432x288 with 1 Axes>"
            ],
            "image/png": "[encoded data removed]"
          },
          "metadata": {
            "needs_background": "light"
          }
        }
      ]
    },
    {
      "cell_type": "code",
      "metadata": {
        "id": "6neXplu6UWd0",
        "colab": {
          "base_uri": "https://localhost:8080/",
          "height": 370
        },
        "outputId": "26b9f571-e492-465b-acf4-f44128de9b7a"
      },
      "source": [
        "# let's run 150 episodes, computing and displaying the total reward \n",
        "episodes = 150\n",
        "results = []  \n",
        "\n",
        "for episode in range(episodes):\n",
        "    state = env.reset()\n",
        "    done = False \n",
        "    total = 0\n",
        "    while not done:\n",
        "        action = simple_policy(state)\n",
        "        state, reward, done, _ = env.step(action) \n",
        "        total += reward \n",
        "    results.append(total)\n",
        "    plot_results(results,title='Simple Strategy')\n",
        "    env.close()"
      ],
      "execution_count": null,
      "outputs": [
        {
          "output_type": "display_data",
          "data": {
            "text/plain": [
              "<Figure size 864x360 with 2 Axes>"
            ],
            "image/png": "[encoded data removed]"
          },
          "metadata": {
            "needs_background": "light"
          }
        }
      ]
    },
    {
      "cell_type": "markdown",
      "metadata": {
        "id": "ztnzxJHrghMe"
      },
      "source": [
        "... a little better of the random policy (reward ~45 wrt ~25) but still far from the solution of the problem (keep in equilibrium for >=195 steps)"
      ]
    },
    {
      "cell_type": "markdown",
      "metadata": {
        "id": "zLdh7wCNxqXE"
      },
      "source": [
        "### Actor Critic Method\n",
        "\n",
        "Classic RL algorithm of the Policy Gradient type. In this type of algorithm, we directly try to optimize the agent with respect to the policy space, modeling with a DNN the probabilities associated with each action to be recommended.\n",
        "\n",
        "In the Actor-Critic (AC) agorithm, the agent consists of two separate entities:\n",
        "\n",
        "1. an **actor** that provides a representation of the policy: assign a set of probabilities to each possible action\n",
        "2. a **critic** that is nothing more than a value function, i.e. a function of the state that estimates the sum of all the rewards that one expects to receive in the future\n",
        "\n",
        "The critic learns how well the actor (the policy) is performing and uses this information to improve the policy itself. The improvement is obtained through Gradient Policy, i.e. updating the policy (the actor) in order to maximize the estimates of the critic's value function, in other words the agent is trained so that the actions recommended by the actor maximize the future rewards esteemed by the critic."
      ]
    },
    {
      "cell_type": "markdown",
      "metadata": {
        "id": "FBNggMxpxqXK"
      },
      "source": [
        "## ANN implementation\n",
        "\n",
        "we use a very simple NN that learn two functions:\n",
        "\n",
        "1. Actor: takes in input the state and predict a probability for each possible action of the action space \n",
        "2. Critic: taks in input the state and predict the total future reward (discounted)\n",
        "\n",
        "This can be done either with two separate NN, or, as the input is the same, with just one NN with an initial shared layer (we'll use this approach as is more clean) \n"
      ]
    },
    {
      "cell_type": "code",
      "metadata": {
        "id": "TC9OADzTxqXL"
      },
      "source": [
        "seed = 543\n",
        "env = gym.make(\"CartPole-v0\")  # Create the environment\n",
        "env.seed(seed)\n",
        "\n",
        "# Actor-Critic Model\n",
        "num_inputs = env.observation_space.shape[0]\n",
        "num_actions = env.action_space.n\n",
        "num_hidden = 256"
      ],
      "execution_count": null,
      "outputs": []
    },
    {
      "cell_type": "code",
      "source": [
        "SavedAction = namedtuple('SavedAction', ['log_prob', 'value'])"
      ],
      "metadata": {
        "id": "sVInNlRcXOeF"
      },
      "execution_count": null,
      "outputs": []
    },
    {
      "cell_type": "code",
      "source": [
        "# Actor-Critic Model\n",
        "\n",
        "# architetture: a simple MLP one input with two outputs\n",
        "class A2C(nn.Module):\n",
        "  def __init__(self):\n",
        "    super(A2C, self).__init__()\n",
        "  \n",
        "    self.layercondiviso = nn.Linear(4,128)  \n",
        "    self.attore = nn.Linear(128,2)\n",
        "    self.critico = nn.Linear(128,1)\n",
        "    \n",
        "    \n",
        "    # action & reward buffers\n",
        "    self.saved_actions = []\n",
        "    self.rewards = []\n",
        "    \n",
        "  def forward(self, x):\n",
        "    x = F.relu(self.layercondiviso(x))\n",
        "    action_prob = F.softmax(self.attore(x), dim=-1) #assign a probability to each possible action\n",
        "    state_values = self.critico(x)  #predict the total discounted future reward \n",
        "        \n",
        "    return action_prob, state_values"
      ],
      "metadata": {
        "id": "9UF1JAwKQtHV"
      },
      "execution_count": null,
      "outputs": []
    },
    {
      "cell_type": "code",
      "source": [
        "model = A2C()\n",
        "print(model)\n",
        "\n",
        "from torchsummary import summary\n",
        "if torch.cuda.is_available():\n",
        "  summary(model.cuda(), input_size=(1,num_inputs))\n",
        "else:\n",
        "  summary(model, input_size=(1,num_inputs))"
      ],
      "metadata": {
        "colab": {
          "base_uri": "https://localhost:8080/"
        },
        "id": "vkvdeOXHSqeN",
        "outputId": "ae2c44b9-2df3-48b3-b7d6-6f8d479d1572"
      },
      "execution_count": null,
      "outputs": [
        {
          "output_type": "stream",
          "name": "stdout",
          "text": [
            "A2C(\n",
            "  (layercondiviso): Linear(in_features=4, out_features=128, bias=True)\n",
            "  (attore): Linear(in_features=128, out_features=2, bias=True)\n",
            "  (critico): Linear(in_features=128, out_features=1, bias=True)\n",
            ")\n",
            "----------------------------------------------------------------\n",
            "        Layer (type)               Output Shape         Param #\n",
            "================================================================\n",
            "            Linear-1               [-1, 1, 128]             640\n",
            "            Linear-2                 [-1, 1, 2]             258\n",
            "            Linear-3                 [-1, 1, 1]             129\n",
            "================================================================\n",
            "Total params: 1,027\n",
            "Trainable params: 1,027\n",
            "Non-trainable params: 0\n",
            "----------------------------------------------------------------\n",
            "Input size (MB): 0.00\n",
            "Forward/backward pass size (MB): 0.00\n",
            "Params size (MB): 0.00\n",
            "Estimated Total Size (MB): 0.00\n",
            "----------------------------------------------------------------\n"
          ]
        }
      ]
    },
    {
      "cell_type": "code",
      "source": [
        "# optmizer\n",
        "optimizer = optim.Adam(model.parameters(), lr=3e-2)\n",
        "eps = np.finfo(np.float32).eps.item() # return the smallest folat so that: 1.0 + eps != 1.0\n"
      ],
      "metadata": {
        "id": "JASjKK0dY-fp"
      },
      "execution_count": null,
      "outputs": []
    },
    {
      "cell_type": "code",
      "source": [
        "# Parameters\n",
        "gamma = 0.99  # Discount factor for past rewards\n",
        "max_steps_per_episode = 10000"
      ],
      "metadata": {
        "id": "Dm8geCpcbb4I"
      },
      "execution_count": null,
      "outputs": []
    },
    {
      "cell_type": "code",
      "source": [
        "# function to select the actions given a state\n",
        "\n",
        "def select_action(state):\n",
        "    state = torch.from_numpy(state).float()\n",
        "    probs, state_value = model(state) # given the state predict the probability of each action and the future rewards\n",
        "    \n",
        "    m = Categorical(probs) # create a categorical distribution over the list of probabilities of actions\n",
        "    action = m.sample()   # sample an action using the distribution\n",
        "\n",
        "    # save to action buffer\n",
        "    model.saved_actions.append(SavedAction(m.log_prob(action), state_value))\n",
        "\n",
        "    # the action to take (left or right)\n",
        "    return action.item()"
      ],
      "metadata": {
        "id": "QE-RyDH3ZvSF"
      },
      "execution_count": null,
      "outputs": []
    },
    {
      "cell_type": "code",
      "source": [
        "# function to run an episode (computes actor and critic losses and perform bakpropagation)\n",
        "\n",
        "def finish_episode():\n",
        "\n",
        "    R = 0\n",
        "    saved_actions = model.saved_actions\n",
        "    policy_losses = [] # list to save actor (policy) loss\n",
        "    value_losses = [] # list to save critic (value) loss\n",
        "    returns = [] # list to save the true values\n",
        "\n",
        "    # calculate the true value using rewards returned from the environment\n",
        "    for r in model.rewards[::-1]:\n",
        "        # calculate the discounted value (using recursive formula for discounted return)\n",
        "        R = r + gamma * R\n",
        "        returns.insert(0, R) #insert discounted value as first element of the list\n",
        "\n",
        "    # normalisation \n",
        "    returns = torch.tensor(returns)\n",
        "    returns = (returns - returns.mean()) / (returns.std() + eps)\n",
        "\n",
        "    # use advantage A2C formulation (e.g. subtract baseline )\n",
        "    for (log_prob, value), R in zip(saved_actions, returns):\n",
        "        advantage = R - value.item()\n",
        "\n",
        "        # calculate actor (policy) loss (policy gradient: log(P)*R, advantage: log(P)* (R-value estimated from critic (e.g. total discount future reward))\n",
        "        policy_losses.append(-log_prob * advantage)\n",
        "\n",
        "        # calculate critic (value) loss using L1 smooth loss (another form of HuberLoss) (critic loss: HuberLoss(value, R))\n",
        "        value_losses.append(F.smooth_l1_loss(value, torch.tensor([R])))\n",
        "\n",
        "    # reset gradients\n",
        "    optimizer.zero_grad()\n",
        "\n",
        "    # sum up all the values of policy_losses and value_losses\n",
        "    loss = torch.stack(policy_losses).sum() + torch.stack(value_losses).sum()\n",
        "\n",
        "    # perform backprop\n",
        "    loss.backward()\n",
        "    optimizer.step()\n",
        "\n",
        "    # reset rewards and action buffer\n",
        "    del model.rewards[:]\n",
        "    del model.saved_actions[:]"
      ],
      "metadata": {
        "id": "CSHvDCgiaQhZ"
      },
      "execution_count": null,
      "outputs": []
    },
    {
      "cell_type": "markdown",
      "metadata": {
        "id": "S2H4OwcExqXP"
      },
      "source": [
        "## Training"
      ]
    },
    {
      "cell_type": "code",
      "metadata": {
        "id": "2c2ywVurxqXP",
        "colab": {
          "base_uri": "https://localhost:8080/"
        },
        "outputId": "11bebd39-a943-4971-c16b-8e95d3a30ba3"
      },
      "source": [
        "# useful containers\n",
        "action_probs_history = []\n",
        "critic_value_history = []\n",
        "rewards_history = []\n",
        "running_reward = 10\n",
        "\n",
        "results = []\n",
        "results_rr = []\n",
        "\n",
        "\n",
        "for episode_count in count(1):  # Run until solved\n",
        "\n",
        "  state = env.reset()  #initialize the environement \n",
        "  \n",
        "  episode_reward = 0\n",
        "\n",
        "  for timestep in range(1, max_steps_per_episode):\n",
        "\n",
        "    # predict action\n",
        "    action = select_action(state)\n",
        "\n",
        "    # applies the new action\n",
        "    state, reward, done, _ = env.step(action)\n",
        "\n",
        "    model.rewards.append(reward)\n",
        "    rewards_history.append(reward)\n",
        "    \n",
        "    episode_reward += reward\n",
        "\n",
        "    if done:\n",
        "      break\n",
        "\n",
        "  # update the running cumulative reward \n",
        "  running_reward = 0.05 * episode_reward + (1 - 0.05) * running_reward\n",
        "\n",
        "  # backpropagation\n",
        "  finish_episode()\n",
        "\n",
        "  # log results\n",
        "  if episode_count % 10 == 0:\n",
        "    print('Episode {}\\t Episode reward: {:.2f}\\t Average (running) reward: {:.2f}'.format(\n",
        "          episode_count, episode_reward, running_reward))\n",
        "            \n",
        "  # saves details to monitor trainign and produce useful printout\n",
        "  results_rr.append(running_reward)\n",
        "  results.append(episode_reward)\n",
        "  #plot_results(results,title='GP Actor-Critic Strategy')\n",
        "          \n",
        "  # check if we have \"solved\" the cart pole problem\n",
        "  if running_reward > env.spec.reward_threshold:\n",
        "    print(\"Solved! Running reward is now {} and \"\n",
        "          \"the last episode runs to {} time steps!\".format(running_reward, timestep))\n",
        "    break"
      ],
      "execution_count": null,
      "outputs": [
        {
          "output_type": "stream",
          "name": "stdout",
          "text": [
            "Episode 10\t Episode reward: 9.00\t Average (running) reward: 10.68\n",
            "Episode 20\t Episode reward: 11.00\t Average (running) reward: 10.78\n",
            "Episode 30\t Episode reward: 29.00\t Average (running) reward: 12.55\n",
            "Episode 40\t Episode reward: 12.00\t Average (running) reward: 14.56\n",
            "Episode 50\t Episode reward: 16.00\t Average (running) reward: 16.89\n",
            "Episode 60\t Episode reward: 73.00\t Average (running) reward: 26.71\n",
            "Episode 70\t Episode reward: 55.00\t Average (running) reward: 35.77\n",
            "Episode 80\t Episode reward: 38.00\t Average (running) reward: 53.38\n",
            "Episode 90\t Episode reward: 42.00\t Average (running) reward: 62.99\n",
            "Episode 100\t Episode reward: 52.00\t Average (running) reward: 49.95\n",
            "Episode 110\t Episode reward: 49.00\t Average (running) reward: 47.38\n",
            "Episode 120\t Episode reward: 92.00\t Average (running) reward: 54.85\n",
            "Episode 130\t Episode reward: 115.00\t Average (running) reward: 77.78\n",
            "Episode 140\t Episode reward: 200.00\t Average (running) reward: 121.99\n",
            "Episode 150\t Episode reward: 182.00\t Average (running) reward: 139.67\n",
            "Episode 160\t Episode reward: 200.00\t Average (running) reward: 159.52\n",
            "Episode 170\t Episode reward: 200.00\t Average (running) reward: 175.76\n",
            "Episode 180\t Episode reward: 200.00\t Average (running) reward: 185.49\n",
            "Episode 190\t Episode reward: 126.00\t Average (running) reward: 187.61\n",
            "Episode 200\t Episode reward: 200.00\t Average (running) reward: 183.87\n",
            "Episode 210\t Episode reward: 200.00\t Average (running) reward: 190.34\n",
            "Episode 220\t Episode reward: 200.00\t Average (running) reward: 194.22\n",
            "Episode 230\t Episode reward: 200.00\t Average (running) reward: 186.09\n",
            "Episode 240\t Episode reward: 200.00\t Average (running) reward: 182.32\n",
            "Episode 250\t Episode reward: 200.00\t Average (running) reward: 162.81\n",
            "Episode 260\t Episode reward: 200.00\t Average (running) reward: 177.73\n",
            "Episode 270\t Episode reward: 200.00\t Average (running) reward: 186.67\n",
            "Episode 280\t Episode reward: 200.00\t Average (running) reward: 192.02\n",
            "Episode 290\t Episode reward: 200.00\t Average (running) reward: 195.22\n",
            "Solved! Running reward is now 195.22008126759303 and the last episode runs to 200 time steps!\n"
          ]
        }
      ]
    },
    {
      "cell_type": "code",
      "source": [
        "#Visualize training\n",
        "for episodio in range(len(results)):\n",
        "  plot_results(results[:episodio],title='GP Actor-Critic Strategy')"
      ],
      "metadata": {
        "colab": {
          "base_uri": "https://localhost:8080/",
          "height": 370
        },
        "id": "0Y9pSjayKs13",
        "outputId": "ad72cdab-c395-4828-e7b0-38739bfd9cd1"
      },
      "execution_count": null,
      "outputs": [
        {
          "output_type": "display_data",
          "data": {
            "text/plain": [
              "<Figure size 864x360 with 2 Axes>"
            ],
            "image/png": "[encoded data removed]"
          },
          "metadata": {
            "needs_background": "light"
          }
        }
      ]
    },
    {
      "cell_type": "code",
      "metadata": {
        "id": "D_1ZB2nKFiAg",
        "colab": {
          "base_uri": "https://localhost:8080/",
          "height": 265
        },
        "outputId": "7d4aeeb6-8329-47b4-c626-cfc65f0650f8"
      },
      "source": [
        "# test of the trained model\n",
        "\n",
        "model.eval()\n",
        "state = env.reset()\n",
        "img = plt.imshow(env.render(mode='rgb_array'))\n",
        "done = False\n",
        "i = 0\n",
        "while not done:\n",
        "    action = select_action(state)\n",
        "\n",
        "    img.set_data(env.render(mode='rgb_array')) \n",
        "    plt.axis('off')\n",
        "    display.display(plt.gcf())\n",
        "    display.clear_output(wait=True)\n",
        "\n",
        "    state, reward, done, _ = env.step(action)\n",
        "\n",
        "    i = i + 1   \n",
        "env.close()\n",
        "print('run for: %i steps' %(i))"
      ],
      "execution_count": null,
      "outputs": [
        {
          "output_type": "stream",
          "name": "stdout",
          "text": [
            "run for: 200 steps\n"
          ]
        },
        {
          "output_type": "display_data",
          "data": {
            "text/plain": [
              "<Figure size 432x288 with 1 Axes>"
            ],
            "image/png": "[encoded data removed]"
          },
          "metadata": {
            "needs_background": "light"
          }
        }
      ]
    },
    {
      "cell_type": "markdown",
      "metadata": {
        "id": "w08hMvzxx4oi"
      },
      "source": [
        "### MountainCar-v0: with a baseline common sense policy\n",
        "\n",
        "**Action space:** discrete with dimension 3: accelerate left (0), no acceleration (1), accelerate right (2)\n",
        "\n",
        "**Observable:** numpy 1D array of dimension 2: car's position, velocity\n",
        "\n",
        "**Reward:** 0 if the agent is able to bring the car up to the hill (position == 0.5), -1 if the position is < 0.5\n",
        "\n",
        "**Initial state:** random position in [-0.6,-0.4] (note: -0.5 is the position of the minimum), v=0\n",
        "\n",
        "**Termination of an episode:** position >= 0.5 or >= 200 steps"
      ]
    },
    {
      "cell_type": "code",
      "metadata": {
        "id": "h9fVQ1OZz2lT",
        "colab": {
          "base_uri": "https://localhost:8080/"
        },
        "outputId": "dafbc8f3-5930-482a-ccc8-7cbba51303ea"
      },
      "source": [
        "seed = 543\n",
        "\n",
        "env = gym.make(\"MountainCar-v0\")  # Create the environment\n",
        "env.seed(seed)"
      ],
      "execution_count": null,
      "outputs": [
        {
          "output_type": "execute_result",
          "data": {
            "text/plain": [
              "[543]"
            ]
          },
          "metadata": {},
          "execution_count": 26
        }
      ]
    },
    {
      "cell_type": "code",
      "metadata": {
        "id": "4sA9WWhY7JlK",
        "colab": {
          "base_uri": "https://localhost:8080/",
          "height": 265
        },
        "outputId": "29ff6968-e87a-4756-cf0d-bb6143344610"
      },
      "source": [
        "# Simple common sense Policy (i.e. follows the motion direction)\n",
        "def simple_policy(obs, i):\n",
        "    vel = obs[1]\n",
        "    pos = obs[0]+0.5 #minimum in 0\n",
        "# at the first step (v=0) accelerates in downhill direction   \n",
        "    if i == 0:\n",
        "        return 0 if pos > 0 else 2\n",
        "# in the following steps accelerates in the direction in which is already moving\n",
        "    return 2 if vel > 0 else 0\n",
        "\n",
        "\n",
        "# select simple or random policy\n",
        "random_policy = False\n",
        "\n",
        "state = env.reset()\n",
        "img = plt.imshow(env.render(mode='rgb_array'))\n",
        "done = False\n",
        "i = 0\n",
        "while not done:\n",
        "    if random_policy:\n",
        "        action = env.action_space.sample() #random sampling of the action space\n",
        "    else:\n",
        "        action = simple_policy(state, i) #uses a common sense policy\n",
        "    img.set_data(env.render(mode='rgb_array')) \n",
        "    plt.axis('off')\n",
        "    display.display(plt.gcf())\n",
        "    display.clear_output(wait=True)\n",
        "    state, reward, done, _ = env.step(action) \n",
        "    i = i + 1   \n",
        "env.close()\n",
        "print('run for: %i steps' %(i))"
      ],
      "execution_count": null,
      "outputs": [
        {
          "output_type": "stream",
          "name": "stdout",
          "text": [
            "run for: 118 steps\n"
          ]
        },
        {
          "output_type": "display_data",
          "data": {
            "text/plain": [
              "<Figure size 432x288 with 1 Axes>"
            ],
            "image/png": "[encoded data removed]"
          },
          "metadata": {
            "needs_background": "light"
          }
        }
      ]
    },
    {
      "cell_type": "code",
      "source": [
        "#useful function to graph the training of the RL model\n",
        "def plot_results2(values, title=''):   \n",
        "    # Update the window after each episode\n",
        "    display.clear_output(wait=True)\n",
        "    \n",
        "    # Define the figure\n",
        "    f, ax = plt.subplots(nrows=1, ncols=2, figsize=(12,5))\n",
        "    f.suptitle(title)\n",
        "    ax[0].plot(values, label='score per run')\n",
        "    ax[0].axhline(0.5, c='red',ls='--', label='goal')\n",
        "    ax[0].set_xlabel('Episodes')\n",
        "    ax[0].set_ylabel('Reward')\n",
        "    #ax[0].set_ylim([0,200]) \n",
        "    x = range(len(values))\n",
        "    ax[0].legend()\n",
        "    # Calculate the trend\n",
        "    try:\n",
        "        z = np.polyfit(x, values, 1)\n",
        "        p = np.poly1d(z)\n",
        "        ax[0].plot(x,p(x),\"--\", label='trend')\n",
        "    except:\n",
        "        print('')\n",
        "    \n",
        "    # Plot the histogram of results\n",
        "    ax[1].hist(values[-50:])\n",
        "    ax[1].axvline(0.5, c='red', label='goal')\n",
        "    ax[1].set_xlabel('Scores per Last 50 Episodes')\n",
        "    ax[1].set_ylabel('Frequency')\n",
        "    ax[1].legend()\n",
        "    plt.show()"
      ],
      "metadata": {
        "id": "OBZY36XfSqtQ"
      },
      "execution_count": null,
      "outputs": []
    },
    {
      "cell_type": "code",
      "source": [
        "# let's run 150 episodes, computing and displaying the total reward \n",
        "episodes = 150\n",
        "results = []  \n",
        "\n",
        "for episode in range(episodes):\n",
        "    state = env.reset()\n",
        "    done = False \n",
        "    total = state[0] #max climbing heights\n",
        "    i = 0\n",
        "    while not done:\n",
        "        action = simple_policy(state, i)\n",
        "        state, reward, done, _ = env.step(action) \n",
        "        # custom reward:\n",
        "        # to takes into account that untill the cart doesn't reach 0.5 (uphill)\n",
        "        # there is no reward (the standard reward is -1 for each step and 0 when arrives to the top), \n",
        "        # we redefine the reward proportional to the max position reached, e.g. an extra reward proportional \n",
        "        # to how much the cart has been able to climb up to the hill\n",
        "        # NOTE: cart maximum climbing height = np.sin(3*position)*.45 + .55 \n",
        "        #if state[0] >= -0.4: #i.e. to the right of the minimum\n",
        "        #  reward = np.sin(3 * state[0])*.45+.55\n",
        "        #else:\n",
        "        #  reward = 0.0 \n",
        "        if state[0]>total:\n",
        "          total = state[0]\n",
        "        i = i + 1\n",
        "    results.append(total)\n",
        "    plot_results2(results,title='Simple Strategy')\n",
        "    env.close()"
      ],
      "metadata": {
        "colab": {
          "base_uri": "https://localhost:8080/",
          "height": 370
        },
        "id": "dEmWR1VFPLAY",
        "outputId": "d5a09971-a146-47fc-ccda-941d7e74e35e"
      },
      "execution_count": null,
      "outputs": [
        {
          "output_type": "display_data",
          "data": {
            "text/plain": [
              "<Figure size 864x360 with 2 Axes>"
            ],
            "image/png": "[encoded data removed]"
          },
          "metadata": {
            "needs_background": "light"
          }
        }
      ]
    },
    {
      "cell_type": "markdown",
      "metadata": {
        "id": "GNrk-_KBWXfp"
      },
      "source": [
        "# Experiments ...\n",
        "\n",
        "1.   experiment with the A2C method, modifing models parameters and RL training setup\n",
        "2.   implement A2C for the *MountainCar-v0* env.\n",
        "3.   you may try to simplify the A2C model, reversing to a plain Reinforce method w/o advantage (e.g. w/o critic) to check how much the speed of convergence is affected\n",
        "3.   try to implement a problem with a continuous action space (for example *MountainCarContinuous-v0*)\n",
        "4.   (technically quite hard) try to apply what you have learned to a more complex problem, like one of the ATARI games (technically hard, doit as nerdy thing to do during the summer (spend time doing nerdy things during the summer is not advised though).\n",
        "\n",
        "\n"
      ]
    }
  ]
}