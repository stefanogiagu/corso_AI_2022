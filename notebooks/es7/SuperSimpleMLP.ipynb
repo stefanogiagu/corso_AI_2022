{
  "cells": [
    {
      "cell_type": "markdown",
      "metadata": {
        "id": "view-in-github",
        "colab_type": "text"
      },
      "source": [
        "<a href=\"https://colab.research.google.com/github/stefanogiagu/corso_AI_2022/blob/main/notebooks/es7/SuperSimpleMLP.ipynb\" target=\"_parent\"><img src=\"https://colab.research.google.com/assets/colab-badge.svg\" alt=\"Open In Colab\"/></a>"
      ]
    },
    {
      "cell_type": "code",
      "execution_count": null,
      "metadata": {
        "id": "q_cd7xkhhQo6"
      },
      "outputs": [],
      "source": [
        "# Implementation of a basic pytroch MLP shallow architecture\n",
        "# Stefano Giagu - v1.0 - 9.2.2022"
      ]
    },
    {
      "cell_type": "code",
      "execution_count": 1,
      "metadata": {
        "id": "F6cJhPLThtRq"
      },
      "outputs": [],
      "source": [
        "import numpy as np\n",
        "import matplotlib.pyplot as plt\n",
        "from scipy.stats import norm"
      ]
    },
    {
      "cell_type": "code",
      "execution_count": 2,
      "metadata": {
        "colab": {
          "base_uri": "https://localhost:8080/"
        },
        "id": "V3rnBiO-nwPM",
        "outputId": "1b461a74-e12b-4580-9416-ddb42ca02aaf"
      },
      "outputs": [
        {
          "output_type": "stream",
          "name": "stdout",
          "text": [
            "1.11.0+cu113\n",
            "0.12.0+cu113\n"
          ]
        }
      ],
      "source": [
        "import torch\n",
        "import torchvision\n",
        "\n",
        "print(torch.__version__)\n",
        "print(torchvision.__version__)"
      ]
    },
    {
      "cell_type": "code",
      "execution_count": 3,
      "metadata": {
        "colab": {
          "base_uri": "https://localhost:8080/"
        },
        "id": "ZL2plVoan5H6",
        "outputId": "6be6251c-40dc-4d36-ce24-0e39b32bbbf1"
      },
      "outputs": [
        {
          "output_type": "stream",
          "name": "stdout",
          "text": [
            "1\n",
            "Tesla P100-PCIE-16GB\n",
            "Computation device: cuda\n",
            "\n"
          ]
        }
      ],
      "source": [
        "if torch.cuda.is_available():\n",
        "  print(torch.cuda.device_count())\n",
        "  print(torch.cuda.get_device_name(0))\n",
        "\n",
        "device = ('cuda' if torch.cuda.is_available() else 'cpu')\n",
        "print(f\"Computation device: {device}\\n\")"
      ]
    },
    {
      "cell_type": "code",
      "execution_count": 4,
      "metadata": {
        "colab": {
          "base_uri": "https://localhost:8080/"
        },
        "id": "1F3TrSrLuRJW",
        "outputId": "0610f8d1-9968-4444-f4fa-6131bf653be0"
      },
      "outputs": [
        {
          "output_type": "stream",
          "name": "stdout",
          "text": [
            "(2560, 4)\n",
            "(2560,)\n",
            "(640, 4)\n",
            "(640,)\n",
            "(800, 4)\n",
            "(800,)\n"
          ]
        }
      ],
      "source": [
        "# toy dataset generated with numpy\n",
        "# 4 uncorrelated features gaussian distributed and with different means\n",
        "\n",
        "features_S = np.random.normal(loc=[1.,2.,3.,4.], scale=0.3, size=(2000,4))\n",
        "features_B = np.random.normal(loc=[1.5,2.2,3.,4.2], scale=0.3, size=(2000,4))\n",
        "labels_S = np.zeros(shape=(2000))\n",
        "labels_B = np.ones(shape=(2000))\n",
        "\n",
        "X = np.concatenate((features_S, features_B), axis=0)\n",
        "Y = np.concatenate((labels_S, labels_B), axis=0)\n",
        "\n",
        "# divide the dataset in train and test\n",
        "from sklearn.model_selection import train_test_split\n",
        "\n",
        "X_train, X_test, Y_train, Y_test = train_test_split(X, Y, test_size=0.2, random_state=12345)\n",
        "X_train, X_vali, Y_train, Y_vali = train_test_split(X_train, Y_train, test_size=0.2, random_state=456789)\n",
        "print(X_train.shape)\n",
        "print(Y_train.shape)\n",
        "print(X_vali.shape)\n",
        "print(Y_vali.shape)\n",
        "print(X_test.shape)\n",
        "print(Y_test.shape)"
      ]
    },
    {
      "cell_type": "code",
      "source": [
        "# Normalization of the input feature\n",
        "# let's normalize them by scaling everything in [0,1] (alternatively subtract mean and divide by sdev)\n",
        "\n",
        "from sklearn.preprocessing import MinMaxScaler\n",
        "\n",
        "scaler = MinMaxScaler()\n",
        "scaler.fit(X_train)\n",
        "\n",
        "X_train = scaler.transform(X_train)\n",
        "X_vali = scaler.transform(X_vali)\n",
        "X_test = scaler.transform(X_test) #note: scaling parameters for the validation and test set taken from the trainig set"
      ],
      "metadata": {
        "id": "BxeyVvLaaboc"
      },
      "execution_count": 5,
      "outputs": []
    },
    {
      "cell_type": "code",
      "execution_count": 6,
      "metadata": {
        "colab": {
          "base_uri": "https://localhost:8080/"
        },
        "id": "u1Lymch5XTw8",
        "outputId": "3e5d22c0-de91-4043-fb20-644f30619d4b"
      },
      "outputs": [
        {
          "output_type": "stream",
          "name": "stdout",
          "text": [
            "torch.Size([2560, 4])\n",
            "torch.Size([2560])\n",
            "torch.Size([640, 4])\n",
            "torch.Size([640])\n",
            "torch.Size([800, 4])\n",
            "torch.Size([800])\n"
          ]
        }
      ],
      "source": [
        "# transform the numpy arrays to pytorch tensors\n",
        "\n",
        "X_train_pt = torch.Tensor(X_train).float()\n",
        "Y_train_pt = torch.Tensor(Y_train).float()\n",
        "X_vali_pt = torch.Tensor(X_vali).float()\n",
        "Y_vali_pt = torch.Tensor(Y_vali).float()\n",
        "X_test_pt = torch.Tensor(X_test).float()\n",
        "Y_test_pt = torch.Tensor(Y_test).float()\n",
        "\n",
        "\n",
        "print(X_train_pt.shape)\n",
        "print(Y_train_pt.shape)\n",
        "print(X_vali_pt.shape)\n",
        "print(Y_vali_pt.shape)\n",
        "print(X_test_pt.shape)\n",
        "print(Y_test_pt.shape)\n",
        "\n",
        "# create a poytorch dataloader (a python iterable that allows to iterate among sample's events \n",
        "# mini-batch it, reshuffle at every epoch, etc...)\n",
        "from torch.utils.data import TensorDataset, DataLoader\n",
        "\n",
        "dataset_train = TensorDataset(X_train_pt, Y_train_pt) \n",
        "dataloader_train = DataLoader(dataset_train, batch_size=32, shuffle=True) \n",
        "\n",
        "dataset_vali = TensorDataset(X_vali_pt, Y_vali_pt) \n",
        "dataloader_vali = DataLoader(dataset_vali, batch_size=32, shuffle=True) "
      ]
    },
    {
      "cell_type": "code",
      "source": [
        "# example of iteration through the dataloader\n",
        "\n",
        "train_features, train_labels = next(iter(dataloader_train))\n",
        "\n",
        "print(f\"Feature batch shape: {train_features.size()}\")\n",
        "print(f\"Labels batch shape: {train_labels.size()}\")\n",
        "\n",
        "an_event = train_features[0].squeeze()\n",
        "a_label = train_labels[0]\n",
        "\n",
        "print(f\"Feature: {an_event}\")\n",
        "print(f\"Label: {a_label}\")"
      ],
      "metadata": {
        "colab": {
          "base_uri": "https://localhost:8080/"
        },
        "id": "hzLJyiBNvZVg",
        "outputId": "90f70df0-ed10-4f53-dc87-4de20cb6df0b"
      },
      "execution_count": 7,
      "outputs": [
        {
          "output_type": "stream",
          "name": "stdout",
          "text": [
            "Feature batch shape: torch.Size([32, 4])\n",
            "Labels batch shape: torch.Size([32])\n",
            "Feature: tensor([0.2718, 0.2466, 0.5362, 0.1289])\n",
            "Label: 0.0\n"
          ]
        }
      ]
    },
    {
      "cell_type": "code",
      "execution_count": 8,
      "metadata": {
        "id": "At2pTSb5uJ0O"
      },
      "outputs": [],
      "source": [
        "from torch import nn\n",
        "import torch.nn.functional as F\n",
        "\n",
        "# architetture: MLP shallow with a dense layer with 20 neurons\n",
        "class ShallowMLP(nn.Module):\n",
        "  def __init__(self):\n",
        "    super(ShallowMLP, self).__init__()\n",
        "    \n",
        "    #torch.nn.Linear(in_features, out_features, bias=True, device=None, dtype=None)\n",
        "    #Linear in pytroch is the equivalent of Dense in keras\n",
        "    self.layer1 = nn.Linear(4, 20)\n",
        "    self.activ1 = nn.ReLU()\n",
        "    self.layer2 = nn.Linear(20, 1)\n",
        "    self.activ2 = nn.Sigmoid()\n",
        "    \n",
        "  def forward(self, x):\n",
        "    out = self.layer1(x)\n",
        "    out = self.activ1(out)\n",
        "    out = self.layer2(out)\n",
        "    out = self.activ2(out)\n",
        "    return out"
      ]
    },
    {
      "cell_type": "code",
      "execution_count": 9,
      "metadata": {
        "colab": {
          "base_uri": "https://localhost:8080/"
        },
        "id": "CW_NlvdnuRJZ",
        "outputId": "5c71531a-cd9a-4983-f3b0-57b9d23b422d"
      },
      "outputs": [
        {
          "output_type": "stream",
          "name": "stdout",
          "text": [
            "Requirement already satisfied: torchsummary in /usr/local/lib/python3.7/dist-packages (1.5.1)\n"
          ]
        }
      ],
      "source": [
        "%pip install torchsummary"
      ]
    },
    {
      "cell_type": "code",
      "execution_count": 10,
      "metadata": {
        "colab": {
          "base_uri": "https://localhost:8080/"
        },
        "id": "uaLMNMzt1TAK",
        "outputId": "b67159b8-9192-411d-e1d9-51744c99f770"
      },
      "outputs": [
        {
          "output_type": "stream",
          "name": "stdout",
          "text": [
            "ShallowMLP(\n",
            "  (layer1): Linear(in_features=4, out_features=20, bias=True)\n",
            "  (activ1): ReLU()\n",
            "  (layer2): Linear(in_features=20, out_features=1, bias=True)\n",
            "  (activ2): Sigmoid()\n",
            ")\n",
            "----------------------------------------------------------------\n",
            "        Layer (type)               Output Shape         Param #\n",
            "================================================================\n",
            "            Linear-1                [-1, 1, 20]             100\n",
            "              ReLU-2                [-1, 1, 20]               0\n",
            "            Linear-3                 [-1, 1, 1]              21\n",
            "           Sigmoid-4                 [-1, 1, 1]               0\n",
            "================================================================\n",
            "Total params: 121\n",
            "Trainable params: 121\n",
            "Non-trainable params: 0\n",
            "----------------------------------------------------------------\n",
            "Input size (MB): 0.00\n",
            "Forward/backward pass size (MB): 0.00\n",
            "Params size (MB): 0.00\n",
            "Estimated Total Size (MB): 0.00\n",
            "----------------------------------------------------------------\n"
          ]
        }
      ],
      "source": [
        "model = ShallowMLP()\n",
        "print(model)\n",
        "\n",
        "from torchsummary import summary\n",
        "if torch.cuda.is_available():\n",
        "  summary(model.cuda(), input_size=(1,4))\n",
        "else:\n",
        "  summary(model, input_size=(1,4))"
      ]
    },
    {
      "cell_type": "code",
      "execution_count": 11,
      "metadata": {
        "id": "asMI2TET1_wS"
      },
      "outputs": [],
      "source": [
        "#loss \n",
        "loss_func = nn.BCELoss() #binary cross entropy loss\n",
        "\n",
        "#metric accuracy\n",
        "def accuracy(out, yb):\n",
        "    preds = out.reshape(-1).detach().numpy().round()\n",
        "    return (preds == yb.detach().numpy()).mean()\n",
        "\n",
        "metric_func = accuracy\n",
        "\n",
        "# optim\n",
        "from torch import optim\n",
        "opt = optim.SGD(model.parameters(), lr=0.001, momentum=0.9)"
      ]
    },
    {
      "cell_type": "code",
      "execution_count": 12,
      "metadata": {
        "colab": {
          "base_uri": "https://localhost:8080/"
        },
        "id": "qKuuD7vzrdff",
        "outputId": "a2a484da-40a5-4643-9be0-439cfa1f2bb5"
      },
      "outputs": [
        {
          "output_type": "stream",
          "name": "stdout",
          "text": [
            "cuda:0\n",
            "cuda:0\n"
          ]
        }
      ],
      "source": [
        "print(next(model.parameters()).device)\n",
        "model.to(device)\n",
        "print(next(model.parameters()).device)"
      ]
    },
    {
      "cell_type": "code",
      "execution_count": 17,
      "metadata": {
        "colab": {
          "base_uri": "https://localhost:8080/"
        },
        "id": "ULR6JSud2M0e",
        "outputId": "d2ef0a8f-c926-49b1-81e7-82e5cff0499a"
      },
      "outputs": [
        {
          "output_type": "stream",
          "name": "stdout",
          "text": [
            "epoch: 1, time(s): 0.1088, train loss: 0.680070, train metric: 0.507031, vali loss: 0.679942, vali metric: 0.493750\n",
            "epoch: 2, time(s): 0.1139, train loss: 0.677370, train metric: 0.512891, vali loss: 0.676934, vali metric: 0.500000\n",
            "epoch: 3, time(s): 0.1089, train loss: 0.674454, train metric: 0.518359, vali loss: 0.674033, vali metric: 0.510938\n",
            "epoch: 4, time(s): 0.1031, train loss: 0.671560, train metric: 0.528516, vali loss: 0.670944, vali metric: 0.537500\n",
            "epoch: 5, time(s): 0.1154, train loss: 0.668548, train metric: 0.593750, vali loss: 0.667680, vali metric: 0.590625\n",
            "epoch: 6, time(s): 0.1097, train loss: 0.665319, train metric: 0.580078, vali loss: 0.664691, vali metric: 0.593750\n",
            "epoch: 7, time(s): 0.1073, train loss: 0.662217, train metric: 0.598437, vali loss: 0.661474, vali metric: 0.626563\n",
            "epoch: 8, time(s): 0.1032, train loss: 0.659053, train metric: 0.638672, vali loss: 0.658209, vali metric: 0.665625\n",
            "epoch: 9, time(s): 0.1078, train loss: 0.655861, train metric: 0.655859, vali loss: 0.655034, vali metric: 0.665625\n",
            "epoch: 10, time(s): 0.1080, train loss: 0.652576, train metric: 0.672266, vali loss: 0.651641, vali metric: 0.681250\n",
            "epoch: 11, time(s): 0.1116, train loss: 0.649181, train metric: 0.687500, vali loss: 0.648021, vali metric: 0.714063\n",
            "epoch: 12, time(s): 0.1031, train loss: 0.645750, train metric: 0.688281, vali loss: 0.644401, vali metric: 0.725000\n",
            "epoch: 13, time(s): 0.1092, train loss: 0.642111, train metric: 0.718359, vali loss: 0.640749, vali metric: 0.725000\n",
            "epoch: 14, time(s): 0.1047, train loss: 0.638392, train metric: 0.718359, vali loss: 0.636775, vali metric: 0.753125\n",
            "epoch: 15, time(s): 0.1089, train loss: 0.634435, train metric: 0.754687, vali loss: 0.632735, vali metric: 0.756250\n",
            "epoch: 16, time(s): 0.1097, train loss: 0.630491, train metric: 0.758203, vali loss: 0.628770, vali metric: 0.750000\n",
            "epoch: 17, time(s): 0.1064, train loss: 0.626323, train metric: 0.764453, vali loss: 0.624342, vali metric: 0.764062\n",
            "epoch: 18, time(s): 0.1053, train loss: 0.622052, train metric: 0.758594, vali loss: 0.619822, vali metric: 0.765625\n",
            "epoch: 19, time(s): 0.1124, train loss: 0.617514, train metric: 0.785937, vali loss: 0.615195, vali metric: 0.771875\n",
            "epoch: 20, time(s): 0.1040, train loss: 0.612930, train metric: 0.785156, vali loss: 0.610360, vali metric: 0.779687\n",
            "epoch: 21, time(s): 0.1086, train loss: 0.608309, train metric: 0.786328, vali loss: 0.605460, vali metric: 0.784375\n",
            "epoch: 22, time(s): 0.1111, train loss: 0.603332, train metric: 0.808203, vali loss: 0.600320, vali metric: 0.800000\n",
            "epoch: 23, time(s): 0.1126, train loss: 0.598312, train metric: 0.816797, vali loss: 0.595262, vali metric: 0.790625\n",
            "epoch: 24, time(s): 0.1029, train loss: 0.593205, train metric: 0.807422, vali loss: 0.590135, vali metric: 0.779687\n",
            "epoch: 25, time(s): 0.1120, train loss: 0.587945, train metric: 0.808984, vali loss: 0.584506, vali metric: 0.796875\n",
            "epoch: 26, time(s): 0.1083, train loss: 0.582561, train metric: 0.816797, vali loss: 0.578962, vali metric: 0.801562\n",
            "epoch: 27, time(s): 0.1121, train loss: 0.577206, train metric: 0.824219, vali loss: 0.573424, vali metric: 0.798438\n",
            "epoch: 28, time(s): 0.1045, train loss: 0.571965, train metric: 0.814453, vali loss: 0.567669, vali metric: 0.806250\n",
            "epoch: 29, time(s): 0.1063, train loss: 0.566125, train metric: 0.819531, vali loss: 0.561859, vali metric: 0.814063\n",
            "epoch: 30, time(s): 0.1048, train loss: 0.560326, train metric: 0.822266, vali loss: 0.556133, vali metric: 0.810937\n",
            "epoch: 31, time(s): 0.1057, train loss: 0.554593, train metric: 0.821875, vali loss: 0.550197, vali metric: 0.820312\n",
            "epoch: 32, time(s): 0.1065, train loss: 0.548916, train metric: 0.820312, vali loss: 0.544253, vali metric: 0.834375\n",
            "epoch: 33, time(s): 0.1071, train loss: 0.543226, train metric: 0.826172, vali loss: 0.538326, vali metric: 0.839063\n",
            "epoch: 34, time(s): 0.1051, train loss: 0.537496, train metric: 0.824609, vali loss: 0.532525, vali metric: 0.839063\n",
            "epoch: 35, time(s): 0.1100, train loss: 0.531702, train metric: 0.826562, vali loss: 0.526773, vali metric: 0.834375\n",
            "epoch: 36, time(s): 0.1038, train loss: 0.526050, train metric: 0.824609, vali loss: 0.521020, vali metric: 0.835938\n",
            "epoch: 37, time(s): 0.1066, train loss: 0.520324, train metric: 0.828125, vali loss: 0.515363, vali metric: 0.839063\n",
            "epoch: 38, time(s): 0.1061, train loss: 0.514967, train metric: 0.826562, vali loss: 0.509767, vali metric: 0.839063\n",
            "epoch: 39, time(s): 0.1062, train loss: 0.509371, train metric: 0.826953, vali loss: 0.504268, vali metric: 0.839063\n",
            "epoch: 40, time(s): 0.1029, train loss: 0.504359, train metric: 0.829688, vali loss: 0.498992, vali metric: 0.834375\n",
            "epoch: 41, time(s): 0.1060, train loss: 0.498824, train metric: 0.827734, vali loss: 0.493754, vali metric: 0.839063\n",
            "epoch: 42, time(s): 0.1062, train loss: 0.493918, train metric: 0.828516, vali loss: 0.488748, vali metric: 0.832812\n",
            "epoch: 43, time(s): 0.1100, train loss: 0.488787, train metric: 0.830859, vali loss: 0.483677, vali metric: 0.845313\n",
            "epoch: 44, time(s): 0.1085, train loss: 0.484146, train metric: 0.830859, vali loss: 0.479021, vali metric: 0.835938\n",
            "epoch: 45, time(s): 0.1053, train loss: 0.479248, train metric: 0.829297, vali loss: 0.474276, vali metric: 0.845313\n",
            "epoch: 46, time(s): 0.1041, train loss: 0.474918, train metric: 0.830078, vali loss: 0.469886, vali metric: 0.840625\n",
            "epoch: 47, time(s): 0.1093, train loss: 0.470555, train metric: 0.828516, vali loss: 0.465515, vali metric: 0.843750\n",
            "epoch: 48, time(s): 0.1032, train loss: 0.466285, train metric: 0.828906, vali loss: 0.461325, vali metric: 0.845313\n",
            "epoch: 49, time(s): 0.1071, train loss: 0.462342, train metric: 0.832812, vali loss: 0.457391, vali metric: 0.842187\n",
            "epoch: 50, time(s): 0.1047, train loss: 0.458326, train metric: 0.829688, vali loss: 0.453472, vali metric: 0.840625\n",
            "epoch: 51, time(s): 0.1122, train loss: 0.454834, train metric: 0.830078, vali loss: 0.449918, vali metric: 0.837500\n",
            "epoch: 52, time(s): 0.1048, train loss: 0.450924, train metric: 0.828906, vali loss: 0.446237, vali metric: 0.840625\n",
            "epoch: 53, time(s): 0.1067, train loss: 0.447612, train metric: 0.829688, vali loss: 0.442933, vali metric: 0.842187\n",
            "epoch: 54, time(s): 0.1263, train loss: 0.444228, train metric: 0.830078, vali loss: 0.439707, vali metric: 0.840625\n",
            "epoch: 55, time(s): 0.1116, train loss: 0.441100, train metric: 0.832812, vali loss: 0.436586, vali metric: 0.842187\n",
            "epoch: 56, time(s): 0.1050, train loss: 0.438045, train metric: 0.828516, vali loss: 0.433800, vali metric: 0.837500\n",
            "epoch: 57, time(s): 0.1073, train loss: 0.435302, train metric: 0.829688, vali loss: 0.430839, vali metric: 0.840625\n",
            "epoch: 58, time(s): 0.1094, train loss: 0.432619, train metric: 0.831641, vali loss: 0.428226, vali metric: 0.845313\n",
            "epoch: 59, time(s): 0.1058, train loss: 0.429796, train metric: 0.830078, vali loss: 0.425618, vali metric: 0.840625\n",
            "epoch: 60, time(s): 0.1038, train loss: 0.427291, train metric: 0.830078, vali loss: 0.423179, vali metric: 0.842187\n",
            "epoch: 61, time(s): 0.1086, train loss: 0.424859, train metric: 0.830469, vali loss: 0.420905, vali metric: 0.843750\n",
            "epoch: 62, time(s): 0.1031, train loss: 0.422551, train metric: 0.832031, vali loss: 0.418707, vali metric: 0.843750\n",
            "epoch: 63, time(s): 0.1145, train loss: 0.420361, train metric: 0.832422, vali loss: 0.416569, vali metric: 0.840625\n",
            "epoch: 64, time(s): 0.1035, train loss: 0.418189, train metric: 0.830469, vali loss: 0.414565, vali metric: 0.840625\n",
            "epoch: 65, time(s): 0.1117, train loss: 0.416159, train metric: 0.831250, vali loss: 0.412746, vali metric: 0.842187\n",
            "epoch: 66, time(s): 0.1093, train loss: 0.414453, train metric: 0.829688, vali loss: 0.410857, vali metric: 0.840625\n",
            "epoch: 67, time(s): 0.1103, train loss: 0.412739, train metric: 0.831250, vali loss: 0.409433, vali metric: 0.842187\n",
            "epoch: 68, time(s): 0.1038, train loss: 0.411055, train metric: 0.830469, vali loss: 0.407533, vali metric: 0.842187\n",
            "epoch: 69, time(s): 0.1108, train loss: 0.408792, train metric: 0.831250, vali loss: 0.406241, vali metric: 0.842187\n",
            "epoch: 70, time(s): 0.1053, train loss: 0.407703, train metric: 0.828906, vali loss: 0.404434, vali metric: 0.842187\n",
            "epoch: 71, time(s): 0.1061, train loss: 0.405901, train metric: 0.831641, vali loss: 0.402981, vali metric: 0.840625\n",
            "epoch: 72, time(s): 0.1113, train loss: 0.404692, train metric: 0.831250, vali loss: 0.401711, vali metric: 0.842187\n",
            "epoch: 73, time(s): 0.1057, train loss: 0.403016, train metric: 0.831250, vali loss: 0.400547, vali metric: 0.843750\n",
            "epoch: 74, time(s): 0.1052, train loss: 0.402255, train metric: 0.829297, vali loss: 0.399119, vali metric: 0.842187\n",
            "epoch: 75, time(s): 0.1057, train loss: 0.400635, train metric: 0.831641, vali loss: 0.397905, vali metric: 0.842187\n",
            "epoch: 76, time(s): 0.1054, train loss: 0.399336, train metric: 0.829297, vali loss: 0.396772, vali metric: 0.843750\n",
            "epoch: 77, time(s): 0.1063, train loss: 0.398062, train metric: 0.830859, vali loss: 0.395688, vali metric: 0.840625\n",
            "epoch: 78, time(s): 0.1020, train loss: 0.397095, train metric: 0.832422, vali loss: 0.394685, vali metric: 0.843750\n",
            "epoch: 79, time(s): 0.1076, train loss: 0.396131, train metric: 0.829688, vali loss: 0.393733, vali metric: 0.843750\n",
            "epoch: 80, time(s): 0.1073, train loss: 0.395217, train metric: 0.832812, vali loss: 0.392817, vali metric: 0.843750\n",
            "epoch: 81, time(s): 0.1044, train loss: 0.394228, train metric: 0.830078, vali loss: 0.392206, vali metric: 0.846875\n",
            "epoch: 82, time(s): 0.1082, train loss: 0.393035, train metric: 0.831250, vali loss: 0.391144, vali metric: 0.843750\n",
            "epoch: 83, time(s): 0.1083, train loss: 0.392075, train metric: 0.832031, vali loss: 0.390185, vali metric: 0.842187\n",
            "epoch: 84, time(s): 0.1097, train loss: 0.391308, train metric: 0.832031, vali loss: 0.389443, vali metric: 0.843750\n",
            "epoch: 85, time(s): 0.1047, train loss: 0.390510, train metric: 0.833203, vali loss: 0.388639, vali metric: 0.843750\n",
            "epoch: 86, time(s): 0.1138, train loss: 0.389630, train metric: 0.829688, vali loss: 0.388002, vali metric: 0.843750\n",
            "epoch: 87, time(s): 0.1061, train loss: 0.389197, train metric: 0.832812, vali loss: 0.387348, vali metric: 0.843750\n",
            "epoch: 88, time(s): 0.1026, train loss: 0.388103, train metric: 0.833203, vali loss: 0.386751, vali metric: 0.843750\n",
            "epoch: 89, time(s): 0.1075, train loss: 0.387743, train metric: 0.829297, vali loss: 0.386242, vali metric: 0.845313\n",
            "epoch: 90, time(s): 0.1024, train loss: 0.386936, train metric: 0.832812, vali loss: 0.385378, vali metric: 0.842187\n",
            "epoch: 91, time(s): 0.1107, train loss: 0.386309, train metric: 0.831250, vali loss: 0.384906, vali metric: 0.843750\n",
            "epoch: 92, time(s): 0.1029, train loss: 0.385665, train metric: 0.833594, vali loss: 0.384484, vali metric: 0.843750\n",
            "epoch: 93, time(s): 0.1070, train loss: 0.384844, train metric: 0.832812, vali loss: 0.383739, vali metric: 0.842187\n",
            "epoch: 94, time(s): 0.1096, train loss: 0.384450, train metric: 0.833594, vali loss: 0.383375, vali metric: 0.845313\n",
            "epoch: 95, time(s): 0.1061, train loss: 0.384009, train metric: 0.834375, vali loss: 0.382793, vali metric: 0.842187\n",
            "epoch: 96, time(s): 0.1046, train loss: 0.383469, train metric: 0.834766, vali loss: 0.382321, vali metric: 0.840625\n",
            "epoch: 97, time(s): 0.1087, train loss: 0.382824, train metric: 0.833203, vali loss: 0.381917, vali metric: 0.845313\n",
            "epoch: 98, time(s): 0.1057, train loss: 0.382231, train metric: 0.834375, vali loss: 0.381746, vali metric: 0.846875\n",
            "epoch: 99, time(s): 0.1072, train loss: 0.382018, train metric: 0.832422, vali loss: 0.381212, vali metric: 0.845313\n",
            "epoch: 100, time(s): 0.1066, train loss: 0.381342, train metric: 0.832422, vali loss: 0.380878, vali metric: 0.843750\n"
          ]
        }
      ],
      "source": [
        "#training\n",
        "import time\n",
        "epochs = 100\n",
        "\n",
        "hist_loss = []\n",
        "hist_metric = []\n",
        "hist_vloss = []\n",
        "hist_vmetric = []\n",
        "\n",
        "for epoch in range(epochs):\n",
        "    t0 = time.time()\n",
        "    \n",
        "    #training step\n",
        "    model.train()\n",
        "    train_loss = 0.0\n",
        "    train_metric = 0.0\n",
        "    counter = 0\n",
        "    for xb, yb in dataloader_train:\n",
        "        counter += 1\n",
        "        xb=xb.type(torch.float).to(device)\n",
        "        yb=yb.type(torch.float).to(device)\n",
        "        pred = model(xb)\n",
        "        loss = loss_func(pred, torch.unsqueeze(yb,1))\n",
        "        metric = metric_func(pred.cpu(), yb.cpu())\n",
        "        train_loss += loss.item()\n",
        "        train_metric += metric.item()\n",
        "\n",
        "        # backpropagation\n",
        "        loss.backward()\n",
        "        opt.step()\n",
        "        opt.zero_grad()\n",
        " \n",
        "    train_loss = train_loss/counter\n",
        "    train_metric = train_metric/counter\n",
        "\n",
        "    hist_loss.append(train_loss)\n",
        "    hist_metric.append(train_metric)\n",
        "\n",
        "    # validation step\n",
        "    model.eval()\n",
        "    vali_loss = 0.0\n",
        "    vali_metric = 0.0\n",
        "    counter = 0\n",
        "    with torch.no_grad():\n",
        "      for xb, yb in dataloader_vali:\n",
        "        counter += 1\n",
        "        xb=xb.type(torch.float).to(device)\n",
        "        yb=yb.type(torch.float).to(device)\n",
        "        pred = model(xb)\n",
        "        vloss = loss_func(pred, torch.unsqueeze(yb,1))\n",
        "        vmetric = metric_func(pred.cpu(), yb.cpu())\n",
        "        vali_loss += vloss.item()\n",
        "        vali_metric += vmetric.item()\n",
        "        \n",
        "    vali_loss = vali_loss/counter\n",
        "    vali_metric = vali_metric/counter    \n",
        "\n",
        "    hist_vloss.append(vali_loss)\n",
        "    hist_vmetric.append(vali_metric)\n",
        "\n",
        "    elapsed_time = time.time()-t0\n",
        "    print(\"epoch: %d, time(s): %.4f, train loss: %.6f, train metric: %.6f, vali loss: %.6f, vali metric: %.6f\" \n",
        "          % (epoch+1, elapsed_time, train_loss, train_metric, vali_loss, vali_metric))"
      ]
    },
    {
      "cell_type": "code",
      "execution_count": 19,
      "metadata": {
        "id": "pURp_75lZZmu",
        "colab": {
          "base_uri": "https://localhost:8080/",
          "height": 460
        },
        "outputId": "104e73f5-83da-443d-9e08-78bd5378f480"
      },
      "outputs": [
        {
          "output_type": "execute_result",
          "data": {
            "text/plain": [
              "<matplotlib.legend.Legend at 0x7f073e73d710>"
            ]
          },
          "metadata": {},
          "execution_count": 19
        },
        {
          "output_type": "display_data",
          "data": {
            "text/plain": [
              "<Figure size 720x504 with 1 Axes>"
            ],
            "image/png": "[encoded data removed]"
          },
          "metadata": {
            "needs_background": "light"
          }
        }
      ],
      "source": [
        "plt.figure(figsize=(10, 7))\n",
        "plt.plot(range(1,len(hist_loss)+1), hist_loss, color='green', linestyle='-', label='train loss')\n",
        "plt.plot(range(1,len(hist_vloss)+1), hist_vloss, color='blue', linestyle='-', label='validation loss')\n",
        "plt.xlabel('Epochs')\n",
        "plt.ylabel('Loss')\n",
        "plt.legend()"
      ]
    },
    {
      "cell_type": "code",
      "execution_count": 18,
      "metadata": {
        "id": "FZyfz3ZsX5Br",
        "colab": {
          "base_uri": "https://localhost:8080/",
          "height": 460
        },
        "outputId": "b722d40e-3dff-45f0-dbb2-38fc08f28f43"
      },
      "outputs": [
        {
          "output_type": "execute_result",
          "data": {
            "text/plain": [
              "<matplotlib.legend.Legend at 0x7f073f0584d0>"
            ]
          },
          "metadata": {},
          "execution_count": 18
        },
        {
          "output_type": "display_data",
          "data": {
            "text/plain": [
              "<Figure size 720x504 with 1 Axes>"
            ],
            "image/png": "[encoded data removed]"
          },
          "metadata": {
            "needs_background": "light"
          }
        }
      ],
      "source": [
        "# plot history \n",
        "plt.figure(figsize=(10, 7))\n",
        "plt.plot(range(1,len(hist_metric)+1),hist_metric, color='green', linestyle='-', label='train metric')\n",
        "plt.plot(range(1,len(hist_vmetric)+1),hist_vmetric, color='blue', linestyle='-', label='validation metric')\n",
        "plt.xlabel('Epochs')\n",
        "plt.ylabel('Metric')\n",
        "plt.legend()"
      ]
    },
    {
      "cell_type": "code",
      "execution_count": 20,
      "metadata": {
        "id": "Mw_C3GGq2QHa"
      },
      "outputs": [],
      "source": [
        "#test the trained model \n",
        "\n",
        "model.to(torch.device(\"cpu\"))\n",
        "\n",
        "X_test_pt = X_test_pt.type(torch.float).to(torch.device(\"cpu\"))\n",
        "res = model(X_test_pt)"
      ]
    },
    {
      "cell_type": "code",
      "execution_count": 21,
      "metadata": {
        "colab": {
          "base_uri": "https://localhost:8080/"
        },
        "id": "l829A8uyuRJd",
        "outputId": "cd223f3a-811b-4473-9b9b-f8cc0af15617"
      },
      "outputs": [
        {
          "output_type": "stream",
          "name": "stdout",
          "text": [
            "Test accuracy:  0.83\n"
          ]
        }
      ],
      "source": [
        "print('Test accuracy: ',accuracy(res,Y_test_pt))"
      ]
    }
  ],
  "metadata": {
    "colab": {
      "name": "SuperSimpleMLP.ipynb",
      "provenance": [],
      "collapsed_sections": [],
      "include_colab_link": true
    },
    "kernelspec": {
      "display_name": "default:Python",
      "language": "python",
      "name": "conda-env-default-py"
    },
    "language_info": {
      "codemirror_mode": {
        "name": "ipython",
        "version": 3
      },
      "file_extension": ".py",
      "mimetype": "text/x-python",
      "name": "python",
      "nbconvert_exporter": "python",
      "pygments_lexer": "ipython3",
      "version": "3.9.7"
    },
    "accelerator": "GPU"
  },
  "nbformat": 4,
  "nbformat_minor": 0
}