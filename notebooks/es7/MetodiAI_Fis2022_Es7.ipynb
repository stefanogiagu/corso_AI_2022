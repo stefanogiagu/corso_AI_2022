{
  "cells": [
    {
      "cell_type": "markdown",
      "metadata": {
        "id": "view-in-github",
        "colab_type": "text"
      },
      "source": [
        "<a href=\"https://colab.research.google.com/github/stefanogiagu/corso_AI_2022/blob/main/notebooks/es7/MetodiAI_Fis2022_Es7.ipynb\" target=\"_parent\"><img src=\"https://colab.research.google.com/assets/colab-badge.svg\" alt=\"Open In Colab\"/></a>"
      ]
    },
    {
      "cell_type": "markdown",
      "source": [
        "# Esercitazione 7: implementazione in pytorch di una rete neurale fully connected di tipo shallow (un unico layer denso), addestrata per un task di classificazione\n",
        "\n",
        "**Task:** Scopo: familiarizzare con l'implementazione di ANN con la libreria pytorch\n",
        "\n",
        "**Dataset:** MNIST benchmark dataset dal repositorio pytorch"
      ],
      "metadata": {
        "id": "0ZvSsN04e3Bt"
      }
    },
    {
      "cell_type": "code",
      "execution_count": 1,
      "metadata": {
        "id": "F6cJhPLThtRq",
        "colab": {
          "base_uri": "https://localhost:8080/"
        },
        "outputId": "46345779-6e49-42bd-a559-e8a07c9c2647"
      },
      "outputs": [
        {
          "output_type": "stream",
          "name": "stdout",
          "text": [
            "1.11.0+cu113\n",
            "0.12.0+cu113\n"
          ]
        }
      ],
      "source": [
        "# import delle librerie\n",
        "import numpy as np\n",
        "import matplotlib.pyplot as plt\n",
        "\n",
        "# pytorch\n",
        "import torch\n",
        "import torchvision\n",
        "\n",
        "print(torch.__version__)\n",
        "print(torchvision.__version__)"
      ]
    },
    {
      "cell_type": "markdown",
      "source": [
        "il dataset MNIST è costituito da immagini di caratteri numerici (0,1,...,9) scritti a mano corrispondenti a 60k immagini per il training e 10k immagini per il test.\n",
        "\n",
        "Ogni immagine ha dimensione $(28,28)$ pixel, con un canale di intensità (scala di grigi) a 8 bit (valori di intensità di ogni pixel $\\in [0,256]$).\n",
        "\n",
        "È disponibile in varie librerie per il ML (scikit-learn, torch, tensorflow...), in questo hands-on utilizzeremo il campione disponibile nella libreria torch."
      ],
      "metadata": {
        "id": "BXCIGyetgIlw"
      }
    },
    {
      "cell_type": "code",
      "source": [
        "# lettura da pytorch \n",
        "from torchvision import datasets\n",
        "from torchvision.transforms import ToTensor\n",
        "\n",
        "# la funzione torchvision.datasets.MNIST accede al repositorio torch in cui è presente \n",
        "# il dataset MNIST\n",
        "# il dataset è costituito da immagini in formato PIL (png), per convertirle automaticamente in tensori \n",
        "# torch si deve applicare la \"trasformazione\" ai dati: torchvision.transforms.ToTensor\n",
        "# la funzione trasfroma l'immagine in un tensore di shape (C,H,W) = (1,28,28) in cui C=canali di colore, \n",
        "# H = numero pixel verticali, W = numero pixel orizzonatali\n",
        "\n",
        "# NOTA: pytorch vuole le immagini nel formato (C,H,W) (a differenza di Tensorflow/keras che usano (H,W,C))\n",
        "\n",
        "# leggiamo il dataset train\n",
        "train_data = datasets.MNIST(\n",
        "    root = 'data', #dove andrà a copiare i dataset scaricati\n",
        "    train = True,  # True: train dataset, False: test dataset                     \n",
        "    transform = ToTensor(), #trasforma i dati letti in tensori torch\n",
        "    download = True,  #copia fisicamente il dataset sul disco locale (più veloce riacedere ai dati)        \n",
        ")\n",
        "\n",
        "# leggiamo il dataset test\n",
        "test_data = datasets.MNIST(\n",
        "    root = 'data', \n",
        "    train = False, \n",
        "    transform = ToTensor()\n",
        ")\n",
        "\n",
        "print(train_data)\n",
        "print(test_data)"
      ],
      "metadata": {
        "colab": {
          "base_uri": "https://localhost:8080/"
        },
        "id": "IuzeOHQSakcQ",
        "outputId": "35f3dfc6-2e74-4a67-b145-949227865a3f"
      },
      "execution_count": 57,
      "outputs": [
        {
          "output_type": "stream",
          "name": "stdout",
          "text": [
            "Dataset MNIST\n",
            "    Number of datapoints: 60000\n",
            "    Root location: data\n",
            "    Split: Train\n",
            "    StandardTransform\n",
            "Transform: ToTensor()\n",
            "Dataset MNIST\n",
            "    Number of datapoints: 10000\n",
            "    Root location: data\n",
            "    Split: Test\n",
            "    StandardTransform\n",
            "Transform: ToTensor()\n"
          ]
        }
      ]
    },
    {
      "cell_type": "code",
      "source": [
        "# train_data e test_data sono tuple che contengono coppie (immagini convertite in tensori, label)\n",
        "\n",
        "# si può accedere alle immagini e alle label **originali** tramite i metodi .data e .targets\n",
        "\n",
        "print('Training data shape: ',train_data.data.shape)\n",
        "print('Training targets shape: ',train_data.targets.shape)\n",
        "print('Test data shape: ',test_data.data.shape)\n",
        "print('Test targets shape: ',test_data.targets.shape)\n",
        "\n",
        "# prima immagine e label del campione di training\n",
        "\n",
        "immagine = (train_data.data)[0]\n",
        "label = (train_data.targets)[0]\n",
        "\n",
        "print(type(immagine)) # tensore torch\n",
        "print(type(label)) # tensore torch\n",
        "\n",
        "print('shape immagine: ', immagine.shape)\n",
        "print('shape immagine: ', immagine.numpy().shape)\n",
        "\n",
        "print(immagine)\n",
        "print(label)\n",
        "\n",
        "# le immagini convertite internamente da ToTensor invece sono normalizzate in [0,1]\n",
        "# sono queste quelle che vengono utilizzate come input alla rete neurale (per velocizzare \n",
        "# e stabilizzare il training)\n",
        "\n",
        "print((train_data[0])[0])"
      ],
      "metadata": {
        "colab": {
          "base_uri": "https://localhost:8080/"
        },
        "id": "xQhXCEQGbHNC",
        "outputId": "360f4f6e-7059-45ba-e1fb-b3cc613bce74"
      },
      "execution_count": 58,
      "outputs": [
        {
          "output_type": "stream",
          "name": "stdout",
          "text": [
            "Training data shape:  torch.Size([60000, 28, 28])\n",
            "Training targets shape:  torch.Size([60000])\n",
            "Test data shape:  torch.Size([10000, 28, 28])\n",
            "Test targets shape:  torch.Size([10000])\n",
            "<class 'torch.Tensor'>\n",
            "<class 'torch.Tensor'>\n",
            "shape immagine:  torch.Size([28, 28])\n",
            "shape immagine:  (28, 28)\n",
            "tensor([[  0,   0,   0,   0,   0,   0,   0,   0,   0,   0,   0,   0,   0,   0,\n",
            "           0,   0,   0,   0,   0,   0,   0,   0,   0,   0,   0,   0,   0,   0],\n",
            "        [  0,   0,   0,   0,   0,   0,   0,   0,   0,   0,   0,   0,   0,   0,\n",
            "           0,   0,   0,   0,   0,   0,   0,   0,   0,   0,   0,   0,   0,   0],\n",
            "        [  0,   0,   0,   0,   0,   0,   0,   0,   0,   0,   0,   0,   0,   0,\n",
            "           0,   0,   0,   0,   0,   0,   0,   0,   0,   0,   0,   0,   0,   0],\n",
            "        [  0,   0,   0,   0,   0,   0,   0,   0,   0,   0,   0,   0,   0,   0,\n",
            "           0,   0,   0,   0,   0,   0,   0,   0,   0,   0,   0,   0,   0,   0],\n",
            "        [  0,   0,   0,   0,   0,   0,   0,   0,   0,   0,   0,   0,   0,   0,\n",
            "           0,   0,   0,   0,   0,   0,   0,   0,   0,   0,   0,   0,   0,   0],\n",
            "        [  0,   0,   0,   0,   0,   0,   0,   0,   0,   0,   0,   0,   3,  18,\n",
            "          18,  18, 126, 136, 175,  26, 166, 255, 247, 127,   0,   0,   0,   0],\n",
            "        [  0,   0,   0,   0,   0,   0,   0,   0,  30,  36,  94, 154, 170, 253,\n",
            "         253, 253, 253, 253, 225, 172, 253, 242, 195,  64,   0,   0,   0,   0],\n",
            "        [  0,   0,   0,   0,   0,   0,   0,  49, 238, 253, 253, 253, 253, 253,\n",
            "         253, 253, 253, 251,  93,  82,  82,  56,  39,   0,   0,   0,   0,   0],\n",
            "        [  0,   0,   0,   0,   0,   0,   0,  18, 219, 253, 253, 253, 253, 253,\n",
            "         198, 182, 247, 241,   0,   0,   0,   0,   0,   0,   0,   0,   0,   0],\n",
            "        [  0,   0,   0,   0,   0,   0,   0,   0,  80, 156, 107, 253, 253, 205,\n",
            "          11,   0,  43, 154,   0,   0,   0,   0,   0,   0,   0,   0,   0,   0],\n",
            "        [  0,   0,   0,   0,   0,   0,   0,   0,   0,  14,   1, 154, 253,  90,\n",
            "           0,   0,   0,   0,   0,   0,   0,   0,   0,   0,   0,   0,   0,   0],\n",
            "        [  0,   0,   0,   0,   0,   0,   0,   0,   0,   0,   0, 139, 253, 190,\n",
            "           2,   0,   0,   0,   0,   0,   0,   0,   0,   0,   0,   0,   0,   0],\n",
            "        [  0,   0,   0,   0,   0,   0,   0,   0,   0,   0,   0,  11, 190, 253,\n",
            "          70,   0,   0,   0,   0,   0,   0,   0,   0,   0,   0,   0,   0,   0],\n",
            "        [  0,   0,   0,   0,   0,   0,   0,   0,   0,   0,   0,   0,  35, 241,\n",
            "         225, 160, 108,   1,   0,   0,   0,   0,   0,   0,   0,   0,   0,   0],\n",
            "        [  0,   0,   0,   0,   0,   0,   0,   0,   0,   0,   0,   0,   0,  81,\n",
            "         240, 253, 253, 119,  25,   0,   0,   0,   0,   0,   0,   0,   0,   0],\n",
            "        [  0,   0,   0,   0,   0,   0,   0,   0,   0,   0,   0,   0,   0,   0,\n",
            "          45, 186, 253, 253, 150,  27,   0,   0,   0,   0,   0,   0,   0,   0],\n",
            "        [  0,   0,   0,   0,   0,   0,   0,   0,   0,   0,   0,   0,   0,   0,\n",
            "           0,  16,  93, 252, 253, 187,   0,   0,   0,   0,   0,   0,   0,   0],\n",
            "        [  0,   0,   0,   0,   0,   0,   0,   0,   0,   0,   0,   0,   0,   0,\n",
            "           0,   0,   0, 249, 253, 249,  64,   0,   0,   0,   0,   0,   0,   0],\n",
            "        [  0,   0,   0,   0,   0,   0,   0,   0,   0,   0,   0,   0,   0,   0,\n",
            "          46, 130, 183, 253, 253, 207,   2,   0,   0,   0,   0,   0,   0,   0],\n",
            "        [  0,   0,   0,   0,   0,   0,   0,   0,   0,   0,   0,   0,  39, 148,\n",
            "         229, 253, 253, 253, 250, 182,   0,   0,   0,   0,   0,   0,   0,   0],\n",
            "        [  0,   0,   0,   0,   0,   0,   0,   0,   0,   0,  24, 114, 221, 253,\n",
            "         253, 253, 253, 201,  78,   0,   0,   0,   0,   0,   0,   0,   0,   0],\n",
            "        [  0,   0,   0,   0,   0,   0,   0,   0,  23,  66, 213, 253, 253, 253,\n",
            "         253, 198,  81,   2,   0,   0,   0,   0,   0,   0,   0,   0,   0,   0],\n",
            "        [  0,   0,   0,   0,   0,   0,  18, 171, 219, 253, 253, 253, 253, 195,\n",
            "          80,   9,   0,   0,   0,   0,   0,   0,   0,   0,   0,   0,   0,   0],\n",
            "        [  0,   0,   0,   0,  55, 172, 226, 253, 253, 253, 253, 244, 133,  11,\n",
            "           0,   0,   0,   0,   0,   0,   0,   0,   0,   0,   0,   0,   0,   0],\n",
            "        [  0,   0,   0,   0, 136, 253, 253, 253, 212, 135, 132,  16,   0,   0,\n",
            "           0,   0,   0,   0,   0,   0,   0,   0,   0,   0,   0,   0,   0,   0],\n",
            "        [  0,   0,   0,   0,   0,   0,   0,   0,   0,   0,   0,   0,   0,   0,\n",
            "           0,   0,   0,   0,   0,   0,   0,   0,   0,   0,   0,   0,   0,   0],\n",
            "        [  0,   0,   0,   0,   0,   0,   0,   0,   0,   0,   0,   0,   0,   0,\n",
            "           0,   0,   0,   0,   0,   0,   0,   0,   0,   0,   0,   0,   0,   0],\n",
            "        [  0,   0,   0,   0,   0,   0,   0,   0,   0,   0,   0,   0,   0,   0,\n",
            "           0,   0,   0,   0,   0,   0,   0,   0,   0,   0,   0,   0,   0,   0]],\n",
            "       dtype=torch.uint8)\n",
            "tensor(5)\n",
            "tensor([[[0.0000, 0.0000, 0.0000, 0.0000, 0.0000, 0.0000, 0.0000, 0.0000,\n",
            "          0.0000, 0.0000, 0.0000, 0.0000, 0.0000, 0.0000, 0.0000, 0.0000,\n",
            "          0.0000, 0.0000, 0.0000, 0.0000, 0.0000, 0.0000, 0.0000, 0.0000,\n",
            "          0.0000, 0.0000, 0.0000, 0.0000],\n",
            "         [0.0000, 0.0000, 0.0000, 0.0000, 0.0000, 0.0000, 0.0000, 0.0000,\n",
            "          0.0000, 0.0000, 0.0000, 0.0000, 0.0000, 0.0000, 0.0000, 0.0000,\n",
            "          0.0000, 0.0000, 0.0000, 0.0000, 0.0000, 0.0000, 0.0000, 0.0000,\n",
            "          0.0000, 0.0000, 0.0000, 0.0000],\n",
            "         [0.0000, 0.0000, 0.0000, 0.0000, 0.0000, 0.0000, 0.0000, 0.0000,\n",
            "          0.0000, 0.0000, 0.0000, 0.0000, 0.0000, 0.0000, 0.0000, 0.0000,\n",
            "          0.0000, 0.0000, 0.0000, 0.0000, 0.0000, 0.0000, 0.0000, 0.0000,\n",
            "          0.0000, 0.0000, 0.0000, 0.0000],\n",
            "         [0.0000, 0.0000, 0.0000, 0.0000, 0.0000, 0.0000, 0.0000, 0.0000,\n",
            "          0.0000, 0.0000, 0.0000, 0.0000, 0.0000, 0.0000, 0.0000, 0.0000,\n",
            "          0.0000, 0.0000, 0.0000, 0.0000, 0.0000, 0.0000, 0.0000, 0.0000,\n",
            "          0.0000, 0.0000, 0.0000, 0.0000],\n",
            "         [0.0000, 0.0000, 0.0000, 0.0000, 0.0000, 0.0000, 0.0000, 0.0000,\n",
            "          0.0000, 0.0000, 0.0000, 0.0000, 0.0000, 0.0000, 0.0000, 0.0000,\n",
            "          0.0000, 0.0000, 0.0000, 0.0000, 0.0000, 0.0000, 0.0000, 0.0000,\n",
            "          0.0000, 0.0000, 0.0000, 0.0000],\n",
            "         [0.0000, 0.0000, 0.0000, 0.0000, 0.0000, 0.0000, 0.0000, 0.0000,\n",
            "          0.0000, 0.0000, 0.0000, 0.0000, 0.0118, 0.0706, 0.0706, 0.0706,\n",
            "          0.4941, 0.5333, 0.6863, 0.1020, 0.6510, 1.0000, 0.9686, 0.4980,\n",
            "          0.0000, 0.0000, 0.0000, 0.0000],\n",
            "         [0.0000, 0.0000, 0.0000, 0.0000, 0.0000, 0.0000, 0.0000, 0.0000,\n",
            "          0.1176, 0.1412, 0.3686, 0.6039, 0.6667, 0.9922, 0.9922, 0.9922,\n",
            "          0.9922, 0.9922, 0.8824, 0.6745, 0.9922, 0.9490, 0.7647, 0.2510,\n",
            "          0.0000, 0.0000, 0.0000, 0.0000],\n",
            "         [0.0000, 0.0000, 0.0000, 0.0000, 0.0000, 0.0000, 0.0000, 0.1922,\n",
            "          0.9333, 0.9922, 0.9922, 0.9922, 0.9922, 0.9922, 0.9922, 0.9922,\n",
            "          0.9922, 0.9843, 0.3647, 0.3216, 0.3216, 0.2196, 0.1529, 0.0000,\n",
            "          0.0000, 0.0000, 0.0000, 0.0000],\n",
            "         [0.0000, 0.0000, 0.0000, 0.0000, 0.0000, 0.0000, 0.0000, 0.0706,\n",
            "          0.8588, 0.9922, 0.9922, 0.9922, 0.9922, 0.9922, 0.7765, 0.7137,\n",
            "          0.9686, 0.9451, 0.0000, 0.0000, 0.0000, 0.0000, 0.0000, 0.0000,\n",
            "          0.0000, 0.0000, 0.0000, 0.0000],\n",
            "         [0.0000, 0.0000, 0.0000, 0.0000, 0.0000, 0.0000, 0.0000, 0.0000,\n",
            "          0.3137, 0.6118, 0.4196, 0.9922, 0.9922, 0.8039, 0.0431, 0.0000,\n",
            "          0.1686, 0.6039, 0.0000, 0.0000, 0.0000, 0.0000, 0.0000, 0.0000,\n",
            "          0.0000, 0.0000, 0.0000, 0.0000],\n",
            "         [0.0000, 0.0000, 0.0000, 0.0000, 0.0000, 0.0000, 0.0000, 0.0000,\n",
            "          0.0000, 0.0549, 0.0039, 0.6039, 0.9922, 0.3529, 0.0000, 0.0000,\n",
            "          0.0000, 0.0000, 0.0000, 0.0000, 0.0000, 0.0000, 0.0000, 0.0000,\n",
            "          0.0000, 0.0000, 0.0000, 0.0000],\n",
            "         [0.0000, 0.0000, 0.0000, 0.0000, 0.0000, 0.0000, 0.0000, 0.0000,\n",
            "          0.0000, 0.0000, 0.0000, 0.5451, 0.9922, 0.7451, 0.0078, 0.0000,\n",
            "          0.0000, 0.0000, 0.0000, 0.0000, 0.0000, 0.0000, 0.0000, 0.0000,\n",
            "          0.0000, 0.0000, 0.0000, 0.0000],\n",
            "         [0.0000, 0.0000, 0.0000, 0.0000, 0.0000, 0.0000, 0.0000, 0.0000,\n",
            "          0.0000, 0.0000, 0.0000, 0.0431, 0.7451, 0.9922, 0.2745, 0.0000,\n",
            "          0.0000, 0.0000, 0.0000, 0.0000, 0.0000, 0.0000, 0.0000, 0.0000,\n",
            "          0.0000, 0.0000, 0.0000, 0.0000],\n",
            "         [0.0000, 0.0000, 0.0000, 0.0000, 0.0000, 0.0000, 0.0000, 0.0000,\n",
            "          0.0000, 0.0000, 0.0000, 0.0000, 0.1373, 0.9451, 0.8824, 0.6275,\n",
            "          0.4235, 0.0039, 0.0000, 0.0000, 0.0000, 0.0000, 0.0000, 0.0000,\n",
            "          0.0000, 0.0000, 0.0000, 0.0000],\n",
            "         [0.0000, 0.0000, 0.0000, 0.0000, 0.0000, 0.0000, 0.0000, 0.0000,\n",
            "          0.0000, 0.0000, 0.0000, 0.0000, 0.0000, 0.3176, 0.9412, 0.9922,\n",
            "          0.9922, 0.4667, 0.0980, 0.0000, 0.0000, 0.0000, 0.0000, 0.0000,\n",
            "          0.0000, 0.0000, 0.0000, 0.0000],\n",
            "         [0.0000, 0.0000, 0.0000, 0.0000, 0.0000, 0.0000, 0.0000, 0.0000,\n",
            "          0.0000, 0.0000, 0.0000, 0.0000, 0.0000, 0.0000, 0.1765, 0.7294,\n",
            "          0.9922, 0.9922, 0.5882, 0.1059, 0.0000, 0.0000, 0.0000, 0.0000,\n",
            "          0.0000, 0.0000, 0.0000, 0.0000],\n",
            "         [0.0000, 0.0000, 0.0000, 0.0000, 0.0000, 0.0000, 0.0000, 0.0000,\n",
            "          0.0000, 0.0000, 0.0000, 0.0000, 0.0000, 0.0000, 0.0000, 0.0627,\n",
            "          0.3647, 0.9882, 0.9922, 0.7333, 0.0000, 0.0000, 0.0000, 0.0000,\n",
            "          0.0000, 0.0000, 0.0000, 0.0000],\n",
            "         [0.0000, 0.0000, 0.0000, 0.0000, 0.0000, 0.0000, 0.0000, 0.0000,\n",
            "          0.0000, 0.0000, 0.0000, 0.0000, 0.0000, 0.0000, 0.0000, 0.0000,\n",
            "          0.0000, 0.9765, 0.9922, 0.9765, 0.2510, 0.0000, 0.0000, 0.0000,\n",
            "          0.0000, 0.0000, 0.0000, 0.0000],\n",
            "         [0.0000, 0.0000, 0.0000, 0.0000, 0.0000, 0.0000, 0.0000, 0.0000,\n",
            "          0.0000, 0.0000, 0.0000, 0.0000, 0.0000, 0.0000, 0.1804, 0.5098,\n",
            "          0.7176, 0.9922, 0.9922, 0.8118, 0.0078, 0.0000, 0.0000, 0.0000,\n",
            "          0.0000, 0.0000, 0.0000, 0.0000],\n",
            "         [0.0000, 0.0000, 0.0000, 0.0000, 0.0000, 0.0000, 0.0000, 0.0000,\n",
            "          0.0000, 0.0000, 0.0000, 0.0000, 0.1529, 0.5804, 0.8980, 0.9922,\n",
            "          0.9922, 0.9922, 0.9804, 0.7137, 0.0000, 0.0000, 0.0000, 0.0000,\n",
            "          0.0000, 0.0000, 0.0000, 0.0000],\n",
            "         [0.0000, 0.0000, 0.0000, 0.0000, 0.0000, 0.0000, 0.0000, 0.0000,\n",
            "          0.0000, 0.0000, 0.0941, 0.4471, 0.8667, 0.9922, 0.9922, 0.9922,\n",
            "          0.9922, 0.7882, 0.3059, 0.0000, 0.0000, 0.0000, 0.0000, 0.0000,\n",
            "          0.0000, 0.0000, 0.0000, 0.0000],\n",
            "         [0.0000, 0.0000, 0.0000, 0.0000, 0.0000, 0.0000, 0.0000, 0.0000,\n",
            "          0.0902, 0.2588, 0.8353, 0.9922, 0.9922, 0.9922, 0.9922, 0.7765,\n",
            "          0.3176, 0.0078, 0.0000, 0.0000, 0.0000, 0.0000, 0.0000, 0.0000,\n",
            "          0.0000, 0.0000, 0.0000, 0.0000],\n",
            "         [0.0000, 0.0000, 0.0000, 0.0000, 0.0000, 0.0000, 0.0706, 0.6706,\n",
            "          0.8588, 0.9922, 0.9922, 0.9922, 0.9922, 0.7647, 0.3137, 0.0353,\n",
            "          0.0000, 0.0000, 0.0000, 0.0000, 0.0000, 0.0000, 0.0000, 0.0000,\n",
            "          0.0000, 0.0000, 0.0000, 0.0000],\n",
            "         [0.0000, 0.0000, 0.0000, 0.0000, 0.2157, 0.6745, 0.8863, 0.9922,\n",
            "          0.9922, 0.9922, 0.9922, 0.9569, 0.5216, 0.0431, 0.0000, 0.0000,\n",
            "          0.0000, 0.0000, 0.0000, 0.0000, 0.0000, 0.0000, 0.0000, 0.0000,\n",
            "          0.0000, 0.0000, 0.0000, 0.0000],\n",
            "         [0.0000, 0.0000, 0.0000, 0.0000, 0.5333, 0.9922, 0.9922, 0.9922,\n",
            "          0.8314, 0.5294, 0.5176, 0.0627, 0.0000, 0.0000, 0.0000, 0.0000,\n",
            "          0.0000, 0.0000, 0.0000, 0.0000, 0.0000, 0.0000, 0.0000, 0.0000,\n",
            "          0.0000, 0.0000, 0.0000, 0.0000],\n",
            "         [0.0000, 0.0000, 0.0000, 0.0000, 0.0000, 0.0000, 0.0000, 0.0000,\n",
            "          0.0000, 0.0000, 0.0000, 0.0000, 0.0000, 0.0000, 0.0000, 0.0000,\n",
            "          0.0000, 0.0000, 0.0000, 0.0000, 0.0000, 0.0000, 0.0000, 0.0000,\n",
            "          0.0000, 0.0000, 0.0000, 0.0000],\n",
            "         [0.0000, 0.0000, 0.0000, 0.0000, 0.0000, 0.0000, 0.0000, 0.0000,\n",
            "          0.0000, 0.0000, 0.0000, 0.0000, 0.0000, 0.0000, 0.0000, 0.0000,\n",
            "          0.0000, 0.0000, 0.0000, 0.0000, 0.0000, 0.0000, 0.0000, 0.0000,\n",
            "          0.0000, 0.0000, 0.0000, 0.0000],\n",
            "         [0.0000, 0.0000, 0.0000, 0.0000, 0.0000, 0.0000, 0.0000, 0.0000,\n",
            "          0.0000, 0.0000, 0.0000, 0.0000, 0.0000, 0.0000, 0.0000, 0.0000,\n",
            "          0.0000, 0.0000, 0.0000, 0.0000, 0.0000, 0.0000, 0.0000, 0.0000,\n",
            "          0.0000, 0.0000, 0.0000, 0.0000]]])\n"
          ]
        }
      ]
    },
    {
      "cell_type": "code",
      "source": [
        "# grafichiamo l'immagine\n",
        "\n",
        "plt.imshow(immagine.squeeze(), cmap='gray')\n",
        "plt.title('Label: '+str(label.numpy()))\n",
        "plt.axis(\"off\")\n",
        "plt.show()"
      ],
      "metadata": {
        "colab": {
          "base_uri": "https://localhost:8080/",
          "height": 264
        },
        "id": "qAVnJLs4evhl",
        "outputId": "e8196ea7-0f5c-4335-cc21-2ada17cd320b"
      },
      "execution_count": 59,
      "outputs": [
        {
          "output_type": "display_data",
          "data": {
            "text/plain": [
              "<Figure size 432x288 with 1 Axes>"
            ],
            "image/png": "[encoded data removed]"
          },
          "metadata": {
            "needs_background": "light"
          }
        }
      ]
    },
    {
      "cell_type": "code",
      "source": [
        "# grafichiamo 9 immagini random\n",
        "figure = plt.figure(figsize=(10, 8))\n",
        "cols, rows = 3,3\n",
        "for i in range(1, cols * rows + 1):\n",
        "    sample_idx = torch.randint(len(train_data), size=(1,)).item()\n",
        "    img, label = train_data[sample_idx]\n",
        "    figure.add_subplot(rows, cols, i)\n",
        "    plt.title(label)\n",
        "    plt.axis(\"off\")\n",
        "    plt.imshow(img.squeeze(), cmap=\"gray\")\n",
        "plt.show()"
      ],
      "metadata": {
        "colab": {
          "base_uri": "https://localhost:8080/",
          "height": 482
        },
        "id": "uAFgXefghEFT",
        "outputId": "c7094b05-9281-4f70-e192-d487b17a5ddc"
      },
      "execution_count": 60,
      "outputs": [
        {
          "output_type": "display_data",
          "data": {
            "text/plain": [
              "<Figure size 720x576 with 9 Axes>"
            ],
            "image/png": "[encoded data removed]"
          },
          "metadata": {
            "needs_background": "light"
          }
        }
      ]
    },
    {
      "cell_type": "markdown",
      "source": [
        "Uso della GPU. Se si ha a disposizione una GPU può essere utilizzata per accelerare le operazioni. Questo richiede di spostare i tensori sulla GPU quando si effettuano i calcoli. È conveniente controllare se la GPU è disponibile e nel caso settare una variabile opportuna per l'uso successivo."
      ],
      "metadata": {
        "id": "Sm4i_-aFhjN6"
      }
    },
    {
      "cell_type": "code",
      "execution_count": 51,
      "metadata": {
        "colab": {
          "base_uri": "https://localhost:8080/"
        },
        "id": "ZL2plVoan5H6",
        "outputId": "ea50088c-6cbc-43c7-ad5e-78242cb587af"
      },
      "outputs": [
        {
          "output_type": "stream",
          "name": "stdout",
          "text": [
            "Numero di GPU disponibili:  1\n",
            "Tesla P100-PCIE-16GB\n",
            "Computation device: cuda\n",
            "\n"
          ]
        }
      ],
      "source": [
        "# controlliamo se la GPU è disponibile e nel caso quale tipo di GPU\n",
        "if torch.cuda.is_available():\n",
        "  print('Numero di GPU disponibili: ',torch.cuda.device_count())\n",
        "  for i in range(0,torch.cuda.device_count()):\n",
        "    print(torch.cuda.get_device_name(0))\n",
        "\n",
        "# se la GPU è disponibile setto device='cuda', altrimenti 'cpu\n",
        "device = ('cuda' if torch.cuda.is_available() else 'cpu')\n",
        "print(f\"Computation device: {device}\\n\")"
      ]
    },
    {
      "cell_type": "code",
      "source": [
        "# per allenare la rete neurale con SGD (stochastic gradient descent), dobbiamo dividere \n",
        "# il campione di training in mini batch, e eventualmente fare un reshuffling degli eventi ad ongi epoca, \n",
        "# applicare trasformazioni etc... \n",
        "\n",
        "# questo viene fatto in pytorch automaticamente tramite delle helper function chiamate \n",
        "# Data Loaders\n",
        "\n",
        "# dividiamo il dataset in due subset da 50000 e 10000 eventi da usare nel training come \n",
        "# trainign set e validation set (per tunare gli iperparametri della rete)\n",
        "\n",
        "tr_data, val_data = torch.utils.data.random_split(train_data, [50000, 10000])\n",
        "\n",
        "from torch.utils.data import DataLoader\n",
        "\n",
        "# costruiamo tre loader (train, val e test) (volendo si può anche costruire un dizionario che li \n",
        "# legga insieme)\n",
        "\n",
        "batch = 100\n",
        "train_dl = DataLoader(tr_data, \n",
        "                      batch_size=batch, \n",
        "                      shuffle=True, \n",
        "                      num_workers=1)\n",
        "\n",
        "vali_dl = DataLoader(val_data, \n",
        "                      batch_size=batch, \n",
        "                      shuffle=True,\n",
        "                      num_workers=1)\n",
        "    \n",
        "test_dl = DataLoader(test_data, \n",
        "                     batch_size=batch, \n",
        "                     shuffle=True,\n",
        "                     num_workers=1)"
      ],
      "metadata": {
        "id": "mcPxlpiFiifZ"
      },
      "execution_count": 92,
      "outputs": []
    },
    {
      "cell_type": "code",
      "source": [
        "# ogni data loader fornisce un iteratore con il quale si possono accedere ai vari mini-batch del dataset\n",
        "\n",
        "feat, label = next(iter(train_dl))\n",
        "\n",
        "print(f\"Feature batch shape: {feat.size()}\")\n",
        "print(f\"Labels batch shape: {label.size()}\")\n",
        "\n",
        "an_event = feat[0].squeeze() #squeeze elimina la dimensione 1 (1,28,28)->(28,28)\n",
        "a_label = label[0]\n",
        "\n",
        "print(f\"Feature:\")\n",
        "plt.imshow(an_event, cmap='gray')\n",
        "plt.axis(\"off\")\n",
        "plt.show()\n",
        "print(f\"Label: {a_label}\")"
      ],
      "metadata": {
        "colab": {
          "base_uri": "https://localhost:8080/",
          "height": 317
        },
        "id": "gtUM91u8uDw4",
        "outputId": "258fd9ba-80bd-4f7d-bf8a-1b78de525096"
      },
      "execution_count": 93,
      "outputs": [
        {
          "output_type": "stream",
          "name": "stdout",
          "text": [
            "Feature batch shape: torch.Size([100, 1, 28, 28])\n",
            "Labels batch shape: torch.Size([100])\n",
            "Feature:\n"
          ]
        },
        {
          "output_type": "display_data",
          "data": {
            "text/plain": [
              "<Figure size 432x288 with 1 Axes>"
            ],
            "image/png": "[encoded data removed]"
          },
          "metadata": {
            "needs_background": "light"
          }
        },
        {
          "output_type": "stream",
          "name": "stdout",
          "text": [
            "Label: 7\n"
          ]
        }
      ]
    },
    {
      "cell_type": "code",
      "source": [
        "# dettagli su come è fatta un'immagine\n",
        "\n",
        "img = an_event.numpy()\n",
        "\n",
        "fig = plt.figure(figsize = (12,12)) \n",
        "ax = fig.add_subplot(111)\n",
        "ax.imshow(img, cmap='gray')\n",
        "width, height = img.shape\n",
        "thresh = img.max()/2.5\n",
        "for x in range(width):\n",
        "    for y in range(height):\n",
        "        val = round(img[x][y],2) if img[x][y] !=0 else 0\n",
        "        ax.annotate(str(val), xy=(y,x),\n",
        "                    horizontalalignment='center',\n",
        "                    verticalalignment='center',\n",
        "                    color='white' if img[x][y]<thresh else 'black')"
      ],
      "metadata": {
        "colab": {
          "base_uri": "https://localhost:8080/",
          "height": 700
        },
        "id": "FJI5d4uF_xhG",
        "outputId": "b0cb11c5-e569-4bb5-a310-76b4ad1f29df"
      },
      "execution_count": 122,
      "outputs": [
        {
          "output_type": "display_data",
          "data": {
            "text/plain": [
              "<Figure size 864x864 with 1 Axes>"
            ],
            "image/png": "[encoded data removed]"
          },
          "metadata": {
            "needs_background": "light"
          }
        }
      ]
    },
    {
      "cell_type": "markdown",
      "source": [
        "### Definzione del modello di rete neurale.\n",
        "\n",
        "Archiettura: MLP shallow con layer densi (Linear in pytorch):\n",
        " con 1 solo layer hidden con attivazioni ReLU, e 10 neuroni di output con attivazione softmax che predicono la probabilità che l'immagine appartenga ad una delle 10 classi possibili:\n",
        "\n",
        "*   input layer: 28x28=784 neuroni\n",
        "*   hidden layer: 1024 neuroni, attivazione ReLU\n",
        "*   output layer: 10 neuroni, attivazione softmax"
      ],
      "metadata": {
        "id": "g51_U4lgvgYt"
      }
    },
    {
      "cell_type": "code",
      "execution_count": 123,
      "metadata": {
        "id": "At2pTSb5uJ0O"
      },
      "outputs": [],
      "source": [
        "from torch import nn\n",
        "import torch.nn.functional as F\n",
        "\n",
        "# in pytorch una rete neurale viene implementata costruendo una classe python che eredita \n",
        "# dalla classe di pytorch nn.Module e implementa due metodi di base:\n",
        "# __init__: definizione dei layer utlizzati\n",
        "# forward: funzione che calcola y = ANN(x)\n",
        "\n",
        "class ShallowMLP(nn.Module):\n",
        "  def __init__(self, input_dim=784, output_dim=10, hidden_dim=1024):\n",
        "    super(ShallowMLP, self).__init__()\n",
        "    \n",
        "    #torch.nn.Linear(in_features, out_features, bias=True, device=None, dtype=None)\n",
        "    self.layer1 = nn.Linear(input_dim, hidden_dim)  #hidden layer\n",
        "    self.layer2 = nn.Linear(hidden_dim, output_dim) #output layer\n",
        "    \n",
        "  def forward(self, x):\n",
        "    x = self.layer1(x)\n",
        "    x = F.relu(x)\n",
        "    x = self.layer2(x)\n",
        "    out = F.log_softmax(x, dim=1)\n",
        "    return out"
      ]
    },
    {
      "cell_type": "code",
      "execution_count": 78,
      "metadata": {
        "colab": {
          "base_uri": "https://localhost:8080/"
        },
        "id": "CW_NlvdnuRJZ",
        "outputId": "b38bec6d-e242-436d-d1a3-db6e3e378a78"
      },
      "outputs": [
        {
          "output_type": "stream",
          "name": "stdout",
          "text": [
            "Requirement already satisfied: torchsummary in /usr/local/lib/python3.7/dist-packages (1.5.1)\n"
          ]
        }
      ],
      "source": [
        "!pip install torchsummary"
      ]
    },
    {
      "cell_type": "code",
      "execution_count": 132,
      "metadata": {
        "colab": {
          "base_uri": "https://localhost:8080/"
        },
        "id": "uaLMNMzt1TAK",
        "outputId": "16888d1d-c826-4a3b-cf9e-2ced1f7d3e5c"
      },
      "outputs": [
        {
          "output_type": "stream",
          "name": "stdout",
          "text": [
            "ShallowMLP(\n",
            "  (layer1): Linear(in_features=784, out_features=1024, bias=True)\n",
            "  (layer2): Linear(in_features=1024, out_features=10, bias=True)\n",
            ")\n",
            "----------------------------------------------------------------\n",
            "        Layer (type)               Output Shape         Param #\n",
            "================================================================\n",
            "            Linear-1              [-1, 1, 1024]         803,840\n",
            "            Linear-2                [-1, 1, 10]          10,250\n",
            "================================================================\n",
            "Total params: 814,090\n",
            "Trainable params: 814,090\n",
            "Non-trainable params: 0\n",
            "----------------------------------------------------------------\n",
            "Input size (MB): 0.00\n",
            "Forward/backward pass size (MB): 0.01\n",
            "Params size (MB): 3.11\n",
            "Estimated Total Size (MB): 3.12\n",
            "----------------------------------------------------------------\n"
          ]
        }
      ],
      "source": [
        "# printout del modello\n",
        "\n",
        "model = ShallowMLP()\n",
        "print(model)\n",
        "\n",
        "from torchsummary import summary\n",
        "if torch.cuda.is_available():\n",
        "  summary(model.cuda(), input_size=(1,784))\n",
        "else:\n",
        "  summary(model, input_size=(1,784))"
      ]
    },
    {
      "cell_type": "code",
      "source": [
        "# testiamo un batch sul modello non addestrato per vedere che le cose funzionino\n",
        "\n",
        "feat, label = next(iter(train_dl))\n",
        "\n",
        "feat=feat.to(device)\n",
        "label=label.to(device)\n",
        "\n",
        "out = model(feat.view(batch,-1))\n",
        "\n",
        "print(out.shape)\n",
        "print(out[0])"
      ],
      "metadata": {
        "colab": {
          "base_uri": "https://localhost:8080/"
        },
        "id": "xh7qF-So6Vcd",
        "outputId": "c9a87b55-ce3f-4123-d307-b9dfc2bcac18"
      },
      "execution_count": 133,
      "outputs": [
        {
          "output_type": "stream",
          "name": "stdout",
          "text": [
            "torch.Size([100, 10])\n",
            "tensor([-2.3289, -2.3235, -2.2492, -2.3187, -2.2852, -2.2900, -2.3694, -2.2839,\n",
            "        -2.2714, -2.3108], device='cuda:0', grad_fn=<SelectBackward0>)\n"
          ]
        }
      ]
    },
    {
      "cell_type": "code",
      "execution_count": 134,
      "metadata": {
        "id": "asMI2TET1_wS"
      },
      "outputs": [],
      "source": [
        "# Per completare il modello dobbiamo definire la loss function, le eventuali metriche per monitorare il \n",
        "# training della rete, e infine l'ottimizzatore\n",
        "\n",
        "# loss function \n",
        "loss_func = nn.CrossEntropyLoss() #cross entropy loss (loss molto usata per classificazione multi classe)\n",
        "\n",
        "# metric accuracy (in questo caso dobbiamo scrivercela da noi perché non è disponibile builtin in pytorch)\n",
        "def accuracy(yhat, y):\n",
        "    preds = torch.max(yhat,1)[1] #predizioni == neuroni con la massima probabilità\n",
        "    batch_acc = (preds == y).sum()\n",
        "    return batch_acc\n",
        "\n",
        "metric_func = accuracy\n",
        "\n",
        "# ottmizzatore: usiamo per esempio la discesa stocastica lungo il gradiente con momentum\n",
        "from torch import optim\n",
        "opt = optim.SGD(model.parameters(), lr=0.001, momentum=0.9)"
      ]
    },
    {
      "cell_type": "code",
      "execution_count": 135,
      "metadata": {
        "colab": {
          "base_uri": "https://localhost:8080/"
        },
        "id": "qKuuD7vzrdff",
        "outputId": "4befb946-0e74-4a12-98e2-02a9ac2f83f9"
      },
      "outputs": [
        {
          "output_type": "stream",
          "name": "stdout",
          "text": [
            "cuda:0\n"
          ]
        }
      ],
      "source": [
        "# vogliamo usare la GPU quindi spostiamo il modello sulla GPU\n",
        "model.to(device)\n",
        "print(next(model.parameters()).device)"
      ]
    },
    {
      "cell_type": "code",
      "execution_count": 136,
      "metadata": {
        "colab": {
          "base_uri": "https://localhost:8080/"
        },
        "id": "ULR6JSud2M0e",
        "outputId": "bf336e25-2492-4425-f90e-b11079d8f7a9"
      },
      "outputs": [
        {
          "output_type": "stream",
          "name": "stdout",
          "text": [
            "epoch: 1, time(s): 11.9750, train loss: 1.505748, train metric: 0.709720, vali loss: 0.842934, vali metric: 0.838800\n",
            "epoch: 2, time(s): 14.1163, train loss: 0.660877, train metric: 0.853840, vali loss: 0.519336, vali metric: 0.878500\n",
            "epoch: 3, time(s): 12.9441, train loss: 0.487312, train metric: 0.876300, vali loss: 0.419925, vali metric: 0.894900\n",
            "epoch: 4, time(s): 15.2500, train loss: 0.421016, train metric: 0.887080, vali loss: 0.370716, vali metric: 0.903500\n",
            "epoch: 5, time(s): 13.7269, train loss: 0.384812, train metric: 0.894220, vali loss: 0.341680, vali metric: 0.908300\n",
            "epoch: 6, time(s): 16.0438, train loss: 0.361041, train metric: 0.899360, vali loss: 0.321537, vali metric: 0.910600\n",
            "epoch: 7, time(s): 10.9533, train loss: 0.343431, train metric: 0.903760, vali loss: 0.306171, vali metric: 0.913800\n",
            "epoch: 8, time(s): 12.0028, train loss: 0.329320, train metric: 0.907340, vali loss: 0.294486, vali metric: 0.917800\n",
            "epoch: 9, time(s): 10.8905, train loss: 0.317554, train metric: 0.910860, vali loss: 0.284098, vali metric: 0.919400\n",
            "epoch: 10, time(s): 14.8613, train loss: 0.307209, train metric: 0.913060, vali loss: 0.275851, vali metric: 0.923600\n",
            "epoch: 11, time(s): 11.9035, train loss: 0.297991, train metric: 0.915960, vali loss: 0.266550, vali metric: 0.925600\n",
            "epoch: 12, time(s): 11.3142, train loss: 0.289571, train metric: 0.918680, vali loss: 0.260437, vali metric: 0.927800\n",
            "epoch: 13, time(s): 11.4893, train loss: 0.281917, train metric: 0.920260, vali loss: 0.253174, vali metric: 0.929200\n",
            "epoch: 14, time(s): 11.4814, train loss: 0.274477, train metric: 0.922540, vali loss: 0.247625, vali metric: 0.930900\n",
            "epoch: 15, time(s): 11.1009, train loss: 0.267671, train metric: 0.924700, vali loss: 0.240972, vali metric: 0.932400\n",
            "epoch: 16, time(s): 11.4723, train loss: 0.261125, train metric: 0.927060, vali loss: 0.236132, vali metric: 0.934500\n",
            "epoch: 17, time(s): 11.1583, train loss: 0.254982, train metric: 0.928600, vali loss: 0.230690, vali metric: 0.935200\n",
            "epoch: 18, time(s): 14.7527, train loss: 0.249198, train metric: 0.930120, vali loss: 0.225921, vali metric: 0.936700\n",
            "epoch: 19, time(s): 13.6818, train loss: 0.243400, train metric: 0.931760, vali loss: 0.221310, vali metric: 0.939400\n",
            "epoch: 20, time(s): 13.3719, train loss: 0.238260, train metric: 0.933800, vali loss: 0.216841, vali metric: 0.939400\n",
            "epoch: 21, time(s): 14.6216, train loss: 0.232801, train metric: 0.935520, vali loss: 0.212696, vali metric: 0.940800\n",
            "epoch: 22, time(s): 13.1329, train loss: 0.227953, train metric: 0.936580, vali loss: 0.208988, vali metric: 0.941200\n",
            "epoch: 23, time(s): 14.6095, train loss: 0.223151, train metric: 0.938240, vali loss: 0.204906, vali metric: 0.942400\n",
            "epoch: 24, time(s): 13.2892, train loss: 0.218567, train metric: 0.939380, vali loss: 0.201207, vali metric: 0.943300\n",
            "epoch: 25, time(s): 14.8882, train loss: 0.214227, train metric: 0.941140, vali loss: 0.197249, vali metric: 0.944600\n",
            "epoch: 26, time(s): 13.2443, train loss: 0.209950, train metric: 0.941680, vali loss: 0.193903, vali metric: 0.945200\n",
            "epoch: 27, time(s): 14.7319, train loss: 0.205821, train metric: 0.942780, vali loss: 0.190831, vali metric: 0.947900\n",
            "epoch: 28, time(s): 14.0198, train loss: 0.201763, train metric: 0.944140, vali loss: 0.187231, vali metric: 0.948400\n",
            "epoch: 29, time(s): 11.4572, train loss: 0.197978, train metric: 0.945060, vali loss: 0.184214, vali metric: 0.949000\n",
            "epoch: 30, time(s): 12.4653, train loss: 0.194246, train metric: 0.946140, vali loss: 0.181200, vali metric: 0.950100\n",
            "epoch: 31, time(s): 12.8179, train loss: 0.190653, train metric: 0.946720, vali loss: 0.178559, vali metric: 0.950600\n",
            "epoch: 32, time(s): 14.2005, train loss: 0.187165, train metric: 0.947780, vali loss: 0.175560, vali metric: 0.951200\n",
            "epoch: 33, time(s): 12.1787, train loss: 0.183799, train metric: 0.948720, vali loss: 0.173186, vali metric: 0.952200\n",
            "epoch: 34, time(s): 13.6650, train loss: 0.180497, train metric: 0.949580, vali loss: 0.170446, vali metric: 0.952600\n",
            "epoch: 35, time(s): 11.4394, train loss: 0.177405, train metric: 0.950220, vali loss: 0.167759, vali metric: 0.952500\n",
            "epoch: 36, time(s): 11.1107, train loss: 0.174387, train metric: 0.951360, vali loss: 0.165115, vali metric: 0.954000\n",
            "epoch: 37, time(s): 10.9413, train loss: 0.171280, train metric: 0.952140, vali loss: 0.163103, vali metric: 0.954200\n",
            "epoch: 38, time(s): 11.0143, train loss: 0.168339, train metric: 0.952640, vali loss: 0.160705, vali metric: 0.955500\n",
            "epoch: 39, time(s): 11.0647, train loss: 0.165566, train metric: 0.953300, vali loss: 0.159076, vali metric: 0.955300\n",
            "epoch: 40, time(s): 10.8595, train loss: 0.162866, train metric: 0.954560, vali loss: 0.156338, vali metric: 0.955700\n",
            "epoch: 41, time(s): 11.3788, train loss: 0.160180, train metric: 0.955200, vali loss: 0.154087, vali metric: 0.957500\n",
            "epoch: 42, time(s): 11.0098, train loss: 0.157607, train metric: 0.955880, vali loss: 0.152219, vali metric: 0.957900\n",
            "epoch: 43, time(s): 10.9496, train loss: 0.155109, train metric: 0.956500, vali loss: 0.150387, vali metric: 0.958200\n",
            "epoch: 44, time(s): 10.9201, train loss: 0.152671, train metric: 0.957380, vali loss: 0.148373, vali metric: 0.958600\n",
            "epoch: 45, time(s): 11.0245, train loss: 0.150285, train metric: 0.957680, vali loss: 0.146402, vali metric: 0.959200\n",
            "epoch: 46, time(s): 11.0303, train loss: 0.147925, train metric: 0.958700, vali loss: 0.145010, vali metric: 0.960500\n",
            "epoch: 47, time(s): 10.9863, train loss: 0.145832, train metric: 0.959760, vali loss: 0.142997, vali metric: 0.960400\n",
            "epoch: 48, time(s): 11.8024, train loss: 0.143611, train metric: 0.960420, vali loss: 0.141366, vali metric: 0.961400\n",
            "epoch: 49, time(s): 10.8710, train loss: 0.141429, train metric: 0.960480, vali loss: 0.140214, vali metric: 0.961100\n",
            "epoch: 50, time(s): 10.9982, train loss: 0.139467, train metric: 0.961340, vali loss: 0.138238, vali metric: 0.961500\n",
            "epoch: 51, time(s): 10.9615, train loss: 0.137405, train metric: 0.962100, vali loss: 0.136466, vali metric: 0.962700\n",
            "epoch: 52, time(s): 10.9704, train loss: 0.135428, train metric: 0.962580, vali loss: 0.134798, vali metric: 0.962800\n",
            "epoch: 53, time(s): 10.9065, train loss: 0.133439, train metric: 0.963380, vali loss: 0.134055, vali metric: 0.963900\n",
            "epoch: 54, time(s): 11.1018, train loss: 0.131572, train metric: 0.963820, vali loss: 0.131945, vali metric: 0.963700\n",
            "epoch: 55, time(s): 11.0133, train loss: 0.129772, train metric: 0.964360, vali loss: 0.130644, vali metric: 0.963900\n",
            "epoch: 56, time(s): 10.9176, train loss: 0.128143, train metric: 0.964900, vali loss: 0.129399, vali metric: 0.965300\n",
            "epoch: 57, time(s): 11.0395, train loss: 0.126312, train metric: 0.965480, vali loss: 0.128183, vali metric: 0.964900\n",
            "epoch: 58, time(s): 11.0709, train loss: 0.124618, train metric: 0.966260, vali loss: 0.126913, vali metric: 0.964900\n",
            "epoch: 59, time(s): 10.9835, train loss: 0.122950, train metric: 0.966740, vali loss: 0.125302, vali metric: 0.965600\n",
            "epoch: 60, time(s): 10.9119, train loss: 0.121349, train metric: 0.966900, vali loss: 0.124060, vali metric: 0.966100\n",
            "epoch: 61, time(s): 10.9467, train loss: 0.119699, train metric: 0.967440, vali loss: 0.122985, vali metric: 0.966000\n",
            "epoch: 62, time(s): 11.7682, train loss: 0.118220, train metric: 0.968140, vali loss: 0.121758, vali metric: 0.966600\n",
            "epoch: 63, time(s): 11.2214, train loss: 0.116759, train metric: 0.968240, vali loss: 0.120847, vali metric: 0.967100\n",
            "epoch: 64, time(s): 11.0085, train loss: 0.115172, train metric: 0.969060, vali loss: 0.119625, vali metric: 0.966600\n",
            "epoch: 65, time(s): 11.0304, train loss: 0.113724, train metric: 0.968880, vali loss: 0.118588, vali metric: 0.967500\n",
            "epoch: 66, time(s): 11.1330, train loss: 0.112356, train metric: 0.969620, vali loss: 0.117277, vali metric: 0.966900\n",
            "epoch: 67, time(s): 10.9087, train loss: 0.111048, train metric: 0.970260, vali loss: 0.116340, vali metric: 0.968200\n",
            "epoch: 68, time(s): 10.9480, train loss: 0.109573, train metric: 0.970680, vali loss: 0.115509, vali metric: 0.968400\n",
            "epoch: 69, time(s): 11.0051, train loss: 0.108343, train metric: 0.970800, vali loss: 0.114351, vali metric: 0.968200\n",
            "epoch: 70, time(s): 10.8415, train loss: 0.107030, train metric: 0.971340, vali loss: 0.113603, vali metric: 0.968400\n",
            "epoch: 71, time(s): 10.9822, train loss: 0.105679, train metric: 0.971460, vali loss: 0.112746, vali metric: 0.969000\n",
            "epoch: 72, time(s): 10.8936, train loss: 0.104450, train metric: 0.971740, vali loss: 0.111970, vali metric: 0.968500\n",
            "epoch: 73, time(s): 10.9510, train loss: 0.103248, train metric: 0.972200, vali loss: 0.111000, vali metric: 0.969100\n",
            "epoch: 74, time(s): 11.0383, train loss: 0.102030, train metric: 0.972440, vali loss: 0.109848, vali metric: 0.969300\n",
            "epoch: 75, time(s): 10.8027, train loss: 0.100944, train metric: 0.972840, vali loss: 0.109097, vali metric: 0.969400\n",
            "epoch: 76, time(s): 10.9779, train loss: 0.099700, train metric: 0.973160, vali loss: 0.108164, vali metric: 0.969700\n",
            "epoch: 77, time(s): 11.0389, train loss: 0.098635, train metric: 0.973660, vali loss: 0.107352, vali metric: 0.969800\n",
            "epoch: 78, time(s): 10.9565, train loss: 0.097460, train metric: 0.974060, vali loss: 0.106510, vali metric: 0.970000\n",
            "epoch: 79, time(s): 11.0455, train loss: 0.096440, train metric: 0.973960, vali loss: 0.105625, vali metric: 0.969500\n",
            "epoch: 80, time(s): 10.9731, train loss: 0.095233, train metric: 0.974700, vali loss: 0.104776, vali metric: 0.970600\n",
            "epoch: 81, time(s): 10.8317, train loss: 0.094309, train metric: 0.974880, vali loss: 0.103919, vali metric: 0.970600\n",
            "epoch: 82, time(s): 10.8692, train loss: 0.093258, train metric: 0.974820, vali loss: 0.103390, vali metric: 0.970600\n",
            "epoch: 83, time(s): 10.7969, train loss: 0.092168, train metric: 0.975320, vali loss: 0.102675, vali metric: 0.971300\n",
            "epoch: 84, time(s): 10.9519, train loss: 0.091200, train metric: 0.975920, vali loss: 0.102079, vali metric: 0.971600\n",
            "epoch: 85, time(s): 11.0625, train loss: 0.090244, train metric: 0.975860, vali loss: 0.101195, vali metric: 0.971900\n",
            "epoch: 86, time(s): 10.9378, train loss: 0.089247, train metric: 0.976140, vali loss: 0.100594, vali metric: 0.971600\n",
            "epoch: 87, time(s): 10.9966, train loss: 0.088333, train metric: 0.976480, vali loss: 0.099674, vali metric: 0.972200\n",
            "epoch: 88, time(s): 11.0001, train loss: 0.087385, train metric: 0.976720, vali loss: 0.099443, vali metric: 0.972300\n",
            "epoch: 89, time(s): 11.0045, train loss: 0.086422, train metric: 0.977300, vali loss: 0.098480, vali metric: 0.972600\n",
            "epoch: 90, time(s): 10.9446, train loss: 0.085666, train metric: 0.977260, vali loss: 0.098076, vali metric: 0.972800\n",
            "epoch: 91, time(s): 11.0262, train loss: 0.084688, train metric: 0.977520, vali loss: 0.097394, vali metric: 0.972600\n",
            "epoch: 92, time(s): 11.0819, train loss: 0.083881, train metric: 0.977920, vali loss: 0.096615, vali metric: 0.973000\n",
            "epoch: 93, time(s): 11.0396, train loss: 0.082982, train metric: 0.977740, vali loss: 0.096568, vali metric: 0.972500\n",
            "epoch: 94, time(s): 10.8635, train loss: 0.082196, train metric: 0.978260, vali loss: 0.095828, vali metric: 0.972800\n",
            "epoch: 95, time(s): 10.9299, train loss: 0.081326, train metric: 0.978460, vali loss: 0.095029, vali metric: 0.973700\n",
            "epoch: 96, time(s): 11.0383, train loss: 0.080543, train metric: 0.978560, vali loss: 0.094641, vali metric: 0.973400\n",
            "epoch: 97, time(s): 10.9432, train loss: 0.079727, train metric: 0.979000, vali loss: 0.094049, vali metric: 0.973700\n",
            "epoch: 98, time(s): 10.9999, train loss: 0.078946, train metric: 0.979200, vali loss: 0.093559, vali metric: 0.973500\n",
            "epoch: 99, time(s): 10.9947, train loss: 0.078177, train metric: 0.979460, vali loss: 0.092827, vali metric: 0.974100\n",
            "epoch: 100, time(s): 10.9622, train loss: 0.077389, train metric: 0.979740, vali loss: 0.092471, vali metric: 0.974100\n"
          ]
        }
      ],
      "source": [
        "# in pytorch è necessario scriversi il loop di training, cioè il loop sulle epoch di training in cui in ogni \n",
        "# epoca si leggono tutti gli eventi del dataset aggiornando i pesi dopo ogni mini-batch\n",
        "\n",
        "import time\n",
        "\n",
        "# numero di epoche\n",
        "epochs = 100\n",
        "\n",
        "# liste su cui salvare il valore della loss e della metrica ad ogni epoca per poterli graficare in funzione \n",
        "# dell'epoca a fine addestramento\n",
        "hist_loss = []\n",
        "hist_metric = []\n",
        "hist_vloss = []\n",
        "hist_vmetric = []\n",
        "\n",
        "\n",
        "# loop sulle epoche\n",
        "for epoch in range(epochs):\n",
        "    t0 = time.time()\n",
        "    \n",
        "    # training step (in cui aggiorniamo i pesi della rete neurale)\n",
        "    model.train()\n",
        "    train_loss = 0\n",
        "    train_metric = 0\n",
        "    counter = 0\n",
        "    for xb, yb in train_dl:\n",
        "        counter += 1\n",
        "        xb=xb.to(device) #copio il mini batch di dati sulla CPU/GPU\n",
        "        yb=yb.to(device) #copio il mini batch di label sulla CPU/GPU\n",
        "\n",
        "        pred = model(xb.view(batch,-1)) #predizione del modello (si aspetta un vettore piatto di dimensione (batch,28*28))\n",
        "\n",
        "        # calcolo loss e metrica\n",
        "        loss = loss_func(pred, yb)\n",
        "        metric = metric_func(pred, yb)\n",
        "\n",
        "        # aggiorno la loss e metrica totale\n",
        "        train_loss += loss.item()\n",
        "        train_metric += metric.item()\n",
        "\n",
        "        # backpropagation\n",
        "        opt.zero_grad() #resetta i gradienti prima di eseguire la backpropagation\n",
        "        loss.backward() #calcola i gradeinti della loss\n",
        "        opt.step() #aggiorna i pesi\n",
        "\n",
        "\n",
        "    train_loss /= counter\n",
        "    train_metric /= (counter*batch)\n",
        "    hist_loss.append(train_loss)\n",
        "    hist_metric.append(train_metric)\n",
        "\n",
        "    # validation step (non vengono aggiornati i pesi)\n",
        "    model.eval()\n",
        "    vali_loss = 0\n",
        "    vali_metric = 0\n",
        "    counter = 0\n",
        "    with torch.no_grad(): #evita che si aggiornino i pesi\n",
        "      for xb, yb in vali_dl:\n",
        "        counter += 1\n",
        "        xb=xb.to(device)\n",
        "        yb=yb.to(device)\n",
        "\n",
        "        pred = model(xb.view(batch,-1)) #predizione del modello (si aspetta un vettore piatto di dimensione (batch,28*28))\n",
        "\n",
        "        # calcolo loss e metrica\n",
        "        vloss = loss_func(pred, yb)\n",
        "        vmetric = metric_func(pred, yb)\n",
        "        vali_loss += vloss.item()\n",
        "        vali_metric += vmetric.item()  \n",
        "\n",
        "    vali_loss /= counter\n",
        "    vali_metric /= (counter*batch)\n",
        "    hist_vloss.append(vali_loss)\n",
        "    hist_vmetric.append(vali_metric)\n",
        "\n",
        "    elapsed_time = time.time()-t0\n",
        "    print(\"epoch: %d, time(s): %.4f, train loss: %.6f, train metric: %.6f, vali loss: %.6f, vali metric: %.6f\" \n",
        "          % (epoch+1, elapsed_time, train_loss, train_metric, vali_loss, vali_metric))"
      ]
    },
    {
      "cell_type": "code",
      "execution_count": 137,
      "metadata": {
        "id": "pURp_75lZZmu",
        "colab": {
          "base_uri": "https://localhost:8080/",
          "height": 442
        },
        "outputId": "e55e70cf-8f9e-4593-8bef-3615a4d507fc"
      },
      "outputs": [
        {
          "output_type": "display_data",
          "data": {
            "text/plain": [
              "<Figure size 720x504 with 1 Axes>"
            ],
            "image/png": "[encoded data removed]"
          },
          "metadata": {
            "needs_background": "light"
          }
        }
      ],
      "source": [
        "# grafico loss vs epoca\n",
        "plt.figure(figsize=(10, 7))\n",
        "plt.plot(range(1,len(hist_loss)+1), hist_loss, color='green', linestyle='-', label='train loss')\n",
        "plt.plot(range(1,len(hist_vloss)+1), hist_vloss, color='blue', linestyle='-', label='validation loss')\n",
        "plt.xlabel('Epochs')\n",
        "plt.ylabel('Loss')\n",
        "plt.legend()\n",
        "plt.show()"
      ]
    },
    {
      "cell_type": "code",
      "execution_count": 138,
      "metadata": {
        "id": "FZyfz3ZsX5Br",
        "colab": {
          "base_uri": "https://localhost:8080/",
          "height": 442
        },
        "outputId": "4fcc468f-6225-4b07-c731-187ff286ccb4"
      },
      "outputs": [
        {
          "output_type": "display_data",
          "data": {
            "text/plain": [
              "<Figure size 720x504 with 1 Axes>"
            ],
            "image/png": "[encoded data removed]"
          },
          "metadata": {
            "needs_background": "light"
          }
        }
      ],
      "source": [
        "# grafico accuracy vs epoca\n",
        "plt.figure(figsize=(10, 7))\n",
        "plt.plot(range(1,len(hist_metric)+1),hist_metric, color='green', linestyle='-', label='train metric')\n",
        "plt.plot(range(1,len(hist_vmetric)+1),hist_vmetric, color='blue', linestyle='-', label='validation metric')\n",
        "plt.xlabel('Epochs')\n",
        "plt.ylabel('Metric')\n",
        "plt.legend()\n",
        "plt.show()"
      ]
    },
    {
      "cell_type": "code",
      "source": [
        "# Salvataggio del modello\n",
        "\n",
        "torch.save(model, './trained_model.pt')"
      ],
      "metadata": {
        "id": "sLlsmvN0HebG"
      },
      "execution_count": 140,
      "outputs": []
    },
    {
      "cell_type": "code",
      "execution_count": 144,
      "metadata": {
        "id": "Mw_C3GGq2QHa",
        "colab": {
          "base_uri": "https://localhost:8080/"
        },
        "outputId": "5c2fa7a5-5c66-4b33-e9c1-c1f9839efba4"
      },
      "outputs": [
        {
          "output_type": "stream",
          "name": "stdout",
          "text": [
            "Test loss/accuracy:  0.09596400145441293  /  0.9712\n"
          ]
        }
      ],
      "source": [
        "# Uso di un modello addestrato in inferenza (predizione) \n",
        "\n",
        "# lettura del modello\n",
        "\n",
        "model = torch.load('./trained_model.pt')\n",
        "model.eval() #va sempre fatto per settare eventuali layer di droput e batch norm in evaluation model\n",
        "\n",
        "# Non è strettamento necessario girare sulla GPU per l'inferenza (non richiede grande potenza di calcolo)\n",
        "model.to(torch.device('cpu'))\n",
        "\n",
        "loss = 0\n",
        "metric = 0\n",
        "counter = 0\n",
        "\n",
        "for xb, yb in test_dl:\n",
        "  counter += 1\n",
        "  xb=xb.to('cpu')\n",
        "  yb=yb.to('cpu')\n",
        "  pred = model(xb.view(batch,-1))\n",
        "\n",
        "  loss += loss_func(pred, yb).item()\n",
        "  metric += accuracy(pred, yb).item()\n",
        "\n",
        "\n",
        "loss /= counter\n",
        "metric /= (counter*batch)\n",
        "\n",
        "print('Test loss/accuracy: ',loss, ' / ', metric)"
      ]
    },
    {
      "cell_type": "markdown",
      "source": [
        "### Compiti:\n",
        "\n",
        "\n",
        "*   giocate con il codice e i parametri per capire come funziona il tutto, diminuite il numero di neuroni del layer hidden, come decadono le prestazioni della rete in termini di accuracy?\n",
        "*   provare a cambiare l'attivazione del layer hidden della rete da ReLU a F.tanh o F.sigmoid\n",
        "*   provare ad aggiungere un secondo layer hidden alla rete con 512 neuoroni, come cambiano le prestazioni?\n",
        "*   provare a giocare con la batch size, cosa succede se si usa una bacth size per cui il numero di eventi nei dataset non è divisibile? Come si può risolvere il problema? \n",
        "*   provare ad eliminare il momentum dall'ottmizzatore SGD e provare diversi valori del learning rate da 0.1 a 0.0001 cosa cambia?\n",
        "*   provare a cambiare la funzione di ottimizzazione, usando *torch.optim.Adam* con parametri di default, cosa cambia?\n",
        "\n"
      ],
      "metadata": {
        "id": "wcbI1892EPFs"
      }
    }
  ],
  "metadata": {
    "colab": {
      "name": "MetodiAI_Fis2022_Es7.ipynb",
      "provenance": [],
      "collapsed_sections": [],
      "include_colab_link": true
    },
    "kernelspec": {
      "display_name": "default:Python",
      "language": "python",
      "name": "conda-env-default-py"
    },
    "language_info": {
      "codemirror_mode": {
        "name": "ipython",
        "version": 3
      },
      "file_extension": ".py",
      "mimetype": "text/x-python",
      "name": "python",
      "nbconvert_exporter": "python",
      "pygments_lexer": "ipython3",
      "version": "3.9.7"
    },
    "accelerator": "GPU"
  },
  "nbformat": 4,
  "nbformat_minor": 0
}