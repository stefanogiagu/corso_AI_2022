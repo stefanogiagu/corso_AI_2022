{
  "nbformat": 4,
  "nbformat_minor": 0,
  "metadata": {
    "colab": {
      "name": "MetodiAI_Fis2022_Es1.ipynb",
      "provenance": [],
      "collapsed_sections": [],
      "include_colab_link": true
    },
    "kernelspec": {
      "name": "python3",
      "display_name": "Python 3"
    }
  },
  "cells": [
    {
      "cell_type": "markdown",
      "metadata": {
        "id": "view-in-github",
        "colab_type": "text"
      },
      "source": [
        "<a href=\"https://colab.research.google.com/github/stefanogiagu/corso_AI_2022/blob/main/notebooks/es1/MetodiAI_Fis2022_Es1.ipynb\" target=\"_parent\"><img src=\"https://colab.research.google.com/assets/colab-badge.svg\" alt=\"Open In Colab\"/></a>"
      ]
    },
    {
      "cell_type": "markdown",
      "metadata": {
        "id": "spfGccoIID_A"
      },
      "source": [
        "# Esercitazione 1: python e uso librerie numpy, matplotlib\n",
        "\n",
        "**Task:**\n",
        "\n",
        "1.   implementazione di semplici algoritmi che operano su vettori e matrici senza e con l'utilizzo di numpy\n",
        "2.   implementazione di un algoritmo di regressione lineare \n",
        "3.   graficare una funzione 2D con matplotlib e le sue curve di livello"
      ]
    },
    {
      "cell_type": "markdown",
      "metadata": {
        "id": "eVODHA43KmPZ"
      },
      "source": [
        "**Esercizio 1:**\n",
        "\n",
        "date i seguenti oggetti, rappresentarli prima in python puro e poi utilizzando la libreria numpy:\n",
        "\n",
        "*   scalare: $s = 12.3$   \n",
        "*   vettore: $v = \\left[ 3.0, -2.0, 5.5 \\right]$\n",
        "*   matrice: $M = \\left[ \n",
        "\\begin{array}{ccc}\n",
        "  5.0 & 0.8 & -0.2 \\\\ \n",
        "-0.8 & 3.0 & -0.8 \\\\ \n",
        "0.2 & 0.8 & 1.0 \n",
        "\\end{array} \n",
        "\\right]\n",
        "$\n"
      ]
    },
    {
      "cell_type": "code",
      "metadata": {
        "id": "ry3dHetBH4g8"
      },
      "source": [
        "#codice"
      ],
      "execution_count": null,
      "outputs": []
    },
    {
      "cell_type": "code",
      "metadata": {
        "id": "T1kNUJhZpcXJ",
        "colab": {
          "base_uri": "https://localhost:8080/"
        },
        "cellView": "form",
        "outputId": "f012880d-8592-463e-aed2-4b999db3c5db"
      },
      "source": [
        "#@title Soluzione 1\n",
        "#\n",
        "\n",
        "# con python float e liste\n",
        "s = 12.3\n",
        "v = [3.0,-2.0,5.5]\n",
        "M = [ \n",
        "     [ 5.0, 0.8, -0.2],\n",
        "     [-0.8, 3.0, -0.8],\n",
        "     [ 0.2, 0.8,  1.0]\n",
        "]\n",
        "\n",
        "print(s)\n",
        "print(v)\n",
        "print(M)\n",
        "# con numpy\n",
        "import numpy as np\n",
        "\n",
        "s = 12.3\n",
        "v = np.array([3.0,-2.0,5.5])\n",
        "M = np.array([5.0, 0.8, -0.2, -0.8, 3.0, -0.8, 0.2, 0.8,  1.0])\n",
        "M = np.reshape(M, (3,3))\n",
        "\n",
        "print(s)\n",
        "print(v)\n",
        "print(M)"
      ],
      "execution_count": null,
      "outputs": [
        {
          "output_type": "stream",
          "name": "stdout",
          "text": [
            "12.3\n",
            "[3.0, -2.0, 5.5]\n",
            "[[5.0, 0.8, -0.2], [-0.8, 3.0, -0.8], [0.2, 0.8, 1.0]]\n",
            "12.3\n",
            "[ 3.  -2.   5.5]\n",
            "[[ 5.   0.8 -0.2]\n",
            " [-0.8  3.  -0.8]\n",
            " [ 0.2  0.8  1. ]]\n"
          ]
        }
      ]
    },
    {
      "cell_type": "markdown",
      "metadata": {
        "id": "urbTuPskhAgy"
      },
      "source": [
        "**Esercizio 2:**\n",
        "\n",
        "usando prima python puro e poi utilizzando la libreria numpy calcolare:\n",
        "\n",
        "1.   $y = v+v$\n",
        "2.   $y = sv$\n",
        "2.   $y = v\\cdot v$\n",
        "3.   $y = Mv$\n",
        "4.   $Y = M^2$\n",
        "\n",
        "\n",
        "NOTA:\n",
        "$$\n",
        "\\begin{array}{cccc}\n",
        "\\huge[ \n",
        "M\n",
        "]  \n",
        "&\\times &\n",
        "\\huge[ \n",
        "v\n",
        "]\n",
        "&=& \n",
        "\\huge[ \n",
        "y\n",
        "]\n",
        "\\\\\n",
        "m \\times n && n \\times 1 &=&  m \\times 1\n",
        "\\end{array}\n",
        "$$\n",
        "\n",
        "<p>\n",
        "<p>\n",
        "<p>\n",
        "\n",
        "\n",
        "$$\n",
        "\\begin{array}{cccc}\n",
        "\\huge[ \n",
        "M\n",
        "]  \n",
        "&\\times &\n",
        "\\huge[ \n",
        "N\n",
        "]\n",
        "&=& \n",
        "\\huge[ \n",
        "Y\n",
        "]\n",
        "\\\\\n",
        "m \\times n && n \\times p &=&  m \\times p\n",
        "\\end{array}\n",
        "$$\n",
        "\n",
        "\n"
      ]
    },
    {
      "cell_type": "code",
      "metadata": {
        "id": "VN9uCwZIiyzP"
      },
      "source": [
        "#codice"
      ],
      "execution_count": null,
      "outputs": []
    },
    {
      "cell_type": "code",
      "metadata": {
        "colab": {
          "base_uri": "https://localhost:8080/"
        },
        "id": "NuoQRqGhq9R1",
        "cellView": "form",
        "outputId": "1cc57d98-62e1-4fd2-d756-8dbfb4ee3238"
      },
      "source": [
        "#@title Soluzione 2A\n",
        "# con python float e liste\n",
        "s = 12.3\n",
        "v = [3.0,-2.0,5.5]\n",
        "M = [ \n",
        "     [ 5.0, 0.8, -0.2],\n",
        "     [-0.8, 3.0, -0.8],\n",
        "     [ 0.2, 0.8,  1.0]\n",
        "]\n",
        "\n",
        "# modo raw\n",
        "y1 = []\n",
        "y2 = []\n",
        "y3 = 0\n",
        "for i in range(len(v)):\n",
        "  y1.append(v[i]+v[i])\n",
        "  y2.append(s*v[i])\n",
        "  y3 += (v[i]*v[i])\n",
        "\n",
        "y4 = []\n",
        "for i in range(len(M)):\n",
        "  tmp = 0.0\n",
        "  for j in range(len(v)):\n",
        "    tmp += (M[i][j]*v[j])\n",
        "  y4.append(tmp)\n",
        "\n",
        "\n",
        "y5 = [ [0, 0, 0], \n",
        "       [0, 0, 0],\n",
        "       [0, 0, 0]\n",
        "]\n",
        "for i in range(len(M)):\n",
        "  for j in range(len(M[0])):\n",
        "     for k in range(len(M)):\n",
        "           y5[i][j] += M[i][k] * M[k][j]\n",
        "\n",
        "print(y1)\n",
        "print(y2)\n",
        "print(y3)\n",
        "print(y4)\n",
        "print(y5)\n",
        "\n",
        "# modo smart\n",
        "y1 = [a*a for a in v]\n",
        "print(y1)\n",
        "\n",
        "y2 = [s*a for a in v]\n",
        "print(y2)\n",
        "\n",
        "y3 = sum(a*b for a,b in zip(v,v))\n",
        "print(y3)\n",
        "\n",
        "y4 = [sum(a*b for a,b in zip(M_raw,v)) for M_raw in M]\n",
        "print(y4)\n",
        "\n",
        "y5 = [[sum(a*b for a,b in zip(M_row,M_col)) for M_col in zip(*M)] for M_row in M]\n",
        "print(y5)\n",
        "\n",
        "print('')\n",
        "#NOTA: *lista --> unpack la lista\n",
        "#NOTA: zip(): unisce le due liste insieme\n",
        "print(*M)\n",
        "A = zip(M,M)\n",
        "print(tuple(A))"
      ],
      "execution_count": null,
      "outputs": [
        {
          "output_type": "stream",
          "name": "stdout",
          "text": [
            "[6.0, -4.0, 11.0]\n",
            "[36.900000000000006, -24.6, 67.65]\n",
            "43.25\n",
            "[12.3, -12.8, 4.5]\n",
            "[[24.32, 6.24, -1.84], [-6.5600000000000005, 7.719999999999999, -3.04], [0.5599999999999998, 3.3600000000000003, 0.31999999999999984]]\n",
            "[9.0, 4.0, 30.25]\n",
            "[36.900000000000006, -24.6, 67.65]\n",
            "43.25\n",
            "[12.3, -12.8, 4.5]\n",
            "[[24.32, 6.24, -1.84], [-6.5600000000000005, 7.719999999999999, -3.04], [0.5599999999999998, 3.3600000000000003, 0.31999999999999984]]\n",
            "\n",
            "[5.0, 0.8, -0.2] [-0.8, 3.0, -0.8] [0.2, 0.8, 1.0]\n",
            "(([5.0, 0.8, -0.2], [5.0, 0.8, -0.2]), ([-0.8, 3.0, -0.8], [-0.8, 3.0, -0.8]), ([0.2, 0.8, 1.0], [0.2, 0.8, 1.0]))\n"
          ]
        }
      ]
    },
    {
      "cell_type": "code",
      "metadata": {
        "colab": {
          "base_uri": "https://localhost:8080/"
        },
        "id": "GnqtCcSyuFWq",
        "cellView": "form",
        "outputId": "ca6743a1-28f9-49c7-fbb5-170f2e4fcfe7"
      },
      "source": [
        "#@title Soluzione 2B\n",
        "#con numpy\n",
        "\n",
        "# con numpy\n",
        "import numpy as np\n",
        "\n",
        "s = 12.3\n",
        "v = np.array([3.0,-2.0,5.5])\n",
        "M = np.array([5.0, 0.8, -0.2, -0.8, 3.0, -0.8, 0.2, 0.8,  1.0])\n",
        "M = np.reshape(M, (3,3))\n",
        "\n",
        "y1 = v+v\n",
        "y2 = s*v\n",
        "y3 = np.dot(v,v)\n",
        "y4 = np.dot(M,v)\n",
        "y5 = np.dot(M,M)\n",
        "print(y1)\n",
        "print(y2)\n",
        "print(y3)\n",
        "print(y4)\n",
        "print(y5)"
      ],
      "execution_count": null,
      "outputs": [
        {
          "output_type": "stream",
          "name": "stdout",
          "text": [
            "[ 6. -4. 11.]\n",
            "[ 36.9  -24.6   67.65]\n",
            "43.25\n",
            "[ 12.3 -12.8   4.5]\n",
            "[[24.32  6.24 -1.84]\n",
            " [-6.56  7.72 -3.04]\n",
            " [ 0.56  3.36  0.32]]\n"
          ]
        }
      ]
    },
    {
      "cell_type": "markdown",
      "metadata": {
        "id": "QZGXlKJfjHt1"
      },
      "source": [
        "**Esercizio 3:**\n",
        "\n",
        "costruire la matrice unità ${\\bf 1}$ e verificare che $M\\times{\\bf 1} = M$\n",
        "\n",
        "usando la funzione `np.linalg.inv(...)` calcolare $M^{-1}$ e dimostrare che $MM^{-1} = M^{-1}M = {\\bf 1}$"
      ]
    },
    {
      "cell_type": "code",
      "metadata": {
        "id": "Nbk1J_yYlDkw"
      },
      "source": [
        "#codice"
      ],
      "execution_count": null,
      "outputs": []
    },
    {
      "cell_type": "code",
      "metadata": {
        "colab": {
          "base_uri": "https://localhost:8080/"
        },
        "id": "vXKRNC6p8RgL",
        "cellView": "form",
        "outputId": "81d052e7-cdb1-46c5-dc4b-de5df6476c95"
      },
      "source": [
        "#@title Soluzione 3\n",
        "import numpy as np\n",
        "\n",
        "unim = np.diag(np.ones(3))\n",
        "print(unim)\n",
        "\n",
        "c0 = np.dot(unim, M)\n",
        "\n",
        "compare = c0==M\n",
        "if compare.all():\n",
        "  print('verificato')\n",
        "\n",
        "invM = np.linalg.inv(M)\n",
        "print(invM)\n",
        "\n",
        "c1 = np.dot(M, invM)\n",
        "c2 = np.dot(invM, M)\n",
        "\n",
        "c1[c1<1e-8] = 0\n",
        "c2[c2<1e-8] = 0\n",
        "compare1 = c1==unim\n",
        "compare2 = c2==unim\n",
        "print(c1)\n",
        "print(c2)\n",
        "if compare1.all() and compare2.all():\n",
        "  print('verificato')"
      ],
      "execution_count": null,
      "outputs": [
        {
          "output_type": "stream",
          "name": "stdout",
          "text": [
            "[[1. 0. 0.]\n",
            " [0. 1. 0.]\n",
            " [0. 0. 1.]]\n",
            "verificato\n",
            "[[ 0.19198312 -0.05063291 -0.0021097 ]\n",
            " [ 0.03375527  0.26582278  0.21940928]\n",
            " [-0.06540084 -0.20253165  0.82489451]]\n",
            "[[1. 0. 0.]\n",
            " [0. 1. 0.]\n",
            " [0. 0. 1.]]\n",
            "[[1. 0. 0.]\n",
            " [0. 1. 0.]\n",
            " [0. 0. 1.]]\n"
          ]
        }
      ]
    },
    {
      "cell_type": "markdown",
      "metadata": {
        "id": "Ufodor_-OAAn"
      },
      "source": [
        "**Esercizio 4:**\n",
        "\n",
        "implementare un esperimento toy per un'algoritmo basilare di regressione lineare \n",
        "\n",
        "1.   generare un set di coppie di dati $(x,y)$ in accordo ad una funzione lineare del tipo: $y = \\boldsymbol x^T \\boldsymbol\\theta + \\epsilon\\,,\\quad \\epsilon\\sim\\mathcal N(0,\\sigma)$, in cui $\\boldsymbol x\\in\\mathbb{R}^{D}$ sono gli input e $y\\in\\mathbb{R}$ sono osservazioni \"rumorose\" ($\\epsilon$ è un numero random gaussiano estratto evento per evento). $\\boldsymbol\\theta\\in\\mathbb{R}^D$ è un vettore di parametri.\n",
        "\n",
        "*   parametri per la simulazione toy: \n",
        "> $x\\in [0, 20]$ \\\\\n",
        "> $D=1$ \\\\\n",
        "> $N=10$ \\\\\n",
        "> $\\sigma=1.5$ \\\\\n",
        "> $\\boldsymbol\\theta = 0.6$\n",
        "\n",
        "\n",
        "2.   siano $\\boldsymbol X = [\\boldsymbol x_1, \\ldots, \\boldsymbol x_N]^T\\in\\mathbb{R}^{N\\times D}\\,,\\quad \\boldsymbol y = [y_1, \\ldots, y_N]^T \\in\\mathbb{R}^N\\,$ i vettori dei dati generati. Calcolare la stima di massima verosimiglianza dei parametri $\\theta$: definita come il valore $\\boldsymbol\\theta^{\\mathrm{ML}}$ che massimizza la verosimiglianza: $\n",
        "p(\\mathcal Y | \\mathcal X, \\boldsymbol\\theta) = \\prod_{n=1}^N p(y_n | \\boldsymbol x_n, \\boldsymbol\\theta)\\,$. Si dimostra che: \n",
        "\n",
        "> $\n",
        "\\boldsymbol\\theta^{\\text{ML}} = (\\boldsymbol X^T\\boldsymbol X)^{-1}\\boldsymbol X^T\\boldsymbol y\\in\\mathbb{R}^D\\,\n",
        "$\n",
        "\n",
        "\n",
        "3.   graficare in un plot $y$ VS $x$ con matplotlib: i punti (X,Y), la funzione con il parametro $\\theta$ vero (ground-truth), e quella ottenuta con $\\theta$ ottenuto con la stima di massima verosimiglianza\n",
        "\n",
        "4.   verificare la qualità del fit ottenuto calcolando l'RMSE (root-mean-squared-error) tra i valori $y$ predetti dalla funzione con i parametri $\\theta$ fittati, e i valori $y$ ottenuti dalla funzione con $\\theta$ ground-truth$:\n",
        "\n",
        "> $\n",
        "\\text{RMSE} = \\sqrt{\\frac{1}{N}\\sum_{n=1}^N(y_n^\\text{true} - y_n^\\text{pred})^2}\n",
        "$"
      ]
    },
    {
      "cell_type": "markdown",
      "source": [
        ""
      ],
      "metadata": {
        "id": "DJ3JBqkJq2wW"
      }
    },
    {
      "cell_type": "code",
      "metadata": {
        "id": "5-chEj1s_YO6"
      },
      "source": [
        "#codice"
      ],
      "execution_count": null,
      "outputs": []
    },
    {
      "cell_type": "code",
      "metadata": {
        "id": "lkmP93PRlQr6",
        "colab": {
          "base_uri": "https://localhost:8080/"
        },
        "cellView": "form",
        "outputId": "9ad8266d-17a5-4b28-cdb3-0b84fcba08f5"
      },
      "source": [
        "#@title Soluzione 4A\n",
        "import numpy as np\n",
        "import scipy.linalg\n",
        "import matplotlib.pyplot as plt\n",
        "%matplotlib inline\n",
        "\n",
        "# generazione del campione\n",
        "\n",
        "theta_true = 0.6\n",
        "sigma = 1.5\n",
        "x = np.linspace(0,20,10)\n",
        "\n",
        "y_true = x*theta_true\n",
        "\n",
        "y = y_true + np.random.normal(0.0,sigma, size=x.shape)\n",
        "\n",
        "print(x)\n",
        "print(y_true)\n",
        "print(y)"
      ],
      "execution_count": null,
      "outputs": [
        {
          "output_type": "stream",
          "name": "stdout",
          "text": [
            "[ 0.          2.22222222  4.44444444  6.66666667  8.88888889 11.11111111\n",
            " 13.33333333 15.55555556 17.77777778 20.        ]\n",
            "[ 0.          1.33333333  2.66666667  4.          5.33333333  6.66666667\n",
            "  8.          9.33333333 10.66666667 12.        ]\n",
            "[ 0.28061075 -0.52885715  4.46192018  2.64384745  7.439228    8.54245267\n",
            " 13.67139489 10.13640792  8.89208786 10.03554061]\n"
          ]
        }
      ]
    },
    {
      "cell_type": "code",
      "metadata": {
        "colab": {
          "base_uri": "https://localhost:8080/"
        },
        "cellView": "form",
        "id": "ei5ep93yAqEL",
        "outputId": "d862ab7b-186c-43f9-a71e-0796626384f6"
      },
      "source": [
        "#@title Soluzione 4B\n",
        "# stima ML theta\n",
        "\n",
        "def th_ML(x):\n",
        "  # reshape x from N to (N,1)\n",
        "  x = x.reshape((10,1))\n",
        "  #theta_ml = (x^tx)^-1 x^t y\n",
        "  xT = np.transpose(x)\n",
        "  xTx = np.dot(xT,x)\n",
        "  xTx_inv = np.linalg.inv(xTx)\n",
        "  xTy = np.dot(xT,y)\n",
        "  return np.dot(xTx_inv, xTy)\n",
        "\n",
        "theta_ml = th_ML(x)\n",
        "print('True theta: ', theta_true, ' VS theta_ml:', theta_ml[0] )"
      ],
      "execution_count": null,
      "outputs": [
        {
          "output_type": "stream",
          "name": "stdout",
          "text": [
            "True theta:  0.6  VS theta_ml: 0.6366876222607069\n"
          ]
        }
      ]
    },
    {
      "cell_type": "code",
      "metadata": {
        "colab": {
          "base_uri": "https://localhost:8080/",
          "height": 279
        },
        "cellView": "form",
        "id": "pHsSyAlODzEe",
        "outputId": "e9fbe741-63d2-42b5-d2be-9a83d88b6ce1"
      },
      "source": [
        "#@title Soluzione 4C\n",
        "#plot\n",
        "import matplotlib.pyplot as plt\n",
        "\n",
        "x_test = np.linspace(0,20,100)\n",
        "\n",
        "y_pred = x_test*theta_ml[0]\n",
        "y_true = x_test*theta_true\n",
        "\n",
        "\n",
        "plt.figure()\n",
        "plt.plot(x, y, '+', markersize=10)\n",
        "plt.plot(x_test, y_pred, color='orange')\n",
        "plt.plot(x_test, y_true, color='green')\n",
        "plt.xlabel(\"$x$\")\n",
        "plt.ylabel(\"$y$\");\n",
        "\n"
      ],
      "execution_count": null,
      "outputs": [
        {
          "output_type": "display_data",
          "data": {
            "image/png": "[encoded data removed]",
            "text/plain": [
              "<Figure size 432x288 with 1 Axes>"
            ]
          },
          "metadata": {
            "needs_background": "light"
          }
        }
      ]
    },
    {
      "cell_type": "code",
      "metadata": {
        "colab": {
          "base_uri": "https://localhost:8080/"
        },
        "cellView": "form",
        "id": "KvERpjxEGeYn",
        "outputId": "577beeb2-e2ef-4365-a828-a90c785ab406"
      },
      "source": [
        "#@title Soluzione 4D\n",
        "# calcolo RMSE\n",
        "\n",
        "Ntot = y_true.shape[0]\n",
        "\n",
        "import time\n",
        "start = time.time()\n",
        "mse = np.sum(np.square(y_true-y_pred))/Ntot\n",
        "rmse = np.sqrt(mse)\n",
        "stop = time.time()\n",
        "print('RMSE: ', rmse, ' elapsed time: ', stop-start)\n",
        "\n",
        "# NB poteva essere calcolato in modo meno efficiente con un loop in puro python\n",
        "\n",
        "import math\n",
        "start = time.time()\n",
        "mse = 0.0\n",
        "for i in range(Ntot):\n",
        "  mse += (y_true[i]-y_pred[i])**2\n",
        "\n",
        "mse /= Ntot\n",
        "rmse = math.sqrt(mse)\n",
        "stop = time.time()\n",
        "print('RMSE: ', rmse, ' elapsed time: ', stop-start)\n",
        "\n"
      ],
      "execution_count": null,
      "outputs": [
        {
          "output_type": "stream",
          "name": "stdout",
          "text": [
            "RMSE:  0.4247006026445915  elapsed time:  0.0002148151397705078\n",
            "RMSE:  0.4247006026445915  elapsed time:  0.0003578662872314453\n"
          ]
        }
      ]
    },
    {
      "cell_type": "markdown",
      "metadata": {
        "id": "4mUJonfQw8AW"
      },
      "source": [
        "**Per casa: estensione del problema con variabili *augmented***\n",
        "\n",
        "se si volesse tenere conto di un eventuale intercetta: $y = \\theta_0 + \\boldsymbol x^T \\boldsymbol\\theta_1 + \\epsilon\\,,\\quad \\epsilon\\sim\\mathcal N(0,\\sigma)$, il modo più semplice di procedere utilizzando lo stesso codice e formule usate nel caso senza intercetta, è quello di definire una nuova variabile *aumentata*: $z = [1, x]\\in R^{D+1}$, per cui: $y = \\boldsymbol z^T \\boldsymbol\\theta + \\epsilon\\,$, in cui $\\boldsymbol\\theta = [\\theta_0, \\boldsymbol\\theta_1]$.\n",
        "\n",
        "Provare a modificare il codice scritto nel esercizio 4 in accordo a questa idea."
      ]
    },
    {
      "cell_type": "markdown",
      "metadata": {
        "id": "HDsDu14xOKSM"
      },
      "source": [
        "**Esercizio 5:**\n",
        "\n",
        "scrivere in python una funzione 2D che rappresenti la funzione matematica: $f(x,y) = x^2-y^2-xy$\n",
        "\n",
        "*   graficarla con matplotlib\n",
        "*   graficare le curve di livello (isocurve della funzione)\n"
      ]
    },
    {
      "cell_type": "code",
      "metadata": {
        "id": "Lg3L49R-OE8j"
      },
      "source": [
        "#codice"
      ],
      "execution_count": null,
      "outputs": []
    },
    {
      "cell_type": "code",
      "metadata": {
        "colab": {
          "base_uri": "https://localhost:8080/",
          "height": 299
        },
        "cellView": "form",
        "id": "LEksDkstK3r-",
        "outputId": "9b3b5992-9d9e-41bf-fca0-8be3d4e235a0"
      },
      "source": [
        "#@title Soluzione 5\n",
        "import matplotlib.pyplot as plt\n",
        "\n",
        "def fun_2d(x,y):\n",
        "  return x**2-y**2+x*y\n",
        "\n",
        "xx = np.arange(-10,10,0.3)\n",
        "yy = np.arange(-10,10,0.3)\n",
        "X,Y = np.meshgrid(xx,yy)\n",
        "\n",
        "Z = fun_2d(X,Y)\n",
        "plt.scatter(X,Y, c=Z, cmap='RdBu')\n",
        "plt.colorbar() # adding the colobar on the right\n",
        "cset = plt.contour(X,Y,Z,linewidths=2,cmap='Set2')\n",
        "plt.clabel(cset,inline=True,fmt='%1.1f',fontsize=10)\n",
        "plt.title('$f(x,y)=x^2-y^2-xy$')\n",
        "plt.xlabel('x')\n",
        "plt.ylabel('y')\n",
        "plt.show()\n"
      ],
      "execution_count": null,
      "outputs": [
        {
          "output_type": "display_data",
          "data": {
            "image/png": "[encoded data removed]",
            "text/plain": [
              "<Figure size 432x288 with 2 Axes>"
            ]
          },
          "metadata": {
            "needs_background": "light"
          }
        }
      ]
    }
  ]
}