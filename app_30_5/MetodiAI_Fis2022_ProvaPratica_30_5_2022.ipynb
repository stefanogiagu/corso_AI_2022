{
  "nbformat": 4,
  "nbformat_minor": 0,
  "metadata": {
    "colab": {
      "name": "MetodiAI_Fis2022_ProvaPratica_30.5.2022.ipynb",
      "provenance": [],
      "collapsed_sections": [],
      "authorship_tag": "ABX9TyOLjQAFTjKl5KEB8rBquycw",
      "include_colab_link": true
    },
    "kernelspec": {
      "display_name": "Python 3",
      "name": "python3"
    },
    "language_info": {
      "name": "python"
    },
    "accelerator": "GPU"
  },
  "cells": [
    {
      "cell_type": "markdown",
      "metadata": {
        "id": "view-in-github",
        "colab_type": "text"
      },
      "source": [
        "<a href=\"https://colab.research.google.com/github/stefanogiagu/corso_AI_2022/blob/main/app_30_5/MetodiAI_Fis2022_ProvaPratica_30_5_2022.ipynb\" target=\"_parent\"><img src=\"https://colab.research.google.com/assets/colab-badge.svg\" alt=\"Open In Colab\"/></a>"
      ]
    },
    {
      "cell_type": "markdown",
      "metadata": {
        "id": "xM8c-0uxqDVB"
      },
      "source": [
        "# Prova Pratica - Metodi AI e Machine Learning per la fisica \n",
        "### 30.5.2025 - AA 2021/22 - Docente: S. Giagu\n",
        "\n",
        "\n",
        "> **Regole:**\n",
        "\n",
        "*   **tempo a disposizione: 2h** \n",
        "\n",
        "\n",
        "*   compilare con i vostri dati i campi della cella che segue e poi eseguire la cella verificando che i dati printati corrispondano\n",
        "*   risolvere i quesiti/compiti indicati nella cella *Descrizione del compito* usando questo notebook \n",
        "*   una volta completato il compito inviare il notebook (*scaricandolo via File->Download-> Download .ipynb*) via email all'indirizzo: *stefano.giagu [AT] uniroma1.it*\n"
      ]
    },
    {
      "cell_type": "code",
      "metadata": {
        "colab": {
          "base_uri": "https://localhost:8080/"
        },
        "id": "cAUd9VHBqlPh",
        "outputId": "d2250362-536b-4612-9060-975bece34681",
        "cellView": "form"
      },
      "source": [
        "#@ Dati Personali\n",
        "import os\n",
        "\n",
        "Nome = 'Stefano'  #@param {type: \"string\"}\n",
        "Cognome = 'Giagu' #@param {type: \"string\"}\n",
        "NumeroMatricola = 12345678 #@param {type: \"number\"}\n",
        "\n",
        "if NumeroMatricola == 12345678:\n",
        "  print('\\033[1;31m Inserisci il numero di matricola corretto!!!!') \n",
        "else:\n",
        "  print('Downloading datasets')\n",
        "  !rm -rf dataset_datteri.xlsx\n",
        "  !wget http://giagu.web.cern.ch/giagu/CERN/dataset_datteri.xlsx\n",
        "  print('Done')"
      ],
      "execution_count": null,
      "outputs": [
        {
          "output_type": "stream",
          "name": "stdout",
          "text": [
            "\u001b[1;31m Inserisci il numero di matricola corretto!!!!\n"
          ]
        }
      ]
    },
    {
      "cell_type": "markdown",
      "metadata": {
        "id": "TNv4Mq5jrOS5"
      },
      "source": [
        "# **Descrizione del compito:**\n",
        "\n",
        "Viene fornito il dataset in fromato excel *dataset_datteri.xlsx* che contiene *898* esempi di 34 feature (legate a shape, morofologia, colore, etc.)legate alla descrizione di datteri, più una label (in formato di stringa) che classifica i datteri in diverse tipologie.\n",
        "\n",
        "Si richiede:\n",
        "\n",
        "1.   leggere gli eventi del dataset con pandas (suggerimento: usare a funzione *read_excel* di pandas), analizzare le caratteristiche del dataset, e graficare con matplotlib in una matrice di 6x6 plot gli histogrammi delle distribuzioni delle 34 feature\n",
        "\n",
        "2.   addestrare un classificatore tipo discriminante **lineare** ($\\bf{y} = W\\bf{x} + b$), basato su una rete densa di tipo shallow, al task di classificazione del tipo di dattero e stimarne le prestazioni in termini di accuracy, precision, recall, F1 score e matrice di confusione\n",
        "\n",
        "3.  addestrare una DNN basata su MLP per lo stesso compito e valutare il miglioramento di prestazioni rispetto al discriminante lineare del punto precedente\n",
        "\n",
        "Commentare in modo sintetico le scelte e operazioni eseguite nello svolgimento dei vari punti del compito."
      ]
    },
    {
      "cell_type": "code",
      "metadata": {
        "id": "-04NQU3L2kId"
      },
      "source": [
        "# codice ..."
      ],
      "execution_count": null,
      "outputs": []
    }
  ]
}