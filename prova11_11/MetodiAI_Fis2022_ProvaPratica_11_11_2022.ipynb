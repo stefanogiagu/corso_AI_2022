{
  "nbformat": 4,
  "nbformat_minor": 0,
  "metadata": {
    "colab": {
      "provenance": [],
      "collapsed_sections": [],
      "mount_file_id": "1Be15HHuRK0A4k3g2xO0dQkyesb8W0avw",
      "authorship_tag": "ABX9TyOCY76LZrJzxMufoR1Gd2Gy",
      "include_colab_link": true
    },
    "kernelspec": {
      "name": "python3",
      "display_name": "Python 3"
    },
    "language_info": {
      "name": "python"
    }
  },
  "cells": [
    {
      "cell_type": "markdown",
      "metadata": {
        "id": "view-in-github",
        "colab_type": "text"
      },
      "source": [
        "<a href=\"https://colab.research.google.com/github/stefanogiagu/corso_AI_2022/blob/main/prova11_11/MetodiAI_Fis2022_ProvaPratica_11_11_2022.ipynb\" target=\"_parent\"><img src=\"https://colab.research.google.com/assets/colab-badge.svg\" alt=\"Open In Colab\"/></a>"
      ]
    },
    {
      "cell_type": "markdown",
      "metadata": {
        "id": "xM8c-0uxqDVB"
      },
      "source": [
        "# Prova Pratica - Metodi AI e Machine Learning per la fisica \n",
        "### 11.11.2022 - AA 2021/22 - Docente: S. Giagu\n",
        "\n",
        "\n",
        "> **Regole:**\n",
        "\n",
        "*   **tempo a disposizione:** 2h\n",
        "\n",
        "*   compilare con i vostri dati i campi della cella che segue e poi eseguire la cella verificando che i dati printati corrispondano\n",
        "*   risolvere i quesiti/compiti indicati nella cella *Descrizione del compito* usando questo notebook \n",
        "*   una volta completato il compito sottomettere il notebook nel apposito folder sul sito e-learning del corso disponibile al link: <p>\n",
        "[consegna esonero](https://elearning.uniroma1.it/mod/assign/view.php?id=512507) <p>\n",
        "NOTA BENE: una volta sottomesso il notebook non sono più possibili ulteriori modifiche"
      ]
    },
    {
      "cell_type": "code",
      "metadata": {
        "id": "cAUd9VHBqlPh",
        "colab": {
          "base_uri": "https://localhost:8080/"
        },
        "outputId": "4eca8ac0-6add-4adc-fc2b-e8ff5a615f2c",
        "cellView": "form"
      },
      "source": [
        "#@ Dati Personali\n",
        "import os\n",
        "\n",
        "Nome = 'Stefano'  #@param {type: \"string\"}\n",
        "Cognome = 'Giagu' #@param {type: \"string\"}\n",
        "NumeroMatricola = 12345678 #@param {type: \"number\"}\n",
        "\n",
        "if NumeroMatricola == 12345678:\n",
        "  print('\\033[1;31m Inserisci il numero di matricola corretto!!!!') \n",
        "else:\n",
        "  !rm -rf fashion-mnist_10k.csv\n",
        "  !wget http://giagu.web.cern.ch/giagu/CERN/fashion-mnist_10k.csv\n",
        "  print('Done')"
      ],
      "execution_count": 2,
      "outputs": [
        {
          "output_type": "stream",
          "name": "stdout",
          "text": [
            "\u001b[1;31m Inserisci il numero di matricola corretto!!!!\n"
          ]
        }
      ]
    },
    {
      "cell_type": "markdown",
      "metadata": {
        "id": "TNv4Mq5jrOS5"
      },
      "source": [
        "# Descrizione del compito:\n",
        "\n",
        "Viene fornito il dataset fashion-mnist in formato csv (*fashion-mnist_10k.csv*), che contiene 10K esempi di immagini in scala di grigi di dimensione 28x28 pixels, appartenenti a 10 classi di oggetti di viestiario del catalogo Zalando. I valori dei pixels e delle label di ogni immagine sono registrati come colonne nel file csv (ogni riga corrisponde ad un'immagine, la prima colonna indica la label, e le restanti il valore a 8bit (intero tra 0 e 255) dell'intensità di ciascuno dei 784 pixel. \n",
        "\n",
        "È richiesto di:\n",
        "\n",
        "0.   leggere il dataset fashion-mnist con il metodo che si ritiene più opportuno, convertire i valori letti in tensori numpy di dimensione (10000,28,28);\n",
        "1.   plottare un esempio di immagine di ogni classe in una matrice di 2 righe per 5 colonne, usando la libreria matplotlib;\n",
        "2.   applicare una trasformazione PCA ai dati e graficare i punti nello spazio delle prime due componenti principali, colorando ogni punto in accordo alla rispettiva label. Riportare il valore della varianza spiegata da ciascuna delle due prime componenti principali;\n",
        "3.   applicare un'algoritmo di clustering basato su scikitlearn *AgglomerativeClustering*, fissando i parametri di input dell'algoritmo in modo tale che il numero di cluster non sia fissato ma venga trovato dall'algoritmo stesso sulla base di una soglia di distanza (usare *n_cluster=None* e *distance_threshold=value*), testando diversi valori della threshold *value* usata sulla distanza, graficando il numero di cluster trovati in funzione di *value*;\n",
        "4.   graficare i punti nello spazio delle prime due componenti principali, colorando ogni punto in accordo alla label di cluster trovata dall'algoritmo di clustering (addestrato per il valore di *value* che fornisce una stima del numero di cluster la più vicina al valore di classi del campione), e confrontare il risultato con quanto ottenuto nel punto (2.).\n",
        "\n",
        "* commentare opportunamente i risultati ottenuti in ogni punto"
      ]
    },
    {
      "cell_type": "code",
      "metadata": {
        "id": "-04NQU3L2kId"
      },
      "source": [
        "# codice ..."
      ],
      "execution_count": null,
      "outputs": []
    }
  ]
}